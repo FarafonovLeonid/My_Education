{
 "cells": [
  {
   "cell_type": "code",
   "execution_count": 1,
   "id": "b4e10814",
   "metadata": {
    "_cell_guid": "b1076dfc-b9ad-4769-8c92-a6c4dae69d19",
    "_uuid": "8f2839f25d086af736a60e9eeb907d3b93b6e0e5",
    "execution": {
     "iopub.execute_input": "2023-12-25T07:07:35.801826Z",
     "iopub.status.busy": "2023-12-25T07:07:35.801136Z",
     "iopub.status.idle": "2023-12-25T07:07:36.120836Z",
     "shell.execute_reply": "2023-12-25T07:07:36.119943Z"
    },
    "papermill": {
     "duration": 0.330447,
     "end_time": "2023-12-25T07:07:36.122675",
     "exception": false,
     "start_time": "2023-12-25T07:07:35.792228",
     "status": "completed"
    },
    "tags": []
   },
   "outputs": [
    {
     "name": "stdout",
     "output_type": "stream",
     "text": [
      "/kaggle/input/autoam-car-price-prediction/sample_submission.csv\n",
      "/kaggle/input/autoam-car-price-prediction/train.csv\n",
      "/kaggle/input/autoam-car-price-prediction/test.csv\n"
     ]
    }
   ],
   "source": [
    "# This Python 3 environment comes with many helpful analytics libraries installed\n",
    "# It is defined by the kaggle/python Docker image: https://github.com/kaggle/docker-python\n",
    "# For example, here's several helpful packages to load\n",
    "\n",
    "import numpy as np # linear algebra\n",
    "import pandas as pd # data processing, CSV file I/O (e.g. pd.read_csv)\n",
    "\n",
    "# Input data files are available in the read-only \"../input/\" directory\n",
    "# For example, running this (by clicking run or pressing Shift+Enter) will list all files under the input directory\n",
    "\n",
    "import os\n",
    "for dirname, _, filenames in os.walk('/kaggle/input'):\n",
    "    for filename in filenames:\n",
    "        print(os.path.join(dirname, filename))\n",
    "\n",
    "# You can write up to 20GB to the current directory (/kaggle/working/) that gets preserved as output when you create a version using \"Save & Run All\" \n",
    "# You can also write temporary files to /kaggle/temp/, but they won't be saved outside of the current session"
   ]
  },
  {
   "cell_type": "code",
   "execution_count": 2,
   "id": "4085d45b",
   "metadata": {
    "execution": {
     "iopub.execute_input": "2023-12-25T07:07:36.137963Z",
     "iopub.status.busy": "2023-12-25T07:07:36.137519Z",
     "iopub.status.idle": "2023-12-25T07:07:36.174176Z",
     "shell.execute_reply": "2023-12-25T07:07:36.173175Z"
    },
    "papermill": {
     "duration": 0.047029,
     "end_time": "2023-12-25T07:07:36.176495",
     "exception": false,
     "start_time": "2023-12-25T07:07:36.129466",
     "status": "completed"
    },
    "tags": []
   },
   "outputs": [],
   "source": [
    "train = pd.read_csv('/kaggle/input/autoam-car-price-prediction/train.csv')\n",
    "test = pd.read_csv('/kaggle/input/autoam-car-price-prediction/test.csv')"
   ]
  },
  {
   "cell_type": "code",
   "execution_count": 3,
   "id": "e8ee1ca9",
   "metadata": {
    "execution": {
     "iopub.execute_input": "2023-12-25T07:07:36.191980Z",
     "iopub.status.busy": "2023-12-25T07:07:36.191396Z",
     "iopub.status.idle": "2023-12-25T07:07:36.224115Z",
     "shell.execute_reply": "2023-12-25T07:07:36.223218Z"
    },
    "papermill": {
     "duration": 0.042624,
     "end_time": "2023-12-25T07:07:36.226108",
     "exception": false,
     "start_time": "2023-12-25T07:07:36.183484",
     "status": "completed"
    },
    "tags": []
   },
   "outputs": [
    {
     "data": {
      "text/html": [
       "<div>\n",
       "<style scoped>\n",
       "    .dataframe tbody tr th:only-of-type {\n",
       "        vertical-align: middle;\n",
       "    }\n",
       "\n",
       "    .dataframe tbody tr th {\n",
       "        vertical-align: top;\n",
       "    }\n",
       "\n",
       "    .dataframe thead th {\n",
       "        text-align: right;\n",
       "    }\n",
       "</style>\n",
       "<table border=\"1\" class=\"dataframe\">\n",
       "  <thead>\n",
       "    <tr style=\"text-align: right;\">\n",
       "      <th></th>\n",
       "      <th>model</th>\n",
       "      <th>year</th>\n",
       "      <th>motor_type</th>\n",
       "      <th>running</th>\n",
       "      <th>wheel</th>\n",
       "      <th>color</th>\n",
       "      <th>type</th>\n",
       "      <th>status</th>\n",
       "      <th>motor_volume</th>\n",
       "      <th>price</th>\n",
       "    </tr>\n",
       "  </thead>\n",
       "  <tbody>\n",
       "    <tr>\n",
       "      <th>0</th>\n",
       "      <td>toyota</td>\n",
       "      <td>2022</td>\n",
       "      <td>petrol</td>\n",
       "      <td>3000  km</td>\n",
       "      <td>left</td>\n",
       "      <td>skyblue</td>\n",
       "      <td>sedan</td>\n",
       "      <td>excellent</td>\n",
       "      <td>2.0</td>\n",
       "      <td>24500</td>\n",
       "    </tr>\n",
       "    <tr>\n",
       "      <th>1</th>\n",
       "      <td>mercedes-benz</td>\n",
       "      <td>2014</td>\n",
       "      <td>petrol</td>\n",
       "      <td>132000  km</td>\n",
       "      <td>left</td>\n",
       "      <td>black</td>\n",
       "      <td>sedan</td>\n",
       "      <td>excellent</td>\n",
       "      <td>2.0</td>\n",
       "      <td>25500</td>\n",
       "    </tr>\n",
       "    <tr>\n",
       "      <th>2</th>\n",
       "      <td>kia</td>\n",
       "      <td>2018</td>\n",
       "      <td>petrol</td>\n",
       "      <td>95000  miles</td>\n",
       "      <td>left</td>\n",
       "      <td>other</td>\n",
       "      <td>sedan</td>\n",
       "      <td>excellent</td>\n",
       "      <td>2.0</td>\n",
       "      <td>11700</td>\n",
       "    </tr>\n",
       "    <tr>\n",
       "      <th>3</th>\n",
       "      <td>mercedes-benz</td>\n",
       "      <td>2002</td>\n",
       "      <td>petrol</td>\n",
       "      <td>137000  miles</td>\n",
       "      <td>left</td>\n",
       "      <td>golden</td>\n",
       "      <td>sedan</td>\n",
       "      <td>excellent</td>\n",
       "      <td>3.2</td>\n",
       "      <td>12000</td>\n",
       "    </tr>\n",
       "    <tr>\n",
       "      <th>4</th>\n",
       "      <td>mercedes-benz</td>\n",
       "      <td>2017</td>\n",
       "      <td>petrol</td>\n",
       "      <td>130000  km</td>\n",
       "      <td>left</td>\n",
       "      <td>black</td>\n",
       "      <td>sedan</td>\n",
       "      <td>good</td>\n",
       "      <td>2.0</td>\n",
       "      <td>26000</td>\n",
       "    </tr>\n",
       "    <tr>\n",
       "      <th>...</th>\n",
       "      <td>...</td>\n",
       "      <td>...</td>\n",
       "      <td>...</td>\n",
       "      <td>...</td>\n",
       "      <td>...</td>\n",
       "      <td>...</td>\n",
       "      <td>...</td>\n",
       "      <td>...</td>\n",
       "      <td>...</td>\n",
       "      <td>...</td>\n",
       "    </tr>\n",
       "    <tr>\n",
       "      <th>1637</th>\n",
       "      <td>hyundai</td>\n",
       "      <td>2017</td>\n",
       "      <td>petrol</td>\n",
       "      <td>120000  miles</td>\n",
       "      <td>left</td>\n",
       "      <td>white</td>\n",
       "      <td>sedan</td>\n",
       "      <td>good</td>\n",
       "      <td>2.0</td>\n",
       "      <td>12400</td>\n",
       "    </tr>\n",
       "    <tr>\n",
       "      <th>1638</th>\n",
       "      <td>toyota</td>\n",
       "      <td>2014</td>\n",
       "      <td>petrol</td>\n",
       "      <td>170000  km</td>\n",
       "      <td>left</td>\n",
       "      <td>black</td>\n",
       "      <td>sedan</td>\n",
       "      <td>good</td>\n",
       "      <td>2.0</td>\n",
       "      <td>16500</td>\n",
       "    </tr>\n",
       "    <tr>\n",
       "      <th>1639</th>\n",
       "      <td>nissan</td>\n",
       "      <td>2018</td>\n",
       "      <td>petrol</td>\n",
       "      <td>68900  miles</td>\n",
       "      <td>left</td>\n",
       "      <td>blue</td>\n",
       "      <td>suv</td>\n",
       "      <td>good</td>\n",
       "      <td>2.0</td>\n",
       "      <td>19500</td>\n",
       "    </tr>\n",
       "    <tr>\n",
       "      <th>1640</th>\n",
       "      <td>nissan</td>\n",
       "      <td>2019</td>\n",
       "      <td>petrol</td>\n",
       "      <td>31000  miles</td>\n",
       "      <td>left</td>\n",
       "      <td>black</td>\n",
       "      <td>suv</td>\n",
       "      <td>excellent</td>\n",
       "      <td>2.0</td>\n",
       "      <td>19500</td>\n",
       "    </tr>\n",
       "    <tr>\n",
       "      <th>1641</th>\n",
       "      <td>toyota</td>\n",
       "      <td>2022</td>\n",
       "      <td>petrol</td>\n",
       "      <td>20  km</td>\n",
       "      <td>left</td>\n",
       "      <td>white</td>\n",
       "      <td>sedan</td>\n",
       "      <td>excellent</td>\n",
       "      <td>2.0</td>\n",
       "      <td>28500</td>\n",
       "    </tr>\n",
       "  </tbody>\n",
       "</table>\n",
       "<p>1642 rows × 10 columns</p>\n",
       "</div>"
      ],
      "text/plain": [
       "              model  year motor_type        running wheel    color   type  \\\n",
       "0            toyota  2022     petrol       3000  km  left  skyblue  sedan   \n",
       "1     mercedes-benz  2014     petrol     132000  km  left    black  sedan   \n",
       "2               kia  2018     petrol   95000  miles  left    other  sedan   \n",
       "3     mercedes-benz  2002     petrol  137000  miles  left   golden  sedan   \n",
       "4     mercedes-benz  2017     petrol     130000  km  left    black  sedan   \n",
       "...             ...   ...        ...            ...   ...      ...    ...   \n",
       "1637        hyundai  2017     petrol  120000  miles  left    white  sedan   \n",
       "1638         toyota  2014     petrol     170000  km  left    black  sedan   \n",
       "1639         nissan  2018     petrol   68900  miles  left     blue    suv   \n",
       "1640         nissan  2019     petrol   31000  miles  left    black    suv   \n",
       "1641         toyota  2022     petrol         20  km  left    white  sedan   \n",
       "\n",
       "         status  motor_volume  price  \n",
       "0     excellent           2.0  24500  \n",
       "1     excellent           2.0  25500  \n",
       "2     excellent           2.0  11700  \n",
       "3     excellent           3.2  12000  \n",
       "4          good           2.0  26000  \n",
       "...         ...           ...    ...  \n",
       "1637       good           2.0  12400  \n",
       "1638       good           2.0  16500  \n",
       "1639       good           2.0  19500  \n",
       "1640  excellent           2.0  19500  \n",
       "1641  excellent           2.0  28500  \n",
       "\n",
       "[1642 rows x 10 columns]"
      ]
     },
     "execution_count": 3,
     "metadata": {},
     "output_type": "execute_result"
    }
   ],
   "source": [
    "train"
   ]
  },
  {
   "cell_type": "code",
   "execution_count": 4,
   "id": "1789f07b",
   "metadata": {
    "execution": {
     "iopub.execute_input": "2023-12-25T07:07:36.242681Z",
     "iopub.status.busy": "2023-12-25T07:07:36.241794Z",
     "iopub.status.idle": "2023-12-25T07:07:38.042607Z",
     "shell.execute_reply": "2023-12-25T07:07:38.041936Z"
    },
    "papermill": {
     "duration": 1.811563,
     "end_time": "2023-12-25T07:07:38.044935",
     "exception": false,
     "start_time": "2023-12-25T07:07:36.233372",
     "status": "completed"
    },
    "tags": []
   },
   "outputs": [],
   "source": [
    "import matplotlib\n",
    "import matplotlib.pyplot as plt\n",
    "from sklearn.metrics import accuracy_score\n",
    "from sklearn.model_selection import GridSearchCV, train_test_split\n",
    "from sklearn.pipeline import Pipeline\n",
    "from sklearn.preprocessing import StandardScaler\n",
    "import category_encoders as ce"
   ]
  },
  {
   "cell_type": "code",
   "execution_count": 5,
   "id": "a4598817",
   "metadata": {
    "execution": {
     "iopub.execute_input": "2023-12-25T07:07:38.061268Z",
     "iopub.status.busy": "2023-12-25T07:07:38.060901Z",
     "iopub.status.idle": "2023-12-25T07:07:38.066820Z",
     "shell.execute_reply": "2023-12-25T07:07:38.065609Z"
    },
    "papermill": {
     "duration": 0.017321,
     "end_time": "2023-12-25T07:07:38.069639",
     "exception": false,
     "start_time": "2023-12-25T07:07:38.052318",
     "status": "completed"
    },
    "tags": []
   },
   "outputs": [],
   "source": [
    "def convert_to_km(value):\n",
    "    numeric_value, unit = value.split()\n",
    "    numeric_value = float(numeric_value)\n",
    "    if unit.lower() == 'miles':\n",
    "        return numeric_value * 1.60934\n",
    "    elif unit.lower() == 'km':\n",
    "        return numeric_value\n",
    "    else:\n",
    "        return None"
   ]
  },
  {
   "cell_type": "code",
   "execution_count": 6,
   "id": "80a286b5",
   "metadata": {
    "execution": {
     "iopub.execute_input": "2023-12-25T07:07:38.085526Z",
     "iopub.status.busy": "2023-12-25T07:07:38.085185Z",
     "iopub.status.idle": "2023-12-25T07:07:38.101126Z",
     "shell.execute_reply": "2023-12-25T07:07:38.099816Z"
    },
    "papermill": {
     "duration": 0.026875,
     "end_time": "2023-12-25T07:07:38.103741",
     "exception": false,
     "start_time": "2023-12-25T07:07:38.076866",
     "status": "completed"
    },
    "tags": []
   },
   "outputs": [],
   "source": [
    "lst_duplicated = list(train[train.duplicated()].index)"
   ]
  },
  {
   "cell_type": "code",
   "execution_count": 7,
   "id": "6fb050bb",
   "metadata": {
    "execution": {
     "iopub.execute_input": "2023-12-25T07:07:38.119862Z",
     "iopub.status.busy": "2023-12-25T07:07:38.119520Z",
     "iopub.status.idle": "2023-12-25T07:07:38.124842Z",
     "shell.execute_reply": "2023-12-25T07:07:38.123781Z"
    },
    "papermill": {
     "duration": 0.015579,
     "end_time": "2023-12-25T07:07:38.126598",
     "exception": false,
     "start_time": "2023-12-25T07:07:38.111019",
     "status": "completed"
    },
    "tags": []
   },
   "outputs": [],
   "source": [
    "train.drop(index=lst_duplicated, inplace=True)"
   ]
  },
  {
   "cell_type": "code",
   "execution_count": 8,
   "id": "03190608",
   "metadata": {
    "execution": {
     "iopub.execute_input": "2023-12-25T07:07:38.142619Z",
     "iopub.status.busy": "2023-12-25T07:07:38.141720Z",
     "iopub.status.idle": "2023-12-25T07:07:38.148591Z",
     "shell.execute_reply": "2023-12-25T07:07:38.147499Z"
    },
    "papermill": {
     "duration": 0.01691,
     "end_time": "2023-12-25T07:07:38.150751",
     "exception": false,
     "start_time": "2023-12-25T07:07:38.133841",
     "status": "completed"
    },
    "tags": []
   },
   "outputs": [],
   "source": [
    "train['running_numeric'] = train['running'].apply(convert_to_km)"
   ]
  },
  {
   "cell_type": "code",
   "execution_count": 9,
   "id": "4e6daefe",
   "metadata": {
    "execution": {
     "iopub.execute_input": "2023-12-25T07:07:38.167451Z",
     "iopub.status.busy": "2023-12-25T07:07:38.166915Z",
     "iopub.status.idle": "2023-12-25T07:07:38.172155Z",
     "shell.execute_reply": "2023-12-25T07:07:38.171111Z"
    },
    "papermill": {
     "duration": 0.016423,
     "end_time": "2023-12-25T07:07:38.174445",
     "exception": false,
     "start_time": "2023-12-25T07:07:38.158022",
     "status": "completed"
    },
    "tags": []
   },
   "outputs": [],
   "source": [
    "train.drop(columns=['wheel', 'running'], inplace=True)"
   ]
  },
  {
   "cell_type": "code",
   "execution_count": 10,
   "id": "eab8ceb8",
   "metadata": {
    "execution": {
     "iopub.execute_input": "2023-12-25T07:07:38.191436Z",
     "iopub.status.busy": "2023-12-25T07:07:38.190843Z",
     "iopub.status.idle": "2023-12-25T07:07:38.194785Z",
     "shell.execute_reply": "2023-12-25T07:07:38.194158Z"
    },
    "papermill": {
     "duration": 0.01542,
     "end_time": "2023-12-25T07:07:38.197007",
     "exception": false,
     "start_time": "2023-12-25T07:07:38.181587",
     "status": "completed"
    },
    "tags": []
   },
   "outputs": [],
   "source": [
    "from sklearn.preprocessing import OrdinalEncoder, LabelEncoder"
   ]
  },
  {
   "cell_type": "code",
   "execution_count": 11,
   "id": "930a26fe",
   "metadata": {
    "execution": {
     "iopub.execute_input": "2023-12-25T07:07:38.212632Z",
     "iopub.status.busy": "2023-12-25T07:07:38.212291Z",
     "iopub.status.idle": "2023-12-25T07:07:38.216380Z",
     "shell.execute_reply": "2023-12-25T07:07:38.215319Z"
    },
    "papermill": {
     "duration": 0.014555,
     "end_time": "2023-12-25T07:07:38.218855",
     "exception": false,
     "start_time": "2023-12-25T07:07:38.204300",
     "status": "completed"
    },
    "tags": []
   },
   "outputs": [],
   "source": [
    "encoder = ce.TargetEncoder(return_df=True)"
   ]
  },
  {
   "cell_type": "code",
   "execution_count": 12,
   "id": "cea3425c",
   "metadata": {
    "execution": {
     "iopub.execute_input": "2023-12-25T07:07:38.235058Z",
     "iopub.status.busy": "2023-12-25T07:07:38.234698Z",
     "iopub.status.idle": "2023-12-25T07:07:38.253343Z",
     "shell.execute_reply": "2023-12-25T07:07:38.252184Z"
    },
    "papermill": {
     "duration": 0.029775,
     "end_time": "2023-12-25T07:07:38.255935",
     "exception": false,
     "start_time": "2023-12-25T07:07:38.226160",
     "status": "completed"
    },
    "tags": []
   },
   "outputs": [
    {
     "data": {
      "text/html": [
       "<div>\n",
       "<style scoped>\n",
       "    .dataframe tbody tr th:only-of-type {\n",
       "        vertical-align: middle;\n",
       "    }\n",
       "\n",
       "    .dataframe tbody tr th {\n",
       "        vertical-align: top;\n",
       "    }\n",
       "\n",
       "    .dataframe thead th {\n",
       "        text-align: right;\n",
       "    }\n",
       "</style>\n",
       "<table border=\"1\" class=\"dataframe\">\n",
       "  <thead>\n",
       "    <tr style=\"text-align: right;\">\n",
       "      <th></th>\n",
       "      <th>model</th>\n",
       "      <th>year</th>\n",
       "      <th>motor_type</th>\n",
       "      <th>color</th>\n",
       "      <th>type</th>\n",
       "      <th>status</th>\n",
       "      <th>motor_volume</th>\n",
       "      <th>price</th>\n",
       "      <th>running_numeric</th>\n",
       "    </tr>\n",
       "  </thead>\n",
       "  <tbody>\n",
       "    <tr>\n",
       "      <th>0</th>\n",
       "      <td>toyota</td>\n",
       "      <td>2022</td>\n",
       "      <td>petrol</td>\n",
       "      <td>skyblue</td>\n",
       "      <td>sedan</td>\n",
       "      <td>excellent</td>\n",
       "      <td>2.0</td>\n",
       "      <td>24500</td>\n",
       "      <td>3000.000</td>\n",
       "    </tr>\n",
       "    <tr>\n",
       "      <th>1</th>\n",
       "      <td>mercedes-benz</td>\n",
       "      <td>2014</td>\n",
       "      <td>petrol</td>\n",
       "      <td>black</td>\n",
       "      <td>sedan</td>\n",
       "      <td>excellent</td>\n",
       "      <td>2.0</td>\n",
       "      <td>25500</td>\n",
       "      <td>132000.000</td>\n",
       "    </tr>\n",
       "    <tr>\n",
       "      <th>2</th>\n",
       "      <td>kia</td>\n",
       "      <td>2018</td>\n",
       "      <td>petrol</td>\n",
       "      <td>other</td>\n",
       "      <td>sedan</td>\n",
       "      <td>excellent</td>\n",
       "      <td>2.0</td>\n",
       "      <td>11700</td>\n",
       "      <td>152887.300</td>\n",
       "    </tr>\n",
       "    <tr>\n",
       "      <th>3</th>\n",
       "      <td>mercedes-benz</td>\n",
       "      <td>2002</td>\n",
       "      <td>petrol</td>\n",
       "      <td>golden</td>\n",
       "      <td>sedan</td>\n",
       "      <td>excellent</td>\n",
       "      <td>3.2</td>\n",
       "      <td>12000</td>\n",
       "      <td>220479.580</td>\n",
       "    </tr>\n",
       "    <tr>\n",
       "      <th>4</th>\n",
       "      <td>mercedes-benz</td>\n",
       "      <td>2017</td>\n",
       "      <td>petrol</td>\n",
       "      <td>black</td>\n",
       "      <td>sedan</td>\n",
       "      <td>good</td>\n",
       "      <td>2.0</td>\n",
       "      <td>26000</td>\n",
       "      <td>130000.000</td>\n",
       "    </tr>\n",
       "    <tr>\n",
       "      <th>...</th>\n",
       "      <td>...</td>\n",
       "      <td>...</td>\n",
       "      <td>...</td>\n",
       "      <td>...</td>\n",
       "      <td>...</td>\n",
       "      <td>...</td>\n",
       "      <td>...</td>\n",
       "      <td>...</td>\n",
       "      <td>...</td>\n",
       "    </tr>\n",
       "    <tr>\n",
       "      <th>1637</th>\n",
       "      <td>hyundai</td>\n",
       "      <td>2017</td>\n",
       "      <td>petrol</td>\n",
       "      <td>white</td>\n",
       "      <td>sedan</td>\n",
       "      <td>good</td>\n",
       "      <td>2.0</td>\n",
       "      <td>12400</td>\n",
       "      <td>193120.800</td>\n",
       "    </tr>\n",
       "    <tr>\n",
       "      <th>1638</th>\n",
       "      <td>toyota</td>\n",
       "      <td>2014</td>\n",
       "      <td>petrol</td>\n",
       "      <td>black</td>\n",
       "      <td>sedan</td>\n",
       "      <td>good</td>\n",
       "      <td>2.0</td>\n",
       "      <td>16500</td>\n",
       "      <td>170000.000</td>\n",
       "    </tr>\n",
       "    <tr>\n",
       "      <th>1639</th>\n",
       "      <td>nissan</td>\n",
       "      <td>2018</td>\n",
       "      <td>petrol</td>\n",
       "      <td>blue</td>\n",
       "      <td>suv</td>\n",
       "      <td>good</td>\n",
       "      <td>2.0</td>\n",
       "      <td>19500</td>\n",
       "      <td>110883.526</td>\n",
       "    </tr>\n",
       "    <tr>\n",
       "      <th>1640</th>\n",
       "      <td>nissan</td>\n",
       "      <td>2019</td>\n",
       "      <td>petrol</td>\n",
       "      <td>black</td>\n",
       "      <td>suv</td>\n",
       "      <td>excellent</td>\n",
       "      <td>2.0</td>\n",
       "      <td>19500</td>\n",
       "      <td>49889.540</td>\n",
       "    </tr>\n",
       "    <tr>\n",
       "      <th>1641</th>\n",
       "      <td>toyota</td>\n",
       "      <td>2022</td>\n",
       "      <td>petrol</td>\n",
       "      <td>white</td>\n",
       "      <td>sedan</td>\n",
       "      <td>excellent</td>\n",
       "      <td>2.0</td>\n",
       "      <td>28500</td>\n",
       "      <td>20.000</td>\n",
       "    </tr>\n",
       "  </tbody>\n",
       "</table>\n",
       "<p>1633 rows × 9 columns</p>\n",
       "</div>"
      ],
      "text/plain": [
       "              model  year motor_type    color   type     status  motor_volume  \\\n",
       "0            toyota  2022     petrol  skyblue  sedan  excellent           2.0   \n",
       "1     mercedes-benz  2014     petrol    black  sedan  excellent           2.0   \n",
       "2               kia  2018     petrol    other  sedan  excellent           2.0   \n",
       "3     mercedes-benz  2002     petrol   golden  sedan  excellent           3.2   \n",
       "4     mercedes-benz  2017     petrol    black  sedan       good           2.0   \n",
       "...             ...   ...        ...      ...    ...        ...           ...   \n",
       "1637        hyundai  2017     petrol    white  sedan       good           2.0   \n",
       "1638         toyota  2014     petrol    black  sedan       good           2.0   \n",
       "1639         nissan  2018     petrol     blue    suv       good           2.0   \n",
       "1640         nissan  2019     petrol    black    suv  excellent           2.0   \n",
       "1641         toyota  2022     petrol    white  sedan  excellent           2.0   \n",
       "\n",
       "      price  running_numeric  \n",
       "0     24500         3000.000  \n",
       "1     25500       132000.000  \n",
       "2     11700       152887.300  \n",
       "3     12000       220479.580  \n",
       "4     26000       130000.000  \n",
       "...     ...              ...  \n",
       "1637  12400       193120.800  \n",
       "1638  16500       170000.000  \n",
       "1639  19500       110883.526  \n",
       "1640  19500        49889.540  \n",
       "1641  28500           20.000  \n",
       "\n",
       "[1633 rows x 9 columns]"
      ]
     },
     "execution_count": 12,
     "metadata": {},
     "output_type": "execute_result"
    }
   ],
   "source": [
    "train"
   ]
  },
  {
   "cell_type": "code",
   "execution_count": 13,
   "id": "9d826b79",
   "metadata": {
    "execution": {
     "iopub.execute_input": "2023-12-25T07:07:38.272948Z",
     "iopub.status.busy": "2023-12-25T07:07:38.272389Z",
     "iopub.status.idle": "2023-12-25T07:07:38.278406Z",
     "shell.execute_reply": "2023-12-25T07:07:38.277420Z"
    },
    "papermill": {
     "duration": 0.017172,
     "end_time": "2023-12-25T07:07:38.280673",
     "exception": false,
     "start_time": "2023-12-25T07:07:38.263501",
     "status": "completed"
    },
    "tags": []
   },
   "outputs": [],
   "source": [
    "train['running_numeric'] = train['running_numeric'].astype('int64')\n",
    "train['motor_volume'] = train['motor_volume'].astype('int64')"
   ]
  },
  {
   "cell_type": "code",
   "execution_count": 14,
   "id": "c2849d05",
   "metadata": {
    "execution": {
     "iopub.execute_input": "2023-12-25T07:07:38.297779Z",
     "iopub.status.busy": "2023-12-25T07:07:38.297390Z",
     "iopub.status.idle": "2023-12-25T07:07:38.303496Z",
     "shell.execute_reply": "2023-12-25T07:07:38.302187Z"
    },
    "papermill": {
     "duration": 0.016955,
     "end_time": "2023-12-25T07:07:38.305640",
     "exception": false,
     "start_time": "2023-12-25T07:07:38.288685",
     "status": "completed"
    },
    "tags": []
   },
   "outputs": [],
   "source": [
    "train_y = train['price']\n",
    "train_X = train.drop(columns=['price'])"
   ]
  },
  {
   "cell_type": "code",
   "execution_count": 15,
   "id": "0f1ba8c4",
   "metadata": {
    "execution": {
     "iopub.execute_input": "2023-12-25T07:07:38.323192Z",
     "iopub.status.busy": "2023-12-25T07:07:38.322798Z",
     "iopub.status.idle": "2023-12-25T07:07:38.396840Z",
     "shell.execute_reply": "2023-12-25T07:07:38.395933Z"
    },
    "papermill": {
     "duration": 0.085274,
     "end_time": "2023-12-25T07:07:38.399133",
     "exception": false,
     "start_time": "2023-12-25T07:07:38.313859",
     "status": "completed"
    },
    "tags": []
   },
   "outputs": [],
   "source": [
    "X_train_loo = encoder.fit_transform(train_X, train_y)"
   ]
  },
  {
   "cell_type": "code",
   "execution_count": 16,
   "id": "4a2ef862",
   "metadata": {
    "execution": {
     "iopub.execute_input": "2023-12-25T07:07:38.415440Z",
     "iopub.status.busy": "2023-12-25T07:07:38.415087Z",
     "iopub.status.idle": "2023-12-25T07:07:38.431105Z",
     "shell.execute_reply": "2023-12-25T07:07:38.430113Z"
    },
    "papermill": {
     "duration": 0.026574,
     "end_time": "2023-12-25T07:07:38.433118",
     "exception": false,
     "start_time": "2023-12-25T07:07:38.406544",
     "status": "completed"
    },
    "tags": []
   },
   "outputs": [
    {
     "data": {
      "text/html": [
       "<div>\n",
       "<style scoped>\n",
       "    .dataframe tbody tr th:only-of-type {\n",
       "        vertical-align: middle;\n",
       "    }\n",
       "\n",
       "    .dataframe tbody tr th {\n",
       "        vertical-align: top;\n",
       "    }\n",
       "\n",
       "    .dataframe thead th {\n",
       "        text-align: right;\n",
       "    }\n",
       "</style>\n",
       "<table border=\"1\" class=\"dataframe\">\n",
       "  <thead>\n",
       "    <tr style=\"text-align: right;\">\n",
       "      <th></th>\n",
       "      <th>model</th>\n",
       "      <th>year</th>\n",
       "      <th>motor_type</th>\n",
       "      <th>color</th>\n",
       "      <th>type</th>\n",
       "      <th>status</th>\n",
       "      <th>motor_volume</th>\n",
       "      <th>running_numeric</th>\n",
       "    </tr>\n",
       "  </thead>\n",
       "  <tbody>\n",
       "    <tr>\n",
       "      <th>0</th>\n",
       "      <td>17656.814229</td>\n",
       "      <td>2022</td>\n",
       "      <td>16884.113314</td>\n",
       "      <td>16075.404914</td>\n",
       "      <td>15323.695584</td>\n",
       "      <td>17402.645973</td>\n",
       "      <td>2</td>\n",
       "      <td>3000</td>\n",
       "    </tr>\n",
       "    <tr>\n",
       "      <th>1</th>\n",
       "      <td>14735.613466</td>\n",
       "      <td>2014</td>\n",
       "      <td>16884.113314</td>\n",
       "      <td>17201.804469</td>\n",
       "      <td>15323.695584</td>\n",
       "      <td>17402.645973</td>\n",
       "      <td>2</td>\n",
       "      <td>132000</td>\n",
       "    </tr>\n",
       "    <tr>\n",
       "      <th>2</th>\n",
       "      <td>14828.007067</td>\n",
       "      <td>2018</td>\n",
       "      <td>16884.113314</td>\n",
       "      <td>14536.273603</td>\n",
       "      <td>15323.695584</td>\n",
       "      <td>17402.645973</td>\n",
       "      <td>2</td>\n",
       "      <td>152887</td>\n",
       "    </tr>\n",
       "    <tr>\n",
       "      <th>3</th>\n",
       "      <td>14735.613466</td>\n",
       "      <td>2002</td>\n",
       "      <td>16884.113314</td>\n",
       "      <td>14845.206130</td>\n",
       "      <td>15323.695584</td>\n",
       "      <td>17402.645973</td>\n",
       "      <td>3</td>\n",
       "      <td>220479</td>\n",
       "    </tr>\n",
       "    <tr>\n",
       "      <th>4</th>\n",
       "      <td>14735.613466</td>\n",
       "      <td>2017</td>\n",
       "      <td>16884.113314</td>\n",
       "      <td>17201.804469</td>\n",
       "      <td>15323.695584</td>\n",
       "      <td>11913.603604</td>\n",
       "      <td>2</td>\n",
       "      <td>130000</td>\n",
       "    </tr>\n",
       "    <tr>\n",
       "      <th>...</th>\n",
       "      <td>...</td>\n",
       "      <td>...</td>\n",
       "      <td>...</td>\n",
       "      <td>...</td>\n",
       "      <td>...</td>\n",
       "      <td>...</td>\n",
       "      <td>...</td>\n",
       "      <td>...</td>\n",
       "    </tr>\n",
       "    <tr>\n",
       "      <th>1637</th>\n",
       "      <td>14833.040346</td>\n",
       "      <td>2017</td>\n",
       "      <td>16884.113314</td>\n",
       "      <td>16841.155172</td>\n",
       "      <td>15323.695584</td>\n",
       "      <td>11913.603604</td>\n",
       "      <td>2</td>\n",
       "      <td>193120</td>\n",
       "    </tr>\n",
       "    <tr>\n",
       "      <th>1638</th>\n",
       "      <td>17656.814229</td>\n",
       "      <td>2014</td>\n",
       "      <td>16884.113314</td>\n",
       "      <td>17201.804469</td>\n",
       "      <td>15323.695584</td>\n",
       "      <td>11913.603604</td>\n",
       "      <td>2</td>\n",
       "      <td>170000</td>\n",
       "    </tr>\n",
       "    <tr>\n",
       "      <th>1639</th>\n",
       "      <td>18270.739255</td>\n",
       "      <td>2018</td>\n",
       "      <td>16884.113314</td>\n",
       "      <td>13430.333326</td>\n",
       "      <td>18519.066667</td>\n",
       "      <td>11913.603604</td>\n",
       "      <td>2</td>\n",
       "      <td>110883</td>\n",
       "    </tr>\n",
       "    <tr>\n",
       "      <th>1640</th>\n",
       "      <td>18270.739255</td>\n",
       "      <td>2019</td>\n",
       "      <td>16884.113314</td>\n",
       "      <td>17201.804469</td>\n",
       "      <td>18519.066667</td>\n",
       "      <td>17402.645973</td>\n",
       "      <td>2</td>\n",
       "      <td>49889</td>\n",
       "    </tr>\n",
       "    <tr>\n",
       "      <th>1641</th>\n",
       "      <td>17656.814229</td>\n",
       "      <td>2022</td>\n",
       "      <td>16884.113314</td>\n",
       "      <td>16841.155172</td>\n",
       "      <td>15323.695584</td>\n",
       "      <td>17402.645973</td>\n",
       "      <td>2</td>\n",
       "      <td>20</td>\n",
       "    </tr>\n",
       "  </tbody>\n",
       "</table>\n",
       "<p>1633 rows × 8 columns</p>\n",
       "</div>"
      ],
      "text/plain": [
       "             model  year    motor_type         color          type  \\\n",
       "0     17656.814229  2022  16884.113314  16075.404914  15323.695584   \n",
       "1     14735.613466  2014  16884.113314  17201.804469  15323.695584   \n",
       "2     14828.007067  2018  16884.113314  14536.273603  15323.695584   \n",
       "3     14735.613466  2002  16884.113314  14845.206130  15323.695584   \n",
       "4     14735.613466  2017  16884.113314  17201.804469  15323.695584   \n",
       "...            ...   ...           ...           ...           ...   \n",
       "1637  14833.040346  2017  16884.113314  16841.155172  15323.695584   \n",
       "1638  17656.814229  2014  16884.113314  17201.804469  15323.695584   \n",
       "1639  18270.739255  2018  16884.113314  13430.333326  18519.066667   \n",
       "1640  18270.739255  2019  16884.113314  17201.804469  18519.066667   \n",
       "1641  17656.814229  2022  16884.113314  16841.155172  15323.695584   \n",
       "\n",
       "            status  motor_volume  running_numeric  \n",
       "0     17402.645973             2             3000  \n",
       "1     17402.645973             2           132000  \n",
       "2     17402.645973             2           152887  \n",
       "3     17402.645973             3           220479  \n",
       "4     11913.603604             2           130000  \n",
       "...            ...           ...              ...  \n",
       "1637  11913.603604             2           193120  \n",
       "1638  11913.603604             2           170000  \n",
       "1639  11913.603604             2           110883  \n",
       "1640  17402.645973             2            49889  \n",
       "1641  17402.645973             2               20  \n",
       "\n",
       "[1633 rows x 8 columns]"
      ]
     },
     "execution_count": 16,
     "metadata": {},
     "output_type": "execute_result"
    }
   ],
   "source": [
    "X_train_loo"
   ]
  },
  {
   "cell_type": "code",
   "execution_count": 17,
   "id": "2ed0bbfc",
   "metadata": {
    "execution": {
     "iopub.execute_input": "2023-12-25T07:07:38.450112Z",
     "iopub.status.busy": "2023-12-25T07:07:38.449677Z",
     "iopub.status.idle": "2023-12-25T07:07:38.453580Z",
     "shell.execute_reply": "2023-12-25T07:07:38.452773Z"
    },
    "papermill": {
     "duration": 0.014613,
     "end_time": "2023-12-25T07:07:38.455375",
     "exception": false,
     "start_time": "2023-12-25T07:07:38.440762",
     "status": "completed"
    },
    "tags": []
   },
   "outputs": [],
   "source": [
    "train_y = train['price']\n",
    "train_X = X_train_loo"
   ]
  },
  {
   "cell_type": "code",
   "execution_count": 18,
   "id": "fb1a8b1d",
   "metadata": {
    "execution": {
     "iopub.execute_input": "2023-12-25T07:07:38.471563Z",
     "iopub.status.busy": "2023-12-25T07:07:38.471197Z",
     "iopub.status.idle": "2023-12-25T07:07:38.608473Z",
     "shell.execute_reply": "2023-12-25T07:07:38.607742Z"
    },
    "papermill": {
     "duration": 0.153396,
     "end_time": "2023-12-25T07:07:38.616238",
     "exception": false,
     "start_time": "2023-12-25T07:07:38.462842",
     "status": "completed"
    },
    "tags": []
   },
   "outputs": [
    {
     "name": "stdout",
     "output_type": "stream",
     "text": [
      "Training Accuracy of Linear Regression 0.43980973543878754\n"
     ]
    }
   ],
   "source": [
    "from sklearn.linear_model import LinearRegression\n",
    "\n",
    "lr=LinearRegression()\n",
    "lr.fit(train_X,train_y)\n",
    "print('Training Accuracy of Linear Regression', lr.score(train_X,train_y))"
   ]
  },
  {
   "cell_type": "code",
   "execution_count": 19,
   "id": "7c794335",
   "metadata": {
    "execution": {
     "iopub.execute_input": "2023-12-25T07:07:38.659675Z",
     "iopub.status.busy": "2023-12-25T07:07:38.658470Z",
     "iopub.status.idle": "2023-12-25T07:07:38.678917Z",
     "shell.execute_reply": "2023-12-25T07:07:38.677689Z"
    },
    "papermill": {
     "duration": 0.043639,
     "end_time": "2023-12-25T07:07:38.681164",
     "exception": false,
     "start_time": "2023-12-25T07:07:38.637525",
     "status": "completed"
    },
    "tags": []
   },
   "outputs": [
    {
     "name": "stdout",
     "output_type": "stream",
     "text": [
      "Training Accuracy of Ridge Regression :  0.4398097039118045\n"
     ]
    }
   ],
   "source": [
    "from sklearn.linear_model import Ridge\n",
    "\n",
    "ridge = Ridge(alpha=1.0)\n",
    "ridge.fit(train_X,train_y)\n",
    "print('Training Accuracy of Ridge Regression : ', ridge.score(train_X,train_y))"
   ]
  },
  {
   "cell_type": "code",
   "execution_count": 20,
   "id": "2856fe93",
   "metadata": {
    "execution": {
     "iopub.execute_input": "2023-12-25T07:07:38.711960Z",
     "iopub.status.busy": "2023-12-25T07:07:38.711199Z",
     "iopub.status.idle": "2023-12-25T07:07:38.730359Z",
     "shell.execute_reply": "2023-12-25T07:07:38.729294Z"
    },
    "papermill": {
     "duration": 0.041298,
     "end_time": "2023-12-25T07:07:38.732382",
     "exception": false,
     "start_time": "2023-12-25T07:07:38.691084",
     "status": "completed"
    },
    "tags": []
   },
   "outputs": [
    {
     "name": "stdout",
     "output_type": "stream",
     "text": [
      "Training Accuracy of Lasso Regression :  0.43980957511254115\n"
     ]
    }
   ],
   "source": [
    "from sklearn.linear_model import Lasso\n",
    "\n",
    "lasso = Lasso(alpha=1.0)\n",
    "lasso.fit(train_X,train_y)\n",
    "print('Training Accuracy of Lasso Regression : ', lasso.score(train_X,train_y))"
   ]
  },
  {
   "cell_type": "code",
   "execution_count": 21,
   "id": "02d6db60",
   "metadata": {
    "execution": {
     "iopub.execute_input": "2023-12-25T07:07:38.771138Z",
     "iopub.status.busy": "2023-12-25T07:07:38.770744Z",
     "iopub.status.idle": "2023-12-25T07:07:38.879576Z",
     "shell.execute_reply": "2023-12-25T07:07:38.878910Z"
    },
    "papermill": {
     "duration": 0.134475,
     "end_time": "2023-12-25T07:07:38.882051",
     "exception": false,
     "start_time": "2023-12-25T07:07:38.747576",
     "status": "completed"
    },
    "tags": []
   },
   "outputs": [
    {
     "name": "stdout",
     "output_type": "stream",
     "text": [
      "Training Accuracy of Decision Tree Regressor :  0.9977410259361883\n"
     ]
    }
   ],
   "source": [
    "from sklearn.tree import DecisionTreeRegressor\n",
    "\n",
    "dtr = DecisionTreeRegressor()\n",
    "dtr.fit(train_X,train_y)\n",
    "print('Training Accuracy of Decision Tree Regressor : ', dtr.score(train_X,train_y))"
   ]
  },
  {
   "cell_type": "code",
   "execution_count": 22,
   "id": "9eb8164d",
   "metadata": {
    "execution": {
     "iopub.execute_input": "2023-12-25T07:07:38.900387Z",
     "iopub.status.busy": "2023-12-25T07:07:38.899356Z",
     "iopub.status.idle": "2023-12-25T07:07:39.269001Z",
     "shell.execute_reply": "2023-12-25T07:07:39.267466Z"
    },
    "papermill": {
     "duration": 0.380373,
     "end_time": "2023-12-25T07:07:39.270888",
     "exception": false,
     "start_time": "2023-12-25T07:07:38.890515",
     "status": "completed"
    },
    "tags": []
   },
   "outputs": [
    {
     "name": "stdout",
     "output_type": "stream",
     "text": [
      "Training Accuracy of Random Forest Regressor :  0.8369506811292284\n"
     ]
    }
   ],
   "source": [
    "from sklearn.ensemble import RandomForestRegressor\n",
    "\n",
    "model_rfr = RandomForestRegressor(max_depth=10, min_samples_leaf=4, min_samples_split=5,n_estimators = 100)\n",
    "model_rfr.fit(train_X,train_y)\n",
    "print('Training Accuracy of Random Forest Regressor : ', model_rfr.score(train_X,train_y))"
   ]
  },
  {
   "cell_type": "code",
   "execution_count": 23,
   "id": "eed88f04",
   "metadata": {
    "execution": {
     "iopub.execute_input": "2023-12-25T07:07:39.287861Z",
     "iopub.status.busy": "2023-12-25T07:07:39.287478Z",
     "iopub.status.idle": "2023-12-25T07:07:39.438844Z",
     "shell.execute_reply": "2023-12-25T07:07:39.437521Z"
    },
    "papermill": {
     "duration": 0.162265,
     "end_time": "2023-12-25T07:07:39.440971",
     "exception": false,
     "start_time": "2023-12-25T07:07:39.278706",
     "status": "completed"
    },
    "tags": []
   },
   "outputs": [
    {
     "name": "stdout",
     "output_type": "stream",
     "text": [
      "Training Accuracy of Gradient Boosting Classifier :  0.8637032107529399\n"
     ]
    }
   ],
   "source": [
    "from sklearn.ensemble import GradientBoostingRegressor\n",
    "\n",
    "gbr = GradientBoostingRegressor()\n",
    "gbr.fit(train_X,train_y)\n",
    "print('Training Accuracy of Gradient Boosting Classifier : ', gbr.score(train_X,train_y))"
   ]
  },
  {
   "cell_type": "code",
   "execution_count": 24,
   "id": "5a2250c1",
   "metadata": {
    "execution": {
     "iopub.execute_input": "2023-12-25T07:07:39.458128Z",
     "iopub.status.busy": "2023-12-25T07:07:39.457694Z",
     "iopub.status.idle": "2023-12-25T07:07:39.465007Z",
     "shell.execute_reply": "2023-12-25T07:07:39.463479Z"
    },
    "papermill": {
     "duration": 0.01844,
     "end_time": "2023-12-25T07:07:39.467281",
     "exception": false,
     "start_time": "2023-12-25T07:07:39.448841",
     "status": "completed"
    },
    "tags": []
   },
   "outputs": [],
   "source": [
    "test['running_numeric'] = test['running'].apply(convert_to_km)"
   ]
  },
  {
   "cell_type": "code",
   "execution_count": 25,
   "id": "d9466c0b",
   "metadata": {
    "execution": {
     "iopub.execute_input": "2023-12-25T07:07:39.485018Z",
     "iopub.status.busy": "2023-12-25T07:07:39.484603Z",
     "iopub.status.idle": "2023-12-25T07:07:39.492182Z",
     "shell.execute_reply": "2023-12-25T07:07:39.491356Z"
    },
    "papermill": {
     "duration": 0.019162,
     "end_time": "2023-12-25T07:07:39.494510",
     "exception": false,
     "start_time": "2023-12-25T07:07:39.475348",
     "status": "completed"
    },
    "tags": []
   },
   "outputs": [],
   "source": [
    "test.drop(columns=['wheel', 'running'], inplace=True)"
   ]
  },
  {
   "cell_type": "code",
   "execution_count": 26,
   "id": "ba21008c",
   "metadata": {
    "execution": {
     "iopub.execute_input": "2023-12-25T07:07:39.513705Z",
     "iopub.status.busy": "2023-12-25T07:07:39.513087Z",
     "iopub.status.idle": "2023-12-25T07:07:39.517937Z",
     "shell.execute_reply": "2023-12-25T07:07:39.517327Z"
    },
    "papermill": {
     "duration": 0.016312,
     "end_time": "2023-12-25T07:07:39.519937",
     "exception": false,
     "start_time": "2023-12-25T07:07:39.503625",
     "status": "completed"
    },
    "tags": []
   },
   "outputs": [],
   "source": [
    "test['running_numeric'] = test['running_numeric'].astype('int64')\n",
    "test['motor_volume'] = test['motor_volume'].astype('int64')"
   ]
  },
  {
   "cell_type": "code",
   "execution_count": 27,
   "id": "a6f2f46f",
   "metadata": {
    "execution": {
     "iopub.execute_input": "2023-12-25T07:07:39.539225Z",
     "iopub.status.busy": "2023-12-25T07:07:39.538782Z",
     "iopub.status.idle": "2023-12-25T07:07:39.553738Z",
     "shell.execute_reply": "2023-12-25T07:07:39.552129Z"
    },
    "papermill": {
     "duration": 0.027926,
     "end_time": "2023-12-25T07:07:39.556214",
     "exception": false,
     "start_time": "2023-12-25T07:07:39.528288",
     "status": "completed"
    },
    "tags": []
   },
   "outputs": [
    {
     "data": {
      "text/html": [
       "<div>\n",
       "<style scoped>\n",
       "    .dataframe tbody tr th:only-of-type {\n",
       "        vertical-align: middle;\n",
       "    }\n",
       "\n",
       "    .dataframe tbody tr th {\n",
       "        vertical-align: top;\n",
       "    }\n",
       "\n",
       "    .dataframe thead th {\n",
       "        text-align: right;\n",
       "    }\n",
       "</style>\n",
       "<table border=\"1\" class=\"dataframe\">\n",
       "  <thead>\n",
       "    <tr style=\"text-align: right;\">\n",
       "      <th></th>\n",
       "      <th>Id</th>\n",
       "      <th>model</th>\n",
       "      <th>year</th>\n",
       "      <th>motor_type</th>\n",
       "      <th>color</th>\n",
       "      <th>type</th>\n",
       "      <th>status</th>\n",
       "      <th>motor_volume</th>\n",
       "      <th>running_numeric</th>\n",
       "    </tr>\n",
       "  </thead>\n",
       "  <tbody>\n",
       "    <tr>\n",
       "      <th>0</th>\n",
       "      <td>0</td>\n",
       "      <td>kia</td>\n",
       "      <td>2020</td>\n",
       "      <td>petrol</td>\n",
       "      <td>black</td>\n",
       "      <td>sedan</td>\n",
       "      <td>excellent</td>\n",
       "      <td>2</td>\n",
       "      <td>24000</td>\n",
       "    </tr>\n",
       "    <tr>\n",
       "      <th>1</th>\n",
       "      <td>1</td>\n",
       "      <td>nissan</td>\n",
       "      <td>2017</td>\n",
       "      <td>petrol</td>\n",
       "      <td>white</td>\n",
       "      <td>suv</td>\n",
       "      <td>excellent</td>\n",
       "      <td>2</td>\n",
       "      <td>136793</td>\n",
       "    </tr>\n",
       "    <tr>\n",
       "      <th>2</th>\n",
       "      <td>2</td>\n",
       "      <td>hyundai</td>\n",
       "      <td>2021</td>\n",
       "      <td>petrol</td>\n",
       "      <td>white</td>\n",
       "      <td>sedan</td>\n",
       "      <td>excellent</td>\n",
       "      <td>2</td>\n",
       "      <td>48280</td>\n",
       "    </tr>\n",
       "    <tr>\n",
       "      <th>3</th>\n",
       "      <td>3</td>\n",
       "      <td>kia</td>\n",
       "      <td>2018</td>\n",
       "      <td>petrol</td>\n",
       "      <td>silver</td>\n",
       "      <td>sedan</td>\n",
       "      <td>excellent</td>\n",
       "      <td>2</td>\n",
       "      <td>85295</td>\n",
       "    </tr>\n",
       "    <tr>\n",
       "      <th>4</th>\n",
       "      <td>4</td>\n",
       "      <td>mercedes-benz</td>\n",
       "      <td>2003</td>\n",
       "      <td>petrol</td>\n",
       "      <td>black</td>\n",
       "      <td>Universal</td>\n",
       "      <td>normal</td>\n",
       "      <td>1</td>\n",
       "      <td>230000</td>\n",
       "    </tr>\n",
       "    <tr>\n",
       "      <th>...</th>\n",
       "      <td>...</td>\n",
       "      <td>...</td>\n",
       "      <td>...</td>\n",
       "      <td>...</td>\n",
       "      <td>...</td>\n",
       "      <td>...</td>\n",
       "      <td>...</td>\n",
       "      <td>...</td>\n",
       "      <td>...</td>\n",
       "    </tr>\n",
       "    <tr>\n",
       "      <th>406</th>\n",
       "      <td>406</td>\n",
       "      <td>nissan</td>\n",
       "      <td>2021</td>\n",
       "      <td>petrol</td>\n",
       "      <td>black</td>\n",
       "      <td>suv</td>\n",
       "      <td>excellent</td>\n",
       "      <td>2</td>\n",
       "      <td>33400</td>\n",
       "    </tr>\n",
       "    <tr>\n",
       "      <th>407</th>\n",
       "      <td>407</td>\n",
       "      <td>hyundai</td>\n",
       "      <td>2017</td>\n",
       "      <td>petrol</td>\n",
       "      <td>other</td>\n",
       "      <td>sedan</td>\n",
       "      <td>excellent</td>\n",
       "      <td>2</td>\n",
       "      <td>96560</td>\n",
       "    </tr>\n",
       "    <tr>\n",
       "      <th>408</th>\n",
       "      <td>408</td>\n",
       "      <td>mercedes-benz</td>\n",
       "      <td>2012</td>\n",
       "      <td>petrol</td>\n",
       "      <td>white</td>\n",
       "      <td>sedan</td>\n",
       "      <td>good</td>\n",
       "      <td>2</td>\n",
       "      <td>218000</td>\n",
       "    </tr>\n",
       "    <tr>\n",
       "      <th>409</th>\n",
       "      <td>409</td>\n",
       "      <td>kia</td>\n",
       "      <td>2020</td>\n",
       "      <td>petrol</td>\n",
       "      <td>red</td>\n",
       "      <td>sedan</td>\n",
       "      <td>good</td>\n",
       "      <td>2</td>\n",
       "      <td>64373</td>\n",
       "    </tr>\n",
       "    <tr>\n",
       "      <th>410</th>\n",
       "      <td>410</td>\n",
       "      <td>hyundai</td>\n",
       "      <td>2017</td>\n",
       "      <td>petrol</td>\n",
       "      <td>white</td>\n",
       "      <td>sedan</td>\n",
       "      <td>excellent</td>\n",
       "      <td>2</td>\n",
       "      <td>193120</td>\n",
       "    </tr>\n",
       "  </tbody>\n",
       "</table>\n",
       "<p>411 rows × 9 columns</p>\n",
       "</div>"
      ],
      "text/plain": [
       "      Id          model  year motor_type   color       type     status  \\\n",
       "0      0            kia  2020     petrol   black      sedan  excellent   \n",
       "1      1         nissan  2017     petrol   white        suv  excellent   \n",
       "2      2        hyundai  2021     petrol   white      sedan  excellent   \n",
       "3      3            kia  2018     petrol  silver      sedan  excellent   \n",
       "4      4  mercedes-benz  2003     petrol   black  Universal     normal   \n",
       "..   ...            ...   ...        ...     ...        ...        ...   \n",
       "406  406         nissan  2021     petrol   black        suv  excellent   \n",
       "407  407        hyundai  2017     petrol   other      sedan  excellent   \n",
       "408  408  mercedes-benz  2012     petrol   white      sedan       good   \n",
       "409  409            kia  2020     petrol     red      sedan       good   \n",
       "410  410        hyundai  2017     petrol   white      sedan  excellent   \n",
       "\n",
       "     motor_volume  running_numeric  \n",
       "0               2            24000  \n",
       "1               2           136793  \n",
       "2               2            48280  \n",
       "3               2            85295  \n",
       "4               1           230000  \n",
       "..            ...              ...  \n",
       "406             2            33400  \n",
       "407             2            96560  \n",
       "408             2           218000  \n",
       "409             2            64373  \n",
       "410             2           193120  \n",
       "\n",
       "[411 rows x 9 columns]"
      ]
     },
     "execution_count": 27,
     "metadata": {},
     "output_type": "execute_result"
    }
   ],
   "source": [
    "test"
   ]
  },
  {
   "cell_type": "code",
   "execution_count": 28,
   "id": "ab14d4c2",
   "metadata": {
    "execution": {
     "iopub.execute_input": "2023-12-25T07:07:39.574262Z",
     "iopub.status.busy": "2023-12-25T07:07:39.573926Z",
     "iopub.status.idle": "2023-12-25T07:07:39.590380Z",
     "shell.execute_reply": "2023-12-25T07:07:39.589377Z"
    },
    "papermill": {
     "duration": 0.028828,
     "end_time": "2023-12-25T07:07:39.593391",
     "exception": false,
     "start_time": "2023-12-25T07:07:39.564563",
     "status": "completed"
    },
    "tags": []
   },
   "outputs": [],
   "source": [
    "X_test_loo = encoder.transform(test.drop(columns=['Id']))"
   ]
  },
  {
   "cell_type": "code",
   "execution_count": 29,
   "id": "7e5bf225",
   "metadata": {
    "execution": {
     "iopub.execute_input": "2023-12-25T07:07:39.611676Z",
     "iopub.status.busy": "2023-12-25T07:07:39.610808Z",
     "iopub.status.idle": "2023-12-25T07:07:39.626077Z",
     "shell.execute_reply": "2023-12-25T07:07:39.625032Z"
    },
    "papermill": {
     "duration": 0.026532,
     "end_time": "2023-12-25T07:07:39.628269",
     "exception": false,
     "start_time": "2023-12-25T07:07:39.601737",
     "status": "completed"
    },
    "tags": []
   },
   "outputs": [
    {
     "data": {
      "text/html": [
       "<div>\n",
       "<style scoped>\n",
       "    .dataframe tbody tr th:only-of-type {\n",
       "        vertical-align: middle;\n",
       "    }\n",
       "\n",
       "    .dataframe tbody tr th {\n",
       "        vertical-align: top;\n",
       "    }\n",
       "\n",
       "    .dataframe thead th {\n",
       "        text-align: right;\n",
       "    }\n",
       "</style>\n",
       "<table border=\"1\" class=\"dataframe\">\n",
       "  <thead>\n",
       "    <tr style=\"text-align: right;\">\n",
       "      <th></th>\n",
       "      <th>model</th>\n",
       "      <th>year</th>\n",
       "      <th>motor_type</th>\n",
       "      <th>color</th>\n",
       "      <th>type</th>\n",
       "      <th>status</th>\n",
       "      <th>motor_volume</th>\n",
       "      <th>running_numeric</th>\n",
       "    </tr>\n",
       "  </thead>\n",
       "  <tbody>\n",
       "    <tr>\n",
       "      <th>0</th>\n",
       "      <td>14828.007067</td>\n",
       "      <td>2020</td>\n",
       "      <td>16884.113314</td>\n",
       "      <td>17201.804469</td>\n",
       "      <td>15323.695584</td>\n",
       "      <td>17402.645973</td>\n",
       "      <td>2</td>\n",
       "      <td>24000</td>\n",
       "    </tr>\n",
       "    <tr>\n",
       "      <th>1</th>\n",
       "      <td>18270.739255</td>\n",
       "      <td>2017</td>\n",
       "      <td>16884.113314</td>\n",
       "      <td>16841.155172</td>\n",
       "      <td>18519.066667</td>\n",
       "      <td>17402.645973</td>\n",
       "      <td>2</td>\n",
       "      <td>136793</td>\n",
       "    </tr>\n",
       "    <tr>\n",
       "      <th>2</th>\n",
       "      <td>14833.040346</td>\n",
       "      <td>2021</td>\n",
       "      <td>16884.113314</td>\n",
       "      <td>16841.155172</td>\n",
       "      <td>15323.695584</td>\n",
       "      <td>17402.645973</td>\n",
       "      <td>2</td>\n",
       "      <td>48280</td>\n",
       "    </tr>\n",
       "    <tr>\n",
       "      <th>3</th>\n",
       "      <td>14828.007067</td>\n",
       "      <td>2018</td>\n",
       "      <td>16884.113314</td>\n",
       "      <td>13561.881823</td>\n",
       "      <td>15323.695584</td>\n",
       "      <td>17402.645973</td>\n",
       "      <td>2</td>\n",
       "      <td>85295</td>\n",
       "    </tr>\n",
       "    <tr>\n",
       "      <th>4</th>\n",
       "      <td>14735.613466</td>\n",
       "      <td>2003</td>\n",
       "      <td>16884.113314</td>\n",
       "      <td>17201.804469</td>\n",
       "      <td>17725.020815</td>\n",
       "      <td>8042.238531</td>\n",
       "      <td>1</td>\n",
       "      <td>230000</td>\n",
       "    </tr>\n",
       "    <tr>\n",
       "      <th>...</th>\n",
       "      <td>...</td>\n",
       "      <td>...</td>\n",
       "      <td>...</td>\n",
       "      <td>...</td>\n",
       "      <td>...</td>\n",
       "      <td>...</td>\n",
       "      <td>...</td>\n",
       "      <td>...</td>\n",
       "    </tr>\n",
       "    <tr>\n",
       "      <th>406</th>\n",
       "      <td>18270.739255</td>\n",
       "      <td>2021</td>\n",
       "      <td>16884.113314</td>\n",
       "      <td>17201.804469</td>\n",
       "      <td>18519.066667</td>\n",
       "      <td>17402.645973</td>\n",
       "      <td>2</td>\n",
       "      <td>33400</td>\n",
       "    </tr>\n",
       "    <tr>\n",
       "      <th>407</th>\n",
       "      <td>14833.040346</td>\n",
       "      <td>2017</td>\n",
       "      <td>16884.113314</td>\n",
       "      <td>14536.273603</td>\n",
       "      <td>15323.695584</td>\n",
       "      <td>17402.645973</td>\n",
       "      <td>2</td>\n",
       "      <td>96560</td>\n",
       "    </tr>\n",
       "    <tr>\n",
       "      <th>408</th>\n",
       "      <td>14735.613466</td>\n",
       "      <td>2012</td>\n",
       "      <td>16884.113314</td>\n",
       "      <td>16841.155172</td>\n",
       "      <td>15323.695584</td>\n",
       "      <td>11913.603604</td>\n",
       "      <td>2</td>\n",
       "      <td>218000</td>\n",
       "    </tr>\n",
       "    <tr>\n",
       "      <th>409</th>\n",
       "      <td>14828.007067</td>\n",
       "      <td>2020</td>\n",
       "      <td>16884.113314</td>\n",
       "      <td>14913.012593</td>\n",
       "      <td>15323.695584</td>\n",
       "      <td>11913.603604</td>\n",
       "      <td>2</td>\n",
       "      <td>64373</td>\n",
       "    </tr>\n",
       "    <tr>\n",
       "      <th>410</th>\n",
       "      <td>14833.040346</td>\n",
       "      <td>2017</td>\n",
       "      <td>16884.113314</td>\n",
       "      <td>16841.155172</td>\n",
       "      <td>15323.695584</td>\n",
       "      <td>17402.645973</td>\n",
       "      <td>2</td>\n",
       "      <td>193120</td>\n",
       "    </tr>\n",
       "  </tbody>\n",
       "</table>\n",
       "<p>411 rows × 8 columns</p>\n",
       "</div>"
      ],
      "text/plain": [
       "            model  year    motor_type         color          type  \\\n",
       "0    14828.007067  2020  16884.113314  17201.804469  15323.695584   \n",
       "1    18270.739255  2017  16884.113314  16841.155172  18519.066667   \n",
       "2    14833.040346  2021  16884.113314  16841.155172  15323.695584   \n",
       "3    14828.007067  2018  16884.113314  13561.881823  15323.695584   \n",
       "4    14735.613466  2003  16884.113314  17201.804469  17725.020815   \n",
       "..            ...   ...           ...           ...           ...   \n",
       "406  18270.739255  2021  16884.113314  17201.804469  18519.066667   \n",
       "407  14833.040346  2017  16884.113314  14536.273603  15323.695584   \n",
       "408  14735.613466  2012  16884.113314  16841.155172  15323.695584   \n",
       "409  14828.007067  2020  16884.113314  14913.012593  15323.695584   \n",
       "410  14833.040346  2017  16884.113314  16841.155172  15323.695584   \n",
       "\n",
       "           status  motor_volume  running_numeric  \n",
       "0    17402.645973             2            24000  \n",
       "1    17402.645973             2           136793  \n",
       "2    17402.645973             2            48280  \n",
       "3    17402.645973             2            85295  \n",
       "4     8042.238531             1           230000  \n",
       "..            ...           ...              ...  \n",
       "406  17402.645973             2            33400  \n",
       "407  17402.645973             2            96560  \n",
       "408  11913.603604             2           218000  \n",
       "409  11913.603604             2            64373  \n",
       "410  17402.645973             2           193120  \n",
       "\n",
       "[411 rows x 8 columns]"
      ]
     },
     "execution_count": 29,
     "metadata": {},
     "output_type": "execute_result"
    }
   ],
   "source": [
    "X_test_loo"
   ]
  },
  {
   "cell_type": "code",
   "execution_count": 30,
   "id": "662ff52f",
   "metadata": {
    "execution": {
     "iopub.execute_input": "2023-12-25T07:07:39.647129Z",
     "iopub.status.busy": "2023-12-25T07:07:39.646740Z",
     "iopub.status.idle": "2023-12-25T07:07:39.654414Z",
     "shell.execute_reply": "2023-12-25T07:07:39.653307Z"
    },
    "papermill": {
     "duration": 0.019919,
     "end_time": "2023-12-25T07:07:39.656828",
     "exception": false,
     "start_time": "2023-12-25T07:07:39.636909",
     "status": "completed"
    },
    "tags": []
   },
   "outputs": [],
   "source": [
    "Grad = gbr.predict(X_test_loo)"
   ]
  },
  {
   "cell_type": "code",
   "execution_count": 31,
   "id": "be198bfc",
   "metadata": {
    "execution": {
     "iopub.execute_input": "2023-12-25T07:07:39.675649Z",
     "iopub.status.busy": "2023-12-25T07:07:39.675271Z",
     "iopub.status.idle": "2023-12-25T07:07:39.688100Z",
     "shell.execute_reply": "2023-12-25T07:07:39.686779Z"
    },
    "papermill": {
     "duration": 0.025143,
     "end_time": "2023-12-25T07:07:39.690620",
     "exception": false,
     "start_time": "2023-12-25T07:07:39.665477",
     "status": "completed"
    },
    "tags": []
   },
   "outputs": [
    {
     "data": {
      "text/html": [
       "<div>\n",
       "<style scoped>\n",
       "    .dataframe tbody tr th:only-of-type {\n",
       "        vertical-align: middle;\n",
       "    }\n",
       "\n",
       "    .dataframe tbody tr th {\n",
       "        vertical-align: top;\n",
       "    }\n",
       "\n",
       "    .dataframe thead th {\n",
       "        text-align: right;\n",
       "    }\n",
       "</style>\n",
       "<table border=\"1\" class=\"dataframe\">\n",
       "  <thead>\n",
       "    <tr style=\"text-align: right;\">\n",
       "      <th></th>\n",
       "      <th>Price</th>\n",
       "    </tr>\n",
       "    <tr>\n",
       "      <th>Id</th>\n",
       "      <th></th>\n",
       "    </tr>\n",
       "  </thead>\n",
       "  <tbody>\n",
       "    <tr>\n",
       "      <th>0</th>\n",
       "      <td>17282.816851</td>\n",
       "    </tr>\n",
       "    <tr>\n",
       "      <th>1</th>\n",
       "      <td>17095.701383</td>\n",
       "    </tr>\n",
       "    <tr>\n",
       "      <th>2</th>\n",
       "      <td>22720.222301</td>\n",
       "    </tr>\n",
       "    <tr>\n",
       "      <th>3</th>\n",
       "      <td>14147.360149</td>\n",
       "    </tr>\n",
       "    <tr>\n",
       "      <th>4</th>\n",
       "      <td>13654.367603</td>\n",
       "    </tr>\n",
       "    <tr>\n",
       "      <th>...</th>\n",
       "      <td>...</td>\n",
       "    </tr>\n",
       "    <tr>\n",
       "      <th>406</th>\n",
       "      <td>27555.099925</td>\n",
       "    </tr>\n",
       "    <tr>\n",
       "      <th>407</th>\n",
       "      <td>13905.433273</td>\n",
       "    </tr>\n",
       "    <tr>\n",
       "      <th>408</th>\n",
       "      <td>13835.306663</td>\n",
       "    </tr>\n",
       "    <tr>\n",
       "      <th>409</th>\n",
       "      <td>15604.596151</td>\n",
       "    </tr>\n",
       "    <tr>\n",
       "      <th>410</th>\n",
       "      <td>13643.460954</td>\n",
       "    </tr>\n",
       "  </tbody>\n",
       "</table>\n",
       "<p>411 rows × 1 columns</p>\n",
       "</div>"
      ],
      "text/plain": [
       "            Price\n",
       "Id               \n",
       "0    17282.816851\n",
       "1    17095.701383\n",
       "2    22720.222301\n",
       "3    14147.360149\n",
       "4    13654.367603\n",
       "..            ...\n",
       "406  27555.099925\n",
       "407  13905.433273\n",
       "408  13835.306663\n",
       "409  15604.596151\n",
       "410  13643.460954\n",
       "\n",
       "[411 rows x 1 columns]"
      ]
     },
     "execution_count": 31,
     "metadata": {},
     "output_type": "execute_result"
    }
   ],
   "source": [
    "Prediction = pd.DataFrame({\"Id\" : test[\"Id\"], \"Price\":Grad})\n",
    "Prediction.set_index(\"Id\")"
   ]
  },
  {
   "cell_type": "code",
   "execution_count": 32,
   "id": "b6aaddb7",
   "metadata": {
    "execution": {
     "iopub.execute_input": "2023-12-25T07:07:39.770703Z",
     "iopub.status.busy": "2023-12-25T07:07:39.770383Z",
     "iopub.status.idle": "2023-12-25T07:07:39.779715Z",
     "shell.execute_reply": "2023-12-25T07:07:39.778708Z"
    },
    "papermill": {
     "duration": 0.022068,
     "end_time": "2023-12-25T07:07:39.782309",
     "exception": false,
     "start_time": "2023-12-25T07:07:39.760241",
     "status": "completed"
    },
    "tags": []
   },
   "outputs": [],
   "source": [
    "Prediction.to_csv('submission.csv', index = False)"
   ]
  },
  {
   "cell_type": "code",
   "execution_count": null,
   "id": "2ee030a0",
   "metadata": {
    "papermill": {
     "duration": 0.008669,
     "end_time": "2023-12-25T07:07:39.801011",
     "exception": false,
     "start_time": "2023-12-25T07:07:39.792342",
     "status": "completed"
    },
    "tags": []
   },
   "outputs": [],
   "source": []
  }
 ],
 "metadata": {
  "kaggle": {
   "accelerator": "none",
   "dataSources": [
    {
     "databundleVersionId": 7270400,
     "sourceId": 65472,
     "sourceType": "competition"
    }
   ],
   "dockerImageVersionId": 30626,
   "isGpuEnabled": false,
   "isInternetEnabled": true,
   "language": "python",
   "sourceType": "notebook"
  },
  "kernelspec": {
   "display_name": "Python 3",
   "language": "python",
   "name": "python3"
  },
  "language_info": {
   "codemirror_mode": {
    "name": "ipython",
    "version": 3
   },
   "file_extension": ".py",
   "mimetype": "text/x-python",
   "name": "python",
   "nbconvert_exporter": "python",
   "pygments_lexer": "ipython3",
   "version": "3.10.12"
  },
  "papermill": {
   "default_parameters": {},
   "duration": 7.302808,
   "end_time": "2023-12-25T07:07:40.433072",
   "environment_variables": {},
   "exception": null,
   "input_path": "__notebook__.ipynb",
   "output_path": "__notebook__.ipynb",
   "parameters": {},
   "start_time": "2023-12-25T07:07:33.130264",
   "version": "2.4.0"
  }
 },
 "nbformat": 4,
 "nbformat_minor": 5
}
