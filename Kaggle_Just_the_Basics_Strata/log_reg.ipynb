{
 "cells": [
  {
   "cell_type": "code",
   "execution_count": 1,
   "id": "56893bc4",
   "metadata": {
    "_cell_guid": "b1076dfc-b9ad-4769-8c92-a6c4dae69d19",
    "_uuid": "8f2839f25d086af736a60e9eeb907d3b93b6e0e5",
    "execution": {
     "iopub.execute_input": "2024-01-20T08:11:22.064295Z",
     "iopub.status.busy": "2024-01-20T08:11:22.063576Z",
     "iopub.status.idle": "2024-01-20T08:11:22.512599Z",
     "shell.execute_reply": "2024-01-20T08:11:22.511214Z"
    },
    "papermill": {
     "duration": 0.46388,
     "end_time": "2024-01-20T08:11:22.515319",
     "exception": false,
     "start_time": "2024-01-20T08:11:22.051439",
     "status": "completed"
    },
    "tags": []
   },
   "outputs": [
    {
     "name": "stdout",
     "output_type": "stream",
     "text": [
      "/kaggle/input/just-the-basics-the-after-party/train_labels.csv\n",
      "/kaggle/input/just-the-basics-the-after-party/train.csv\n",
      "/kaggle/input/just-the-basics-the-after-party/test.csv\n"
     ]
    }
   ],
   "source": [
    "# This Python 3 environment comes with many helpful analytics libraries installed\n",
    "# It is defined by the kaggle/python Docker image: https://github.com/kaggle/docker-python\n",
    "# For example, here's several helpful packages to load\n",
    "\n",
    "import numpy as np # linear algebra\n",
    "import pandas as pd # data processing, CSV file I/O (e.g. pd.read_csv)\n",
    "\n",
    "# Input data files are available in the read-only \"../input/\" directory\n",
    "# For example, running this (by clicking run or pressing Shift+Enter) will list all files under the input directory\n",
    "\n",
    "import os\n",
    "for dirname, _, filenames in os.walk('/kaggle/input'):\n",
    "    for filename in filenames:\n",
    "        print(os.path.join(dirname, filename))\n",
    "\n",
    "# You can write up to 20GB to the current directory (/kaggle/working/) that gets preserved as output when you create a version using \"Save & Run All\" \n",
    "# You can also write temporary files to /kaggle/temp/, but they won't be saved outside of the current session"
   ]
  },
  {
   "cell_type": "code",
   "execution_count": 2,
   "id": "fb47cb8a",
   "metadata": {
    "execution": {
     "iopub.execute_input": "2024-01-20T08:11:22.535471Z",
     "iopub.status.busy": "2024-01-20T08:11:22.534909Z",
     "iopub.status.idle": "2024-01-20T08:11:22.540408Z",
     "shell.execute_reply": "2024-01-20T08:11:22.539219Z"
    },
    "papermill": {
     "duration": 0.018546,
     "end_time": "2024-01-20T08:11:22.543243",
     "exception": false,
     "start_time": "2024-01-20T08:11:22.524697",
     "status": "completed"
    },
    "tags": []
   },
   "outputs": [],
   "source": [
    "import pandas as pd\n",
    "import numpy as np"
   ]
  },
  {
   "cell_type": "code",
   "execution_count": 3,
   "id": "adf6cccf",
   "metadata": {
    "execution": {
     "iopub.execute_input": "2024-01-20T08:11:22.563126Z",
     "iopub.status.busy": "2024-01-20T08:11:22.562712Z",
     "iopub.status.idle": "2024-01-20T08:11:22.748741Z",
     "shell.execute_reply": "2024-01-20T08:11:22.747763Z"
    },
    "papermill": {
     "duration": 0.199293,
     "end_time": "2024-01-20T08:11:22.751694",
     "exception": false,
     "start_time": "2024-01-20T08:11:22.552401",
     "status": "completed"
    },
    "tags": []
   },
   "outputs": [],
   "source": [
    "train_df = pd.read_csv('/kaggle/input/just-the-basics-the-after-party/train.csv')\n",
    "test_df = pd.read_csv('/kaggle/input/just-the-basics-the-after-party/test.csv')\n",
    "ltrain_df = pd.read_csv('/kaggle/input/just-the-basics-the-after-party/train_labels.csv')"
   ]
  },
  {
   "cell_type": "code",
   "execution_count": 4,
   "id": "28bf647b",
   "metadata": {
    "execution": {
     "iopub.execute_input": "2024-01-20T08:11:22.771430Z",
     "iopub.status.busy": "2024-01-20T08:11:22.771062Z",
     "iopub.status.idle": "2024-01-20T08:11:22.818835Z",
     "shell.execute_reply": "2024-01-20T08:11:22.817643Z"
    },
    "papermill": {
     "duration": 0.06052,
     "end_time": "2024-01-20T08:11:22.821218",
     "exception": false,
     "start_time": "2024-01-20T08:11:22.760698",
     "status": "completed"
    },
    "tags": []
   },
   "outputs": [
    {
     "data": {
      "text/html": [
       "<div>\n",
       "<style scoped>\n",
       "    .dataframe tbody tr th:only-of-type {\n",
       "        vertical-align: middle;\n",
       "    }\n",
       "\n",
       "    .dataframe tbody tr th {\n",
       "        vertical-align: top;\n",
       "    }\n",
       "\n",
       "    .dataframe thead th {\n",
       "        text-align: right;\n",
       "    }\n",
       "</style>\n",
       "<table border=\"1\" class=\"dataframe\">\n",
       "  <thead>\n",
       "    <tr style=\"text-align: right;\">\n",
       "      <th></th>\n",
       "      <th>0.097094</th>\n",
       "      <th>1.1133</th>\n",
       "      <th>45.038</th>\n",
       "      <th>0.88184</th>\n",
       "      <th>0.087009</th>\n",
       "      <th>1.041</th>\n",
       "      <th>1.5486</th>\n",
       "      <th>3.498</th>\n",
       "      <th>1.8578</th>\n",
       "      <th>0.0096729</th>\n",
       "      <th>...</th>\n",
       "      <th>0.076209</th>\n",
       "      <th>3.6654</th>\n",
       "      <th>0.061607</th>\n",
       "      <th>0.0031605</th>\n",
       "      <th>0.036038</th>\n",
       "      <th>0.0845</th>\n",
       "      <th>2.4517</th>\n",
       "      <th>3.3373</th>\n",
       "      <th>0.065201</th>\n",
       "      <th>0.091158</th>\n",
       "    </tr>\n",
       "  </thead>\n",
       "  <tbody>\n",
       "    <tr>\n",
       "      <th>0</th>\n",
       "      <td>0.050086</td>\n",
       "      <td>0.11158</td>\n",
       "      <td>94.0800</td>\n",
       "      <td>1.76500</td>\n",
       "      <td>0.089417</td>\n",
       "      <td>4.80470</td>\n",
       "      <td>0.267420</td>\n",
       "      <td>NaN</td>\n",
       "      <td>0.56473</td>\n",
       "      <td>0.035123</td>\n",
       "      <td>...</td>\n",
       "      <td>0.054712</td>\n",
       "      <td>4.16870</td>\n",
       "      <td>0.075432</td>\n",
       "      <td>0.010869</td>\n",
       "      <td>0.063972</td>\n",
       "      <td>0.079892</td>\n",
       "      <td>1.97950</td>\n",
       "      <td>3.5064</td>\n",
       "      <td>0.072132</td>\n",
       "      <td>0.091950</td>\n",
       "    </tr>\n",
       "    <tr>\n",
       "      <th>1</th>\n",
       "      <td>0.088447</td>\n",
       "      <td>2.36340</td>\n",
       "      <td>5.0580</td>\n",
       "      <td>0.14436</td>\n",
       "      <td>0.064547</td>\n",
       "      <td>2.44400</td>\n",
       "      <td>4.254500</td>\n",
       "      <td>0.36506</td>\n",
       "      <td>1.86090</td>\n",
       "      <td>0.009759</td>\n",
       "      <td>...</td>\n",
       "      <td>0.017203</td>\n",
       "      <td>4.56130</td>\n",
       "      <td>0.046505</td>\n",
       "      <td>NaN</td>\n",
       "      <td>0.084066</td>\n",
       "      <td>0.064829</td>\n",
       "      <td>3.30870</td>\n",
       "      <td>2.9969</td>\n",
       "      <td>0.064328</td>\n",
       "      <td>0.036793</td>\n",
       "    </tr>\n",
       "    <tr>\n",
       "      <th>2</th>\n",
       "      <td>0.772540</td>\n",
       "      <td>0.59469</td>\n",
       "      <td>NaN</td>\n",
       "      <td>0.97515</td>\n",
       "      <td>0.015987</td>\n",
       "      <td>0.52884</td>\n",
       "      <td>1.488400</td>\n",
       "      <td>3.96100</td>\n",
       "      <td>4.80630</td>\n",
       "      <td>0.048617</td>\n",
       "      <td>...</td>\n",
       "      <td>0.022891</td>\n",
       "      <td>0.12832</td>\n",
       "      <td>0.065028</td>\n",
       "      <td>0.036862</td>\n",
       "      <td>0.010010</td>\n",
       "      <td>0.020709</td>\n",
       "      <td>2.52370</td>\n",
       "      <td>2.1711</td>\n",
       "      <td>0.080865</td>\n",
       "      <td>0.081553</td>\n",
       "    </tr>\n",
       "    <tr>\n",
       "      <th>3</th>\n",
       "      <td>0.382410</td>\n",
       "      <td>4.81090</td>\n",
       "      <td>1955.1000</td>\n",
       "      <td>0.46050</td>\n",
       "      <td>0.024453</td>\n",
       "      <td>2.02980</td>\n",
       "      <td>3.740300</td>\n",
       "      <td>4.22810</td>\n",
       "      <td>2.42920</td>\n",
       "      <td>0.156830</td>\n",
       "      <td>...</td>\n",
       "      <td>0.032051</td>\n",
       "      <td>4.37010</td>\n",
       "      <td>1.001100</td>\n",
       "      <td>0.065750</td>\n",
       "      <td>0.043547</td>\n",
       "      <td>0.629430</td>\n",
       "      <td>4.62620</td>\n",
       "      <td>3.1947</td>\n",
       "      <td>NaN</td>\n",
       "      <td>0.187180</td>\n",
       "    </tr>\n",
       "    <tr>\n",
       "      <th>4</th>\n",
       "      <td>0.081316</td>\n",
       "      <td>4.84150</td>\n",
       "      <td>4.0507</td>\n",
       "      <td>2.48320</td>\n",
       "      <td>0.058990</td>\n",
       "      <td>2.37940</td>\n",
       "      <td>1.612700</td>\n",
       "      <td>2.04220</td>\n",
       "      <td>1.65710</td>\n",
       "      <td>0.039377</td>\n",
       "      <td>...</td>\n",
       "      <td>0.018918</td>\n",
       "      <td>2.68040</td>\n",
       "      <td>0.076524</td>\n",
       "      <td>0.082756</td>\n",
       "      <td>0.041953</td>\n",
       "      <td>0.018092</td>\n",
       "      <td>3.30410</td>\n",
       "      <td>0.1922</td>\n",
       "      <td>0.032600</td>\n",
       "      <td>0.050172</td>\n",
       "    </tr>\n",
       "    <tr>\n",
       "      <th>...</th>\n",
       "      <td>...</td>\n",
       "      <td>...</td>\n",
       "      <td>...</td>\n",
       "      <td>...</td>\n",
       "      <td>...</td>\n",
       "      <td>...</td>\n",
       "      <td>...</td>\n",
       "      <td>...</td>\n",
       "      <td>...</td>\n",
       "      <td>...</td>\n",
       "      <td>...</td>\n",
       "      <td>...</td>\n",
       "      <td>...</td>\n",
       "      <td>...</td>\n",
       "      <td>...</td>\n",
       "      <td>...</td>\n",
       "      <td>...</td>\n",
       "      <td>...</td>\n",
       "      <td>...</td>\n",
       "      <td>...</td>\n",
       "      <td>...</td>\n",
       "    </tr>\n",
       "    <tr>\n",
       "      <th>594</th>\n",
       "      <td>0.083012</td>\n",
       "      <td>4.44000</td>\n",
       "      <td>1140.1000</td>\n",
       "      <td>5.04650</td>\n",
       "      <td>0.069693</td>\n",
       "      <td>4.32170</td>\n",
       "      <td>2.652700</td>\n",
       "      <td>4.80340</td>\n",
       "      <td>4.91870</td>\n",
       "      <td>0.088879</td>\n",
       "      <td>...</td>\n",
       "      <td>0.054703</td>\n",
       "      <td>3.50690</td>\n",
       "      <td>0.518980</td>\n",
       "      <td>0.047767</td>\n",
       "      <td>0.061994</td>\n",
       "      <td>0.256460</td>\n",
       "      <td>3.57210</td>\n",
       "      <td>4.7692</td>\n",
       "      <td>0.056299</td>\n",
       "      <td>0.162660</td>\n",
       "    </tr>\n",
       "    <tr>\n",
       "      <th>595</th>\n",
       "      <td>0.523780</td>\n",
       "      <td>3.32790</td>\n",
       "      <td>122.0500</td>\n",
       "      <td>3.54630</td>\n",
       "      <td>1.010900</td>\n",
       "      <td>1.72230</td>\n",
       "      <td>3.131200</td>\n",
       "      <td>3.75900</td>\n",
       "      <td>3.61270</td>\n",
       "      <td>0.061250</td>\n",
       "      <td>...</td>\n",
       "      <td>0.351960</td>\n",
       "      <td>1.55980</td>\n",
       "      <td>0.023365</td>\n",
       "      <td>1.084000</td>\n",
       "      <td>0.072553</td>\n",
       "      <td>0.049359</td>\n",
       "      <td>3.46930</td>\n",
       "      <td>3.1465</td>\n",
       "      <td>0.031458</td>\n",
       "      <td>0.019107</td>\n",
       "    </tr>\n",
       "    <tr>\n",
       "      <th>596</th>\n",
       "      <td>0.995510</td>\n",
       "      <td>1.60620</td>\n",
       "      <td>464.0900</td>\n",
       "      <td>3.58910</td>\n",
       "      <td>0.091039</td>\n",
       "      <td>1.62010</td>\n",
       "      <td>3.688400</td>\n",
       "      <td>1.84550</td>\n",
       "      <td>0.41606</td>\n",
       "      <td>0.548030</td>\n",
       "      <td>...</td>\n",
       "      <td>0.114580</td>\n",
       "      <td>3.32090</td>\n",
       "      <td>0.019906</td>\n",
       "      <td>0.057709</td>\n",
       "      <td>0.097567</td>\n",
       "      <td>0.073208</td>\n",
       "      <td>0.62583</td>\n",
       "      <td>4.6044</td>\n",
       "      <td>0.071155</td>\n",
       "      <td>0.053476</td>\n",
       "    </tr>\n",
       "    <tr>\n",
       "      <th>597</th>\n",
       "      <td>1.208000</td>\n",
       "      <td>2.10000</td>\n",
       "      <td>24.0110</td>\n",
       "      <td>2.92140</td>\n",
       "      <td>0.055663</td>\n",
       "      <td>0.78477</td>\n",
       "      <td>1.288900</td>\n",
       "      <td>3.18080</td>\n",
       "      <td>4.77850</td>\n",
       "      <td>0.050453</td>\n",
       "      <td>...</td>\n",
       "      <td>0.011022</td>\n",
       "      <td>2.48810</td>\n",
       "      <td>0.061171</td>\n",
       "      <td>0.070312</td>\n",
       "      <td>NaN</td>\n",
       "      <td>0.043862</td>\n",
       "      <td>0.58203</td>\n",
       "      <td>4.5994</td>\n",
       "      <td>0.045182</td>\n",
       "      <td>0.031991</td>\n",
       "    </tr>\n",
       "    <tr>\n",
       "      <th>598</th>\n",
       "      <td>0.083476</td>\n",
       "      <td>2.86980</td>\n",
       "      <td>37.0740</td>\n",
       "      <td>3.08970</td>\n",
       "      <td>0.086909</td>\n",
       "      <td>4.91600</td>\n",
       "      <td>0.087911</td>\n",
       "      <td>2.55460</td>\n",
       "      <td>2.13250</td>\n",
       "      <td>0.069508</td>\n",
       "      <td>...</td>\n",
       "      <td>0.615660</td>\n",
       "      <td>0.12656</td>\n",
       "      <td>0.085419</td>\n",
       "      <td>0.002887</td>\n",
       "      <td>0.007303</td>\n",
       "      <td>0.009501</td>\n",
       "      <td>4.80320</td>\n",
       "      <td>1.7190</td>\n",
       "      <td>0.054735</td>\n",
       "      <td>0.035035</td>\n",
       "    </tr>\n",
       "  </tbody>\n",
       "</table>\n",
       "<p>599 rows × 100 columns</p>\n",
       "</div>"
      ],
      "text/plain": [
       "     0.097094   1.1133     45.038  0.88184  0.087009    1.041    1.5486  \\\n",
       "0    0.050086  0.11158    94.0800  1.76500  0.089417  4.80470  0.267420   \n",
       "1    0.088447  2.36340     5.0580  0.14436  0.064547  2.44400  4.254500   \n",
       "2    0.772540  0.59469        NaN  0.97515  0.015987  0.52884  1.488400   \n",
       "3    0.382410  4.81090  1955.1000  0.46050  0.024453  2.02980  3.740300   \n",
       "4    0.081316  4.84150     4.0507  2.48320  0.058990  2.37940  1.612700   \n",
       "..        ...      ...        ...      ...       ...      ...       ...   \n",
       "594  0.083012  4.44000  1140.1000  5.04650  0.069693  4.32170  2.652700   \n",
       "595  0.523780  3.32790   122.0500  3.54630  1.010900  1.72230  3.131200   \n",
       "596  0.995510  1.60620   464.0900  3.58910  0.091039  1.62010  3.688400   \n",
       "597  1.208000  2.10000    24.0110  2.92140  0.055663  0.78477  1.288900   \n",
       "598  0.083476  2.86980    37.0740  3.08970  0.086909  4.91600  0.087911   \n",
       "\n",
       "       3.498   1.8578  0.0096729  ...  0.076209   3.6654  0.061607  0.0031605  \\\n",
       "0        NaN  0.56473   0.035123  ...  0.054712  4.16870  0.075432   0.010869   \n",
       "1    0.36506  1.86090   0.009759  ...  0.017203  4.56130  0.046505        NaN   \n",
       "2    3.96100  4.80630   0.048617  ...  0.022891  0.12832  0.065028   0.036862   \n",
       "3    4.22810  2.42920   0.156830  ...  0.032051  4.37010  1.001100   0.065750   \n",
       "4    2.04220  1.65710   0.039377  ...  0.018918  2.68040  0.076524   0.082756   \n",
       "..       ...      ...        ...  ...       ...      ...       ...        ...   \n",
       "594  4.80340  4.91870   0.088879  ...  0.054703  3.50690  0.518980   0.047767   \n",
       "595  3.75900  3.61270   0.061250  ...  0.351960  1.55980  0.023365   1.084000   \n",
       "596  1.84550  0.41606   0.548030  ...  0.114580  3.32090  0.019906   0.057709   \n",
       "597  3.18080  4.77850   0.050453  ...  0.011022  2.48810  0.061171   0.070312   \n",
       "598  2.55460  2.13250   0.069508  ...  0.615660  0.12656  0.085419   0.002887   \n",
       "\n",
       "     0.036038    0.0845   2.4517  3.3373  0.065201  0.091158  \n",
       "0    0.063972  0.079892  1.97950  3.5064  0.072132  0.091950  \n",
       "1    0.084066  0.064829  3.30870  2.9969  0.064328  0.036793  \n",
       "2    0.010010  0.020709  2.52370  2.1711  0.080865  0.081553  \n",
       "3    0.043547  0.629430  4.62620  3.1947       NaN  0.187180  \n",
       "4    0.041953  0.018092  3.30410  0.1922  0.032600  0.050172  \n",
       "..        ...       ...      ...     ...       ...       ...  \n",
       "594  0.061994  0.256460  3.57210  4.7692  0.056299  0.162660  \n",
       "595  0.072553  0.049359  3.46930  3.1465  0.031458  0.019107  \n",
       "596  0.097567  0.073208  0.62583  4.6044  0.071155  0.053476  \n",
       "597       NaN  0.043862  0.58203  4.5994  0.045182  0.031991  \n",
       "598  0.007303  0.009501  4.80320  1.7190  0.054735  0.035035  \n",
       "\n",
       "[599 rows x 100 columns]"
      ]
     },
     "execution_count": 4,
     "metadata": {},
     "output_type": "execute_result"
    }
   ],
   "source": [
    "train_df"
   ]
  },
  {
   "cell_type": "code",
   "execution_count": 5,
   "id": "0b92c19c",
   "metadata": {
    "execution": {
     "iopub.execute_input": "2024-01-20T08:11:22.842234Z",
     "iopub.status.busy": "2024-01-20T08:11:22.841786Z",
     "iopub.status.idle": "2024-01-20T08:11:22.877067Z",
     "shell.execute_reply": "2024-01-20T08:11:22.876180Z"
    },
    "papermill": {
     "duration": 0.048508,
     "end_time": "2024-01-20T08:11:22.879265",
     "exception": false,
     "start_time": "2024-01-20T08:11:22.830757",
     "status": "completed"
    },
    "tags": []
   },
   "outputs": [
    {
     "data": {
      "text/html": [
       "<div>\n",
       "<style scoped>\n",
       "    .dataframe tbody tr th:only-of-type {\n",
       "        vertical-align: middle;\n",
       "    }\n",
       "\n",
       "    .dataframe tbody tr th {\n",
       "        vertical-align: top;\n",
       "    }\n",
       "\n",
       "    .dataframe thead th {\n",
       "        text-align: right;\n",
       "    }\n",
       "</style>\n",
       "<table border=\"1\" class=\"dataframe\">\n",
       "  <thead>\n",
       "    <tr style=\"text-align: right;\">\n",
       "      <th></th>\n",
       "      <th>0.1312</th>\n",
       "      <th>4.2014</th>\n",
       "      <th>1428.1</th>\n",
       "      <th>2.9094</th>\n",
       "      <th>NaN</th>\n",
       "      <th>2.665</th>\n",
       "      <th>4.5456</th>\n",
       "      <th>0.62337</th>\n",
       "      <th>4.7625</th>\n",
       "      <th>4.2873</th>\n",
       "      <th>...</th>\n",
       "      <th>0.099056</th>\n",
       "      <th>2.0518</th>\n",
       "      <th>0.0089453</th>\n",
       "      <th>0.087689</th>\n",
       "      <th>0.070505</th>\n",
       "      <th>0.029144</th>\n",
       "      <th>1.1697</th>\n",
       "      <th>0.50162</th>\n",
       "      <th>0.045636</th>\n",
       "      <th>0.14237</th>\n",
       "    </tr>\n",
       "  </thead>\n",
       "  <tbody>\n",
       "    <tr>\n",
       "      <th>0</th>\n",
       "      <td>0.083796</td>\n",
       "      <td>3.92690</td>\n",
       "      <td>80.0590</td>\n",
       "      <td>1.87800</td>\n",
       "      <td>0.064623</td>\n",
       "      <td>4.14680</td>\n",
       "      <td>3.72740</td>\n",
       "      <td>0.10988</td>\n",
       "      <td>1.90250</td>\n",
       "      <td>0.093267</td>\n",
       "      <td>...</td>\n",
       "      <td>0.046586</td>\n",
       "      <td>2.9683</td>\n",
       "      <td>0.079120</td>\n",
       "      <td>0.079630</td>\n",
       "      <td>0.026689</td>\n",
       "      <td>0.066626</td>\n",
       "      <td>1.94460</td>\n",
       "      <td>2.2163</td>\n",
       "      <td>0.099828</td>\n",
       "      <td>0.088621</td>\n",
       "    </tr>\n",
       "    <tr>\n",
       "      <th>1</th>\n",
       "      <td>0.067591</td>\n",
       "      <td>3.01070</td>\n",
       "      <td>25.0300</td>\n",
       "      <td>1.26430</td>\n",
       "      <td>3.031100</td>\n",
       "      <td>3.09690</td>\n",
       "      <td>1.78210</td>\n",
       "      <td>1.43460</td>\n",
       "      <td>1.88170</td>\n",
       "      <td>0.002060</td>\n",
       "      <td>...</td>\n",
       "      <td>0.099853</td>\n",
       "      <td>1.2933</td>\n",
       "      <td>0.015907</td>\n",
       "      <td>0.061634</td>\n",
       "      <td>0.079210</td>\n",
       "      <td>0.022622</td>\n",
       "      <td>2.01960</td>\n",
       "      <td>3.4430</td>\n",
       "      <td>0.069516</td>\n",
       "      <td>0.025426</td>\n",
       "    </tr>\n",
       "    <tr>\n",
       "      <th>2</th>\n",
       "      <td>0.064830</td>\n",
       "      <td>0.11960</td>\n",
       "      <td>5.0957</td>\n",
       "      <td>1.93660</td>\n",
       "      <td>0.028638</td>\n",
       "      <td>1.21470</td>\n",
       "      <td>0.34675</td>\n",
       "      <td>1.11880</td>\n",
       "      <td>0.99529</td>\n",
       "      <td>0.060067</td>\n",
       "      <td>...</td>\n",
       "      <td>0.095575</td>\n",
       "      <td>4.4767</td>\n",
       "      <td>NaN</td>\n",
       "      <td>0.067340</td>\n",
       "      <td>0.054280</td>\n",
       "      <td>0.003331</td>\n",
       "      <td>0.95697</td>\n",
       "      <td>3.6970</td>\n",
       "      <td>0.049861</td>\n",
       "      <td>0.073140</td>\n",
       "    </tr>\n",
       "    <tr>\n",
       "      <th>3</th>\n",
       "      <td>0.345720</td>\n",
       "      <td>1.42610</td>\n",
       "      <td>44.0410</td>\n",
       "      <td>2.76560</td>\n",
       "      <td>0.095754</td>\n",
       "      <td>1.70890</td>\n",
       "      <td>3.94490</td>\n",
       "      <td>0.11820</td>\n",
       "      <td>1.50260</td>\n",
       "      <td>0.030124</td>\n",
       "      <td>...</td>\n",
       "      <td>0.210120</td>\n",
       "      <td>1.2719</td>\n",
       "      <td>0.028321</td>\n",
       "      <td>0.086113</td>\n",
       "      <td>0.007885</td>\n",
       "      <td>0.528200</td>\n",
       "      <td>1.87460</td>\n",
       "      <td>2.1488</td>\n",
       "      <td>0.030729</td>\n",
       "      <td>0.020493</td>\n",
       "    </tr>\n",
       "    <tr>\n",
       "      <th>4</th>\n",
       "      <td>0.080434</td>\n",
       "      <td>0.88394</td>\n",
       "      <td>30.0330</td>\n",
       "      <td>4.13900</td>\n",
       "      <td>0.021173</td>\n",
       "      <td>4.77530</td>\n",
       "      <td>2.83760</td>\n",
       "      <td>3.56910</td>\n",
       "      <td>4.84780</td>\n",
       "      <td>0.034984</td>\n",
       "      <td>...</td>\n",
       "      <td>0.052596</td>\n",
       "      <td>0.7264</td>\n",
       "      <td>0.085290</td>\n",
       "      <td>0.084134</td>\n",
       "      <td>0.015853</td>\n",
       "      <td>0.084836</td>\n",
       "      <td>4.45840</td>\n",
       "      <td>3.9588</td>\n",
       "      <td>0.091619</td>\n",
       "      <td>0.007432</td>\n",
       "    </tr>\n",
       "    <tr>\n",
       "      <th>...</th>\n",
       "      <td>...</td>\n",
       "      <td>...</td>\n",
       "      <td>...</td>\n",
       "      <td>...</td>\n",
       "      <td>...</td>\n",
       "      <td>...</td>\n",
       "      <td>...</td>\n",
       "      <td>...</td>\n",
       "      <td>...</td>\n",
       "      <td>...</td>\n",
       "      <td>...</td>\n",
       "      <td>...</td>\n",
       "      <td>...</td>\n",
       "      <td>...</td>\n",
       "      <td>...</td>\n",
       "      <td>...</td>\n",
       "      <td>...</td>\n",
       "      <td>...</td>\n",
       "      <td>...</td>\n",
       "      <td>...</td>\n",
       "      <td>...</td>\n",
       "    </tr>\n",
       "    <tr>\n",
       "      <th>3994</th>\n",
       "      <td>0.036445</td>\n",
       "      <td>3.86630</td>\n",
       "      <td>530.0100</td>\n",
       "      <td>3.19080</td>\n",
       "      <td>0.043165</td>\n",
       "      <td>0.21049</td>\n",
       "      <td>1.61840</td>\n",
       "      <td>2.67970</td>\n",
       "      <td>4.23950</td>\n",
       "      <td>0.075493</td>\n",
       "      <td>...</td>\n",
       "      <td>0.177070</td>\n",
       "      <td>3.7940</td>\n",
       "      <td>0.021300</td>\n",
       "      <td>0.082044</td>\n",
       "      <td>0.030834</td>\n",
       "      <td>0.068292</td>\n",
       "      <td>3.56710</td>\n",
       "      <td>2.9700</td>\n",
       "      <td>0.093883</td>\n",
       "      <td>0.056370</td>\n",
       "    </tr>\n",
       "    <tr>\n",
       "      <th>3995</th>\n",
       "      <td>0.080715</td>\n",
       "      <td>3.06090</td>\n",
       "      <td>145.0900</td>\n",
       "      <td>1.74360</td>\n",
       "      <td>0.051496</td>\n",
       "      <td>4.04320</td>\n",
       "      <td>4.01490</td>\n",
       "      <td>3.08130</td>\n",
       "      <td>2.81060</td>\n",
       "      <td>0.022633</td>\n",
       "      <td>...</td>\n",
       "      <td>0.029050</td>\n",
       "      <td>1.5209</td>\n",
       "      <td>0.023879</td>\n",
       "      <td>0.084377</td>\n",
       "      <td>0.005575</td>\n",
       "      <td>0.119900</td>\n",
       "      <td>1.37370</td>\n",
       "      <td>1.3530</td>\n",
       "      <td>0.068311</td>\n",
       "      <td>NaN</td>\n",
       "    </tr>\n",
       "    <tr>\n",
       "      <th>3996</th>\n",
       "      <td>0.260410</td>\n",
       "      <td>4.01400</td>\n",
       "      <td>1161.1000</td>\n",
       "      <td>0.58602</td>\n",
       "      <td>0.826840</td>\n",
       "      <td>0.31077</td>\n",
       "      <td>1.59060</td>\n",
       "      <td>3.87060</td>\n",
       "      <td>3.56340</td>\n",
       "      <td>0.090322</td>\n",
       "      <td>...</td>\n",
       "      <td>0.226540</td>\n",
       "      <td>4.0418</td>\n",
       "      <td>0.070592</td>\n",
       "      <td>0.014543</td>\n",
       "      <td>0.014508</td>\n",
       "      <td>0.018798</td>\n",
       "      <td>1.90200</td>\n",
       "      <td>4.9176</td>\n",
       "      <td>0.115350</td>\n",
       "      <td>0.018841</td>\n",
       "    </tr>\n",
       "    <tr>\n",
       "      <th>3997</th>\n",
       "      <td>0.048965</td>\n",
       "      <td>0.75552</td>\n",
       "      <td>474.0100</td>\n",
       "      <td>2.68170</td>\n",
       "      <td>0.050257</td>\n",
       "      <td>2.62300</td>\n",
       "      <td>4.58700</td>\n",
       "      <td>1.96530</td>\n",
       "      <td>1.20000</td>\n",
       "      <td>0.004702</td>\n",
       "      <td>...</td>\n",
       "      <td>0.033444</td>\n",
       "      <td>NaN</td>\n",
       "      <td>0.090492</td>\n",
       "      <td>0.013366</td>\n",
       "      <td>0.030227</td>\n",
       "      <td>0.063834</td>\n",
       "      <td>3.21960</td>\n",
       "      <td>3.7884</td>\n",
       "      <td>0.016478</td>\n",
       "      <td>0.449020</td>\n",
       "    </tr>\n",
       "    <tr>\n",
       "      <th>3998</th>\n",
       "      <td>0.442450</td>\n",
       "      <td>4.21940</td>\n",
       "      <td>1123.0000</td>\n",
       "      <td>2.52890</td>\n",
       "      <td>0.207100</td>\n",
       "      <td>2.36520</td>\n",
       "      <td>3.60050</td>\n",
       "      <td>0.90793</td>\n",
       "      <td>3.31500</td>\n",
       "      <td>0.058202</td>\n",
       "      <td>...</td>\n",
       "      <td>0.019618</td>\n",
       "      <td>1.7651</td>\n",
       "      <td>0.109600</td>\n",
       "      <td>0.090383</td>\n",
       "      <td>0.027032</td>\n",
       "      <td>0.059189</td>\n",
       "      <td>0.58813</td>\n",
       "      <td>2.5317</td>\n",
       "      <td>0.253890</td>\n",
       "      <td>0.076536</td>\n",
       "    </tr>\n",
       "  </tbody>\n",
       "</table>\n",
       "<p>3999 rows × 100 columns</p>\n",
       "</div>"
      ],
      "text/plain": [
       "        0.1312   4.2014     1428.1   2.9094       NaN    2.665   4.5456  \\\n",
       "0     0.083796  3.92690    80.0590  1.87800  0.064623  4.14680  3.72740   \n",
       "1     0.067591  3.01070    25.0300  1.26430  3.031100  3.09690  1.78210   \n",
       "2     0.064830  0.11960     5.0957  1.93660  0.028638  1.21470  0.34675   \n",
       "3     0.345720  1.42610    44.0410  2.76560  0.095754  1.70890  3.94490   \n",
       "4     0.080434  0.88394    30.0330  4.13900  0.021173  4.77530  2.83760   \n",
       "...        ...      ...        ...      ...       ...      ...      ...   \n",
       "3994  0.036445  3.86630   530.0100  3.19080  0.043165  0.21049  1.61840   \n",
       "3995  0.080715  3.06090   145.0900  1.74360  0.051496  4.04320  4.01490   \n",
       "3996  0.260410  4.01400  1161.1000  0.58602  0.826840  0.31077  1.59060   \n",
       "3997  0.048965  0.75552   474.0100  2.68170  0.050257  2.62300  4.58700   \n",
       "3998  0.442450  4.21940  1123.0000  2.52890  0.207100  2.36520  3.60050   \n",
       "\n",
       "      0.62337   4.7625    4.2873  ...  0.099056  2.0518  0.0089453  0.087689  \\\n",
       "0     0.10988  1.90250  0.093267  ...  0.046586  2.9683   0.079120  0.079630   \n",
       "1     1.43460  1.88170  0.002060  ...  0.099853  1.2933   0.015907  0.061634   \n",
       "2     1.11880  0.99529  0.060067  ...  0.095575  4.4767        NaN  0.067340   \n",
       "3     0.11820  1.50260  0.030124  ...  0.210120  1.2719   0.028321  0.086113   \n",
       "4     3.56910  4.84780  0.034984  ...  0.052596  0.7264   0.085290  0.084134   \n",
       "...       ...      ...       ...  ...       ...     ...        ...       ...   \n",
       "3994  2.67970  4.23950  0.075493  ...  0.177070  3.7940   0.021300  0.082044   \n",
       "3995  3.08130  2.81060  0.022633  ...  0.029050  1.5209   0.023879  0.084377   \n",
       "3996  3.87060  3.56340  0.090322  ...  0.226540  4.0418   0.070592  0.014543   \n",
       "3997  1.96530  1.20000  0.004702  ...  0.033444     NaN   0.090492  0.013366   \n",
       "3998  0.90793  3.31500  0.058202  ...  0.019618  1.7651   0.109600  0.090383   \n",
       "\n",
       "      0.070505  0.029144   1.1697  0.50162  0.045636   0.14237  \n",
       "0     0.026689  0.066626  1.94460   2.2163  0.099828  0.088621  \n",
       "1     0.079210  0.022622  2.01960   3.4430  0.069516  0.025426  \n",
       "2     0.054280  0.003331  0.95697   3.6970  0.049861  0.073140  \n",
       "3     0.007885  0.528200  1.87460   2.1488  0.030729  0.020493  \n",
       "4     0.015853  0.084836  4.45840   3.9588  0.091619  0.007432  \n",
       "...        ...       ...      ...      ...       ...       ...  \n",
       "3994  0.030834  0.068292  3.56710   2.9700  0.093883  0.056370  \n",
       "3995  0.005575  0.119900  1.37370   1.3530  0.068311       NaN  \n",
       "3996  0.014508  0.018798  1.90200   4.9176  0.115350  0.018841  \n",
       "3997  0.030227  0.063834  3.21960   3.7884  0.016478  0.449020  \n",
       "3998  0.027032  0.059189  0.58813   2.5317  0.253890  0.076536  \n",
       "\n",
       "[3999 rows x 100 columns]"
      ]
     },
     "execution_count": 5,
     "metadata": {},
     "output_type": "execute_result"
    }
   ],
   "source": [
    "test_df"
   ]
  },
  {
   "cell_type": "code",
   "execution_count": 6,
   "id": "aab7a3c4",
   "metadata": {
    "execution": {
     "iopub.execute_input": "2024-01-20T08:11:22.901698Z",
     "iopub.status.busy": "2024-01-20T08:11:22.901072Z",
     "iopub.status.idle": "2024-01-20T08:11:22.911121Z",
     "shell.execute_reply": "2024-01-20T08:11:22.910021Z"
    },
    "papermill": {
     "duration": 0.024147,
     "end_time": "2024-01-20T08:11:22.913514",
     "exception": false,
     "start_time": "2024-01-20T08:11:22.889367",
     "status": "completed"
    },
    "tags": []
   },
   "outputs": [
    {
     "data": {
      "text/html": [
       "<div>\n",
       "<style scoped>\n",
       "    .dataframe tbody tr th:only-of-type {\n",
       "        vertical-align: middle;\n",
       "    }\n",
       "\n",
       "    .dataframe tbody tr th {\n",
       "        vertical-align: top;\n",
       "    }\n",
       "\n",
       "    .dataframe thead th {\n",
       "        text-align: right;\n",
       "    }\n",
       "</style>\n",
       "<table border=\"1\" class=\"dataframe\">\n",
       "  <thead>\n",
       "    <tr style=\"text-align: right;\">\n",
       "      <th></th>\n",
       "      <th>0</th>\n",
       "    </tr>\n",
       "  </thead>\n",
       "  <tbody>\n",
       "    <tr>\n",
       "      <th>0</th>\n",
       "      <td>1</td>\n",
       "    </tr>\n",
       "    <tr>\n",
       "      <th>1</th>\n",
       "      <td>0</td>\n",
       "    </tr>\n",
       "    <tr>\n",
       "      <th>2</th>\n",
       "      <td>0</td>\n",
       "    </tr>\n",
       "    <tr>\n",
       "      <th>3</th>\n",
       "      <td>1</td>\n",
       "    </tr>\n",
       "    <tr>\n",
       "      <th>4</th>\n",
       "      <td>0</td>\n",
       "    </tr>\n",
       "    <tr>\n",
       "      <th>...</th>\n",
       "      <td>...</td>\n",
       "    </tr>\n",
       "    <tr>\n",
       "      <th>594</th>\n",
       "      <td>1</td>\n",
       "    </tr>\n",
       "    <tr>\n",
       "      <th>595</th>\n",
       "      <td>0</td>\n",
       "    </tr>\n",
       "    <tr>\n",
       "      <th>596</th>\n",
       "      <td>1</td>\n",
       "    </tr>\n",
       "    <tr>\n",
       "      <th>597</th>\n",
       "      <td>0</td>\n",
       "    </tr>\n",
       "    <tr>\n",
       "      <th>598</th>\n",
       "      <td>0</td>\n",
       "    </tr>\n",
       "  </tbody>\n",
       "</table>\n",
       "<p>599 rows × 1 columns</p>\n",
       "</div>"
      ],
      "text/plain": [
       "     0\n",
       "0    1\n",
       "1    0\n",
       "2    0\n",
       "3    1\n",
       "4    0\n",
       "..  ..\n",
       "594  1\n",
       "595  0\n",
       "596  1\n",
       "597  0\n",
       "598  0\n",
       "\n",
       "[599 rows x 1 columns]"
      ]
     },
     "execution_count": 6,
     "metadata": {},
     "output_type": "execute_result"
    }
   ],
   "source": [
    "ltrain_df"
   ]
  },
  {
   "cell_type": "code",
   "execution_count": 7,
   "id": "03df9eca",
   "metadata": {
    "execution": {
     "iopub.execute_input": "2024-01-20T08:11:22.936068Z",
     "iopub.status.busy": "2024-01-20T08:11:22.935665Z",
     "iopub.status.idle": "2024-01-20T08:11:22.947025Z",
     "shell.execute_reply": "2024-01-20T08:11:22.946069Z"
    },
    "papermill": {
     "duration": 0.025261,
     "end_time": "2024-01-20T08:11:22.949194",
     "exception": false,
     "start_time": "2024-01-20T08:11:22.923933",
     "status": "completed"
    },
    "tags": []
   },
   "outputs": [
    {
     "data": {
      "text/plain": [
       "0.097094    15\n",
       "1.1133      10\n",
       "45.038      20\n",
       "0.88184     20\n",
       "0.087009    25\n",
       "            ..\n",
       "0.0845      17\n",
       "2.4517      16\n",
       "3.3373      18\n",
       "0.065201    19\n",
       "0.091158    26\n",
       "Length: 100, dtype: int64"
      ]
     },
     "execution_count": 7,
     "metadata": {},
     "output_type": "execute_result"
    }
   ],
   "source": [
    "train_df.isnull().sum()"
   ]
  },
  {
   "cell_type": "code",
   "execution_count": 8,
   "id": "1a0b29df",
   "metadata": {
    "execution": {
     "iopub.execute_input": "2024-01-20T08:11:22.972633Z",
     "iopub.status.busy": "2024-01-20T08:11:22.971434Z",
     "iopub.status.idle": "2024-01-20T08:11:22.977129Z",
     "shell.execute_reply": "2024-01-20T08:11:22.975974Z"
    },
    "papermill": {
     "duration": 0.02023,
     "end_time": "2024-01-20T08:11:22.979929",
     "exception": false,
     "start_time": "2024-01-20T08:11:22.959699",
     "status": "completed"
    },
    "tags": []
   },
   "outputs": [],
   "source": [
    "train_df = train_df.fillna(0)"
   ]
  },
  {
   "cell_type": "code",
   "execution_count": 9,
   "id": "1ef97bba",
   "metadata": {
    "execution": {
     "iopub.execute_input": "2024-01-20T08:11:23.003284Z",
     "iopub.status.busy": "2024-01-20T08:11:23.002861Z",
     "iopub.status.idle": "2024-01-20T08:11:23.011907Z",
     "shell.execute_reply": "2024-01-20T08:11:23.010875Z"
    },
    "papermill": {
     "duration": 0.023549,
     "end_time": "2024-01-20T08:11:23.014372",
     "exception": false,
     "start_time": "2024-01-20T08:11:22.990823",
     "status": "completed"
    },
    "tags": []
   },
   "outputs": [],
   "source": [
    "test_df = test_df.fillna(0)"
   ]
  },
  {
   "cell_type": "code",
   "execution_count": 10,
   "id": "9bca1d65",
   "metadata": {
    "execution": {
     "iopub.execute_input": "2024-01-20T08:11:23.039556Z",
     "iopub.status.busy": "2024-01-20T08:11:23.037682Z",
     "iopub.status.idle": "2024-01-20T08:11:24.410941Z",
     "shell.execute_reply": "2024-01-20T08:11:24.409735Z"
    },
    "papermill": {
     "duration": 1.388216,
     "end_time": "2024-01-20T08:11:24.413810",
     "exception": false,
     "start_time": "2024-01-20T08:11:23.025594",
     "status": "completed"
    },
    "tags": []
   },
   "outputs": [],
   "source": [
    "from sklearn.model_selection import train_test_split\n",
    "from sklearn.preprocessing import MinMaxScaler, StandardScaler"
   ]
  },
  {
   "cell_type": "code",
   "execution_count": 11,
   "id": "7ce0ce1b",
   "metadata": {
    "execution": {
     "iopub.execute_input": "2024-01-20T08:11:24.437387Z",
     "iopub.status.busy": "2024-01-20T08:11:24.436975Z",
     "iopub.status.idle": "2024-01-20T08:11:24.448611Z",
     "shell.execute_reply": "2024-01-20T08:11:24.447551Z"
    },
    "papermill": {
     "duration": 0.026609,
     "end_time": "2024-01-20T08:11:24.451369",
     "exception": false,
     "start_time": "2024-01-20T08:11:24.424760",
     "status": "completed"
    },
    "tags": []
   },
   "outputs": [],
   "source": [
    "X_train, X_valid, y_train, y_valid = train_test_split(train_df, ltrain_df)"
   ]
  },
  {
   "cell_type": "code",
   "execution_count": 12,
   "id": "0f65be3c",
   "metadata": {
    "execution": {
     "iopub.execute_input": "2024-01-20T08:11:24.475601Z",
     "iopub.status.busy": "2024-01-20T08:11:24.474781Z",
     "iopub.status.idle": "2024-01-20T08:11:24.671351Z",
     "shell.execute_reply": "2024-01-20T08:11:24.670136Z"
    },
    "papermill": {
     "duration": 0.211753,
     "end_time": "2024-01-20T08:11:24.674345",
     "exception": false,
     "start_time": "2024-01-20T08:11:24.462592",
     "status": "completed"
    },
    "tags": []
   },
   "outputs": [],
   "source": [
    "from sklearn.linear_model import RidgeClassifierCV, LogisticRegressionCV\n",
    "from sklearn.metrics import accuracy_score"
   ]
  },
  {
   "cell_type": "code",
   "execution_count": 13,
   "id": "c2036f2f",
   "metadata": {
    "execution": {
     "iopub.execute_input": "2024-01-20T08:11:24.698930Z",
     "iopub.status.busy": "2024-01-20T08:11:24.697717Z",
     "iopub.status.idle": "2024-01-20T08:11:24.704055Z",
     "shell.execute_reply": "2024-01-20T08:11:24.702705Z"
    },
    "papermill": {
     "duration": 0.021707,
     "end_time": "2024-01-20T08:11:24.706541",
     "exception": false,
     "start_time": "2024-01-20T08:11:24.684834",
     "status": "completed"
    },
    "tags": []
   },
   "outputs": [],
   "source": [
    "ri = RidgeClassifierCV()\n",
    "lo = LogisticRegressionCV()"
   ]
  },
  {
   "cell_type": "code",
   "execution_count": 14,
   "id": "0ee0e3f5",
   "metadata": {
    "execution": {
     "iopub.execute_input": "2024-01-20T08:11:24.729592Z",
     "iopub.status.busy": "2024-01-20T08:11:24.729147Z",
     "iopub.status.idle": "2024-01-20T08:11:24.734021Z",
     "shell.execute_reply": "2024-01-20T08:11:24.732836Z"
    },
    "papermill": {
     "duration": 0.019168,
     "end_time": "2024-01-20T08:11:24.736295",
     "exception": false,
     "start_time": "2024-01-20T08:11:24.717127",
     "status": "completed"
    },
    "tags": []
   },
   "outputs": [],
   "source": [
    "mx = MinMaxScaler()\n",
    "st = StandardScaler()"
   ]
  },
  {
   "cell_type": "code",
   "execution_count": 15,
   "id": "21e1e267",
   "metadata": {
    "execution": {
     "iopub.execute_input": "2024-01-20T08:11:24.759757Z",
     "iopub.status.busy": "2024-01-20T08:11:24.759303Z",
     "iopub.status.idle": "2024-01-20T08:11:24.788944Z",
     "shell.execute_reply": "2024-01-20T08:11:24.787888Z"
    },
    "papermill": {
     "duration": 0.044781,
     "end_time": "2024-01-20T08:11:24.791762",
     "exception": false,
     "start_time": "2024-01-20T08:11:24.746981",
     "status": "completed"
    },
    "tags": []
   },
   "outputs": [],
   "source": [
    "X_train_mx = mx.fit_transform(X_train)\n",
    "X_valid_mx = mx.fit_transform(X_valid)\n",
    "X_train_st = st.fit_transform(X_train)\n",
    "X_valid_st = st.fit_transform(X_valid)"
   ]
  },
  {
   "cell_type": "code",
   "execution_count": 16,
   "id": "757954f6",
   "metadata": {
    "execution": {
     "iopub.execute_input": "2024-01-20T08:11:24.814978Z",
     "iopub.status.busy": "2024-01-20T08:11:24.814545Z",
     "iopub.status.idle": "2024-01-20T08:11:26.122114Z",
     "shell.execute_reply": "2024-01-20T08:11:26.120955Z"
    },
    "papermill": {
     "duration": 1.325287,
     "end_time": "2024-01-20T08:11:26.127972",
     "exception": false,
     "start_time": "2024-01-20T08:11:24.802685",
     "status": "completed"
    },
    "tags": []
   },
   "outputs": [
    {
     "name": "stderr",
     "output_type": "stream",
     "text": [
      "/opt/conda/lib/python3.10/site-packages/sklearn/linear_model/_ridge.py:1182: DataConversionWarning: A column-vector y was passed when a 1d array was expected. Please change the shape of y to (n_samples, ), for example using ravel().\n",
      "  y = column_or_1d(y, warn=True)\n",
      "/opt/conda/lib/python3.10/site-packages/sklearn/utils/validation.py:1143: DataConversionWarning: A column-vector y was passed when a 1d array was expected. Please change the shape of y to (n_samples, ), for example using ravel().\n",
      "  y = column_or_1d(y, warn=True)\n",
      "/opt/conda/lib/python3.10/site-packages/sklearn/linear_model/_logistic.py:458: ConvergenceWarning: lbfgs failed to converge (status=1):\n",
      "STOP: TOTAL NO. of ITERATIONS REACHED LIMIT.\n",
      "\n",
      "Increase the number of iterations (max_iter) or scale the data as shown in:\n",
      "    https://scikit-learn.org/stable/modules/preprocessing.html\n",
      "Please also refer to the documentation for alternative solver options:\n",
      "    https://scikit-learn.org/stable/modules/linear_model.html#logistic-regression\n",
      "  n_iter_i = _check_optimize_result(\n",
      "/opt/conda/lib/python3.10/site-packages/sklearn/linear_model/_logistic.py:458: ConvergenceWarning: lbfgs failed to converge (status=1):\n",
      "STOP: TOTAL NO. of ITERATIONS REACHED LIMIT.\n",
      "\n",
      "Increase the number of iterations (max_iter) or scale the data as shown in:\n",
      "    https://scikit-learn.org/stable/modules/preprocessing.html\n",
      "Please also refer to the documentation for alternative solver options:\n",
      "    https://scikit-learn.org/stable/modules/linear_model.html#logistic-regression\n",
      "  n_iter_i = _check_optimize_result(\n",
      "/opt/conda/lib/python3.10/site-packages/sklearn/linear_model/_logistic.py:458: ConvergenceWarning: lbfgs failed to converge (status=1):\n",
      "STOP: TOTAL NO. of ITERATIONS REACHED LIMIT.\n",
      "\n",
      "Increase the number of iterations (max_iter) or scale the data as shown in:\n",
      "    https://scikit-learn.org/stable/modules/preprocessing.html\n",
      "Please also refer to the documentation for alternative solver options:\n",
      "    https://scikit-learn.org/stable/modules/linear_model.html#logistic-regression\n",
      "  n_iter_i = _check_optimize_result(\n",
      "/opt/conda/lib/python3.10/site-packages/sklearn/linear_model/_logistic.py:458: ConvergenceWarning: lbfgs failed to converge (status=1):\n",
      "STOP: TOTAL NO. of ITERATIONS REACHED LIMIT.\n",
      "\n",
      "Increase the number of iterations (max_iter) or scale the data as shown in:\n",
      "    https://scikit-learn.org/stable/modules/preprocessing.html\n",
      "Please also refer to the documentation for alternative solver options:\n",
      "    https://scikit-learn.org/stable/modules/linear_model.html#logistic-regression\n",
      "  n_iter_i = _check_optimize_result(\n",
      "/opt/conda/lib/python3.10/site-packages/sklearn/linear_model/_logistic.py:458: ConvergenceWarning: lbfgs failed to converge (status=1):\n",
      "STOP: TOTAL NO. of ITERATIONS REACHED LIMIT.\n",
      "\n",
      "Increase the number of iterations (max_iter) or scale the data as shown in:\n",
      "    https://scikit-learn.org/stable/modules/preprocessing.html\n",
      "Please also refer to the documentation for alternative solver options:\n",
      "    https://scikit-learn.org/stable/modules/linear_model.html#logistic-regression\n",
      "  n_iter_i = _check_optimize_result(\n"
     ]
    },
    {
     "data": {
      "text/html": [
       "<style>#sk-container-id-1 {color: black;background-color: white;}#sk-container-id-1 pre{padding: 0;}#sk-container-id-1 div.sk-toggleable {background-color: white;}#sk-container-id-1 label.sk-toggleable__label {cursor: pointer;display: block;width: 100%;margin-bottom: 0;padding: 0.3em;box-sizing: border-box;text-align: center;}#sk-container-id-1 label.sk-toggleable__label-arrow:before {content: \"▸\";float: left;margin-right: 0.25em;color: #696969;}#sk-container-id-1 label.sk-toggleable__label-arrow:hover:before {color: black;}#sk-container-id-1 div.sk-estimator:hover label.sk-toggleable__label-arrow:before {color: black;}#sk-container-id-1 div.sk-toggleable__content {max-height: 0;max-width: 0;overflow: hidden;text-align: left;background-color: #f0f8ff;}#sk-container-id-1 div.sk-toggleable__content pre {margin: 0.2em;color: black;border-radius: 0.25em;background-color: #f0f8ff;}#sk-container-id-1 input.sk-toggleable__control:checked~div.sk-toggleable__content {max-height: 200px;max-width: 100%;overflow: auto;}#sk-container-id-1 input.sk-toggleable__control:checked~label.sk-toggleable__label-arrow:before {content: \"▾\";}#sk-container-id-1 div.sk-estimator input.sk-toggleable__control:checked~label.sk-toggleable__label {background-color: #d4ebff;}#sk-container-id-1 div.sk-label input.sk-toggleable__control:checked~label.sk-toggleable__label {background-color: #d4ebff;}#sk-container-id-1 input.sk-hidden--visually {border: 0;clip: rect(1px 1px 1px 1px);clip: rect(1px, 1px, 1px, 1px);height: 1px;margin: -1px;overflow: hidden;padding: 0;position: absolute;width: 1px;}#sk-container-id-1 div.sk-estimator {font-family: monospace;background-color: #f0f8ff;border: 1px dotted black;border-radius: 0.25em;box-sizing: border-box;margin-bottom: 0.5em;}#sk-container-id-1 div.sk-estimator:hover {background-color: #d4ebff;}#sk-container-id-1 div.sk-parallel-item::after {content: \"\";width: 100%;border-bottom: 1px solid gray;flex-grow: 1;}#sk-container-id-1 div.sk-label:hover label.sk-toggleable__label {background-color: #d4ebff;}#sk-container-id-1 div.sk-serial::before {content: \"\";position: absolute;border-left: 1px solid gray;box-sizing: border-box;top: 0;bottom: 0;left: 50%;z-index: 0;}#sk-container-id-1 div.sk-serial {display: flex;flex-direction: column;align-items: center;background-color: white;padding-right: 0.2em;padding-left: 0.2em;position: relative;}#sk-container-id-1 div.sk-item {position: relative;z-index: 1;}#sk-container-id-1 div.sk-parallel {display: flex;align-items: stretch;justify-content: center;background-color: white;position: relative;}#sk-container-id-1 div.sk-item::before, #sk-container-id-1 div.sk-parallel-item::before {content: \"\";position: absolute;border-left: 1px solid gray;box-sizing: border-box;top: 0;bottom: 0;left: 50%;z-index: -1;}#sk-container-id-1 div.sk-parallel-item {display: flex;flex-direction: column;z-index: 1;position: relative;background-color: white;}#sk-container-id-1 div.sk-parallel-item:first-child::after {align-self: flex-end;width: 50%;}#sk-container-id-1 div.sk-parallel-item:last-child::after {align-self: flex-start;width: 50%;}#sk-container-id-1 div.sk-parallel-item:only-child::after {width: 0;}#sk-container-id-1 div.sk-dashed-wrapped {border: 1px dashed gray;margin: 0 0.4em 0.5em 0.4em;box-sizing: border-box;padding-bottom: 0.4em;background-color: white;}#sk-container-id-1 div.sk-label label {font-family: monospace;font-weight: bold;display: inline-block;line-height: 1.2em;}#sk-container-id-1 div.sk-label-container {text-align: center;}#sk-container-id-1 div.sk-container {/* jupyter's `normalize.less` sets `[hidden] { display: none; }` but bootstrap.min.css set `[hidden] { display: none !important; }` so we also need the `!important` here to be able to override the default hidden behavior on the sphinx rendered scikit-learn.org. See: https://github.com/scikit-learn/scikit-learn/issues/21755 */display: inline-block !important;position: relative;}#sk-container-id-1 div.sk-text-repr-fallback {display: none;}</style><div id=\"sk-container-id-1\" class=\"sk-top-container\"><div class=\"sk-text-repr-fallback\"><pre>LogisticRegressionCV()</pre><b>In a Jupyter environment, please rerun this cell to show the HTML representation or trust the notebook. <br />On GitHub, the HTML representation is unable to render, please try loading this page with nbviewer.org.</b></div><div class=\"sk-container\" hidden><div class=\"sk-item\"><div class=\"sk-estimator sk-toggleable\"><input class=\"sk-toggleable__control sk-hidden--visually\" id=\"sk-estimator-id-1\" type=\"checkbox\" checked><label for=\"sk-estimator-id-1\" class=\"sk-toggleable__label sk-toggleable__label-arrow\">LogisticRegressionCV</label><div class=\"sk-toggleable__content\"><pre>LogisticRegressionCV()</pre></div></div></div></div></div>"
      ],
      "text/plain": [
       "LogisticRegressionCV()"
      ]
     },
     "execution_count": 16,
     "metadata": {},
     "output_type": "execute_result"
    }
   ],
   "source": [
    "ri.fit(X_train_st, y_train)\n",
    "lo.fit(X_train_st, y_train)"
   ]
  },
  {
   "cell_type": "code",
   "execution_count": 17,
   "id": "8ff84649",
   "metadata": {
    "execution": {
     "iopub.execute_input": "2024-01-20T08:11:26.180594Z",
     "iopub.status.busy": "2024-01-20T08:11:26.179906Z",
     "iopub.status.idle": "2024-01-20T08:11:26.187407Z",
     "shell.execute_reply": "2024-01-20T08:11:26.186283Z"
    },
    "papermill": {
     "duration": 0.037801,
     "end_time": "2024-01-20T08:11:26.191173",
     "exception": false,
     "start_time": "2024-01-20T08:11:26.153372",
     "status": "completed"
    },
    "tags": []
   },
   "outputs": [],
   "source": [
    "pred1 = ri.predict(X_valid_st)"
   ]
  },
  {
   "cell_type": "code",
   "execution_count": 18,
   "id": "10efb708",
   "metadata": {
    "execution": {
     "iopub.execute_input": "2024-01-20T08:11:26.244081Z",
     "iopub.status.busy": "2024-01-20T08:11:26.243393Z",
     "iopub.status.idle": "2024-01-20T08:11:26.261808Z",
     "shell.execute_reply": "2024-01-20T08:11:26.260627Z"
    },
    "papermill": {
     "duration": 0.049574,
     "end_time": "2024-01-20T08:11:26.265795",
     "exception": false,
     "start_time": "2024-01-20T08:11:26.216221",
     "status": "completed"
    },
    "tags": []
   },
   "outputs": [
    {
     "data": {
      "text/plain": [
       "0.86"
      ]
     },
     "execution_count": 18,
     "metadata": {},
     "output_type": "execute_result"
    }
   ],
   "source": [
    "accuracy_score(y_valid, pred1)"
   ]
  },
  {
   "cell_type": "code",
   "execution_count": 19,
   "id": "f532715c",
   "metadata": {
    "execution": {
     "iopub.execute_input": "2024-01-20T08:11:26.311694Z",
     "iopub.status.busy": "2024-01-20T08:11:26.311265Z",
     "iopub.status.idle": "2024-01-20T08:11:26.317694Z",
     "shell.execute_reply": "2024-01-20T08:11:26.316554Z"
    },
    "papermill": {
     "duration": 0.030705,
     "end_time": "2024-01-20T08:11:26.321374",
     "exception": false,
     "start_time": "2024-01-20T08:11:26.290669",
     "status": "completed"
    },
    "tags": []
   },
   "outputs": [],
   "source": [
    "pred2 = lo.predict(X_valid_st)"
   ]
  },
  {
   "cell_type": "code",
   "execution_count": 20,
   "id": "4021dc6c",
   "metadata": {
    "execution": {
     "iopub.execute_input": "2024-01-20T08:11:26.374805Z",
     "iopub.status.busy": "2024-01-20T08:11:26.374123Z",
     "iopub.status.idle": "2024-01-20T08:11:26.391750Z",
     "shell.execute_reply": "2024-01-20T08:11:26.390533Z"
    },
    "papermill": {
     "duration": 0.048283,
     "end_time": "2024-01-20T08:11:26.395383",
     "exception": false,
     "start_time": "2024-01-20T08:11:26.347100",
     "status": "completed"
    },
    "tags": []
   },
   "outputs": [
    {
     "data": {
      "text/plain": [
       "0.9133333333333333"
      ]
     },
     "execution_count": 20,
     "metadata": {},
     "output_type": "execute_result"
    }
   ],
   "source": [
    "accuracy_score(y_valid, pred2)"
   ]
  },
  {
   "cell_type": "code",
   "execution_count": 21,
   "id": "6cbd41bd",
   "metadata": {
    "execution": {
     "iopub.execute_input": "2024-01-20T08:11:26.442316Z",
     "iopub.status.busy": "2024-01-20T08:11:26.441905Z",
     "iopub.status.idle": "2024-01-20T08:11:26.447061Z",
     "shell.execute_reply": "2024-01-20T08:11:26.445915Z"
    },
    "papermill": {
     "duration": 0.029509,
     "end_time": "2024-01-20T08:11:26.449441",
     "exception": false,
     "start_time": "2024-01-20T08:11:26.419932",
     "status": "completed"
    },
    "tags": []
   },
   "outputs": [],
   "source": [
    "ri_mx = RidgeClassifierCV()\n",
    "lo_mx = LogisticRegressionCV()"
   ]
  },
  {
   "cell_type": "code",
   "execution_count": 22,
   "id": "26bdf603",
   "metadata": {
    "execution": {
     "iopub.execute_input": "2024-01-20T08:11:26.474559Z",
     "iopub.status.busy": "2024-01-20T08:11:26.474120Z",
     "iopub.status.idle": "2024-01-20T08:11:28.332081Z",
     "shell.execute_reply": "2024-01-20T08:11:28.330830Z"
    },
    "papermill": {
     "duration": 1.876379,
     "end_time": "2024-01-20T08:11:28.337467",
     "exception": false,
     "start_time": "2024-01-20T08:11:26.461088",
     "status": "completed"
    },
    "tags": []
   },
   "outputs": [
    {
     "name": "stderr",
     "output_type": "stream",
     "text": [
      "/opt/conda/lib/python3.10/site-packages/sklearn/linear_model/_ridge.py:1182: DataConversionWarning: A column-vector y was passed when a 1d array was expected. Please change the shape of y to (n_samples, ), for example using ravel().\n",
      "  y = column_or_1d(y, warn=True)\n",
      "/opt/conda/lib/python3.10/site-packages/sklearn/utils/validation.py:1143: DataConversionWarning: A column-vector y was passed when a 1d array was expected. Please change the shape of y to (n_samples, ), for example using ravel().\n",
      "  y = column_or_1d(y, warn=True)\n",
      "/opt/conda/lib/python3.10/site-packages/sklearn/linear_model/_logistic.py:458: ConvergenceWarning: lbfgs failed to converge (status=1):\n",
      "STOP: TOTAL NO. of ITERATIONS REACHED LIMIT.\n",
      "\n",
      "Increase the number of iterations (max_iter) or scale the data as shown in:\n",
      "    https://scikit-learn.org/stable/modules/preprocessing.html\n",
      "Please also refer to the documentation for alternative solver options:\n",
      "    https://scikit-learn.org/stable/modules/linear_model.html#logistic-regression\n",
      "  n_iter_i = _check_optimize_result(\n",
      "/opt/conda/lib/python3.10/site-packages/sklearn/linear_model/_logistic.py:458: ConvergenceWarning: lbfgs failed to converge (status=1):\n",
      "STOP: TOTAL NO. of ITERATIONS REACHED LIMIT.\n",
      "\n",
      "Increase the number of iterations (max_iter) or scale the data as shown in:\n",
      "    https://scikit-learn.org/stable/modules/preprocessing.html\n",
      "Please also refer to the documentation for alternative solver options:\n",
      "    https://scikit-learn.org/stable/modules/linear_model.html#logistic-regression\n",
      "  n_iter_i = _check_optimize_result(\n",
      "/opt/conda/lib/python3.10/site-packages/sklearn/linear_model/_logistic.py:458: ConvergenceWarning: lbfgs failed to converge (status=1):\n",
      "STOP: TOTAL NO. of ITERATIONS REACHED LIMIT.\n",
      "\n",
      "Increase the number of iterations (max_iter) or scale the data as shown in:\n",
      "    https://scikit-learn.org/stable/modules/preprocessing.html\n",
      "Please also refer to the documentation for alternative solver options:\n",
      "    https://scikit-learn.org/stable/modules/linear_model.html#logistic-regression\n",
      "  n_iter_i = _check_optimize_result(\n",
      "/opt/conda/lib/python3.10/site-packages/sklearn/linear_model/_logistic.py:458: ConvergenceWarning: lbfgs failed to converge (status=1):\n",
      "STOP: TOTAL NO. of ITERATIONS REACHED LIMIT.\n",
      "\n",
      "Increase the number of iterations (max_iter) or scale the data as shown in:\n",
      "    https://scikit-learn.org/stable/modules/preprocessing.html\n",
      "Please also refer to the documentation for alternative solver options:\n",
      "    https://scikit-learn.org/stable/modules/linear_model.html#logistic-regression\n",
      "  n_iter_i = _check_optimize_result(\n",
      "/opt/conda/lib/python3.10/site-packages/sklearn/linear_model/_logistic.py:458: ConvergenceWarning: lbfgs failed to converge (status=1):\n",
      "STOP: TOTAL NO. of ITERATIONS REACHED LIMIT.\n",
      "\n",
      "Increase the number of iterations (max_iter) or scale the data as shown in:\n",
      "    https://scikit-learn.org/stable/modules/preprocessing.html\n",
      "Please also refer to the documentation for alternative solver options:\n",
      "    https://scikit-learn.org/stable/modules/linear_model.html#logistic-regression\n",
      "  n_iter_i = _check_optimize_result(\n",
      "/opt/conda/lib/python3.10/site-packages/sklearn/linear_model/_logistic.py:458: ConvergenceWarning: lbfgs failed to converge (status=1):\n",
      "STOP: TOTAL NO. of ITERATIONS REACHED LIMIT.\n",
      "\n",
      "Increase the number of iterations (max_iter) or scale the data as shown in:\n",
      "    https://scikit-learn.org/stable/modules/preprocessing.html\n",
      "Please also refer to the documentation for alternative solver options:\n",
      "    https://scikit-learn.org/stable/modules/linear_model.html#logistic-regression\n",
      "  n_iter_i = _check_optimize_result(\n"
     ]
    },
    {
     "data": {
      "text/html": [
       "<style>#sk-container-id-2 {color: black;background-color: white;}#sk-container-id-2 pre{padding: 0;}#sk-container-id-2 div.sk-toggleable {background-color: white;}#sk-container-id-2 label.sk-toggleable__label {cursor: pointer;display: block;width: 100%;margin-bottom: 0;padding: 0.3em;box-sizing: border-box;text-align: center;}#sk-container-id-2 label.sk-toggleable__label-arrow:before {content: \"▸\";float: left;margin-right: 0.25em;color: #696969;}#sk-container-id-2 label.sk-toggleable__label-arrow:hover:before {color: black;}#sk-container-id-2 div.sk-estimator:hover label.sk-toggleable__label-arrow:before {color: black;}#sk-container-id-2 div.sk-toggleable__content {max-height: 0;max-width: 0;overflow: hidden;text-align: left;background-color: #f0f8ff;}#sk-container-id-2 div.sk-toggleable__content pre {margin: 0.2em;color: black;border-radius: 0.25em;background-color: #f0f8ff;}#sk-container-id-2 input.sk-toggleable__control:checked~div.sk-toggleable__content {max-height: 200px;max-width: 100%;overflow: auto;}#sk-container-id-2 input.sk-toggleable__control:checked~label.sk-toggleable__label-arrow:before {content: \"▾\";}#sk-container-id-2 div.sk-estimator input.sk-toggleable__control:checked~label.sk-toggleable__label {background-color: #d4ebff;}#sk-container-id-2 div.sk-label input.sk-toggleable__control:checked~label.sk-toggleable__label {background-color: #d4ebff;}#sk-container-id-2 input.sk-hidden--visually {border: 0;clip: rect(1px 1px 1px 1px);clip: rect(1px, 1px, 1px, 1px);height: 1px;margin: -1px;overflow: hidden;padding: 0;position: absolute;width: 1px;}#sk-container-id-2 div.sk-estimator {font-family: monospace;background-color: #f0f8ff;border: 1px dotted black;border-radius: 0.25em;box-sizing: border-box;margin-bottom: 0.5em;}#sk-container-id-2 div.sk-estimator:hover {background-color: #d4ebff;}#sk-container-id-2 div.sk-parallel-item::after {content: \"\";width: 100%;border-bottom: 1px solid gray;flex-grow: 1;}#sk-container-id-2 div.sk-label:hover label.sk-toggleable__label {background-color: #d4ebff;}#sk-container-id-2 div.sk-serial::before {content: \"\";position: absolute;border-left: 1px solid gray;box-sizing: border-box;top: 0;bottom: 0;left: 50%;z-index: 0;}#sk-container-id-2 div.sk-serial {display: flex;flex-direction: column;align-items: center;background-color: white;padding-right: 0.2em;padding-left: 0.2em;position: relative;}#sk-container-id-2 div.sk-item {position: relative;z-index: 1;}#sk-container-id-2 div.sk-parallel {display: flex;align-items: stretch;justify-content: center;background-color: white;position: relative;}#sk-container-id-2 div.sk-item::before, #sk-container-id-2 div.sk-parallel-item::before {content: \"\";position: absolute;border-left: 1px solid gray;box-sizing: border-box;top: 0;bottom: 0;left: 50%;z-index: -1;}#sk-container-id-2 div.sk-parallel-item {display: flex;flex-direction: column;z-index: 1;position: relative;background-color: white;}#sk-container-id-2 div.sk-parallel-item:first-child::after {align-self: flex-end;width: 50%;}#sk-container-id-2 div.sk-parallel-item:last-child::after {align-self: flex-start;width: 50%;}#sk-container-id-2 div.sk-parallel-item:only-child::after {width: 0;}#sk-container-id-2 div.sk-dashed-wrapped {border: 1px dashed gray;margin: 0 0.4em 0.5em 0.4em;box-sizing: border-box;padding-bottom: 0.4em;background-color: white;}#sk-container-id-2 div.sk-label label {font-family: monospace;font-weight: bold;display: inline-block;line-height: 1.2em;}#sk-container-id-2 div.sk-label-container {text-align: center;}#sk-container-id-2 div.sk-container {/* jupyter's `normalize.less` sets `[hidden] { display: none; }` but bootstrap.min.css set `[hidden] { display: none !important; }` so we also need the `!important` here to be able to override the default hidden behavior on the sphinx rendered scikit-learn.org. See: https://github.com/scikit-learn/scikit-learn/issues/21755 */display: inline-block !important;position: relative;}#sk-container-id-2 div.sk-text-repr-fallback {display: none;}</style><div id=\"sk-container-id-2\" class=\"sk-top-container\"><div class=\"sk-text-repr-fallback\"><pre>LogisticRegressionCV()</pre><b>In a Jupyter environment, please rerun this cell to show the HTML representation or trust the notebook. <br />On GitHub, the HTML representation is unable to render, please try loading this page with nbviewer.org.</b></div><div class=\"sk-container\" hidden><div class=\"sk-item\"><div class=\"sk-estimator sk-toggleable\"><input class=\"sk-toggleable__control sk-hidden--visually\" id=\"sk-estimator-id-2\" type=\"checkbox\" checked><label for=\"sk-estimator-id-2\" class=\"sk-toggleable__label sk-toggleable__label-arrow\">LogisticRegressionCV</label><div class=\"sk-toggleable__content\"><pre>LogisticRegressionCV()</pre></div></div></div></div></div>"
      ],
      "text/plain": [
       "LogisticRegressionCV()"
      ]
     },
     "execution_count": 22,
     "metadata": {},
     "output_type": "execute_result"
    }
   ],
   "source": [
    "ri_mx.fit(X_train_mx, y_train)\n",
    "lo_mx.fit(X_train_mx, y_train)"
   ]
  },
  {
   "cell_type": "code",
   "execution_count": 23,
   "id": "9d89b2d3",
   "metadata": {
    "execution": {
     "iopub.execute_input": "2024-01-20T08:11:28.393289Z",
     "iopub.status.busy": "2024-01-20T08:11:28.392577Z",
     "iopub.status.idle": "2024-01-20T08:11:28.404794Z",
     "shell.execute_reply": "2024-01-20T08:11:28.403335Z"
    },
    "papermill": {
     "duration": 0.045328,
     "end_time": "2024-01-20T08:11:28.409018",
     "exception": false,
     "start_time": "2024-01-20T08:11:28.363690",
     "status": "completed"
    },
    "tags": []
   },
   "outputs": [],
   "source": [
    "pred_mx1 = ri.predict(X_valid_mx)"
   ]
  },
  {
   "cell_type": "code",
   "execution_count": 24,
   "id": "b639a538",
   "metadata": {
    "execution": {
     "iopub.execute_input": "2024-01-20T08:11:28.463972Z",
     "iopub.status.busy": "2024-01-20T08:11:28.463277Z",
     "iopub.status.idle": "2024-01-20T08:11:28.483407Z",
     "shell.execute_reply": "2024-01-20T08:11:28.481729Z"
    },
    "papermill": {
     "duration": 0.053955,
     "end_time": "2024-01-20T08:11:28.489632",
     "exception": false,
     "start_time": "2024-01-20T08:11:28.435677",
     "status": "completed"
    },
    "tags": []
   },
   "outputs": [
    {
     "data": {
      "text/plain": [
       "0.7133333333333334"
      ]
     },
     "execution_count": 24,
     "metadata": {},
     "output_type": "execute_result"
    }
   ],
   "source": [
    "accuracy_score(y_valid, pred_mx1)"
   ]
  },
  {
   "cell_type": "code",
   "execution_count": 25,
   "id": "00dfa60b",
   "metadata": {
    "execution": {
     "iopub.execute_input": "2024-01-20T08:11:28.531616Z",
     "iopub.status.busy": "2024-01-20T08:11:28.531172Z",
     "iopub.status.idle": "2024-01-20T08:11:28.538566Z",
     "shell.execute_reply": "2024-01-20T08:11:28.537022Z"
    },
    "papermill": {
     "duration": 0.026693,
     "end_time": "2024-01-20T08:11:28.542682",
     "exception": false,
     "start_time": "2024-01-20T08:11:28.515989",
     "status": "completed"
    },
    "tags": []
   },
   "outputs": [],
   "source": [
    "pred_mx2 = lo.predict(X_valid_mx)"
   ]
  },
  {
   "cell_type": "code",
   "execution_count": 26,
   "id": "0efd6bae",
   "metadata": {
    "execution": {
     "iopub.execute_input": "2024-01-20T08:11:28.598855Z",
     "iopub.status.busy": "2024-01-20T08:11:28.598146Z",
     "iopub.status.idle": "2024-01-20T08:11:28.621615Z",
     "shell.execute_reply": "2024-01-20T08:11:28.620000Z"
    },
    "papermill": {
     "duration": 0.056819,
     "end_time": "2024-01-20T08:11:28.626540",
     "exception": false,
     "start_time": "2024-01-20T08:11:28.569721",
     "status": "completed"
    },
    "tags": []
   },
   "outputs": [
    {
     "data": {
      "text/plain": [
       "0.7333333333333333"
      ]
     },
     "execution_count": 26,
     "metadata": {},
     "output_type": "execute_result"
    }
   ],
   "source": [
    "accuracy_score(y_valid, pred_mx2)"
   ]
  }
 ],
 "metadata": {
  "kaggle": {
   "accelerator": "none",
   "dataSources": [
    {
     "databundleVersionId": 31192,
     "sourceId": 3412,
     "sourceType": "competition"
    }
   ],
   "dockerImageVersionId": 30635,
   "isGpuEnabled": false,
   "isInternetEnabled": true,
   "language": "python",
   "sourceType": "notebook"
  },
  "kernelspec": {
   "display_name": "Python 3",
   "language": "python",
   "name": "python3"
  },
  "language_info": {
   "codemirror_mode": {
    "name": "ipython",
    "version": 3
   },
   "file_extension": ".py",
   "mimetype": "text/x-python",
   "name": "python",
   "nbconvert_exporter": "python",
   "pygments_lexer": "ipython3",
   "version": "3.10.12"
  },
  "papermill": {
   "default_parameters": {},
   "duration": 10.778853,
   "end_time": "2024-01-20T08:11:29.276363",
   "environment_variables": {},
   "exception": null,
   "input_path": "__notebook__.ipynb",
   "output_path": "__notebook__.ipynb",
   "parameters": {},
   "start_time": "2024-01-20T08:11:18.497510",
   "version": "2.4.0"
  }
 },
 "nbformat": 4,
 "nbformat_minor": 5
}
