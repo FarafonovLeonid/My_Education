{
 "cells": [
  {
   "cell_type": "code",
   "execution_count": 1,
   "id": "faf355ba",
   "metadata": {
    "_cell_guid": "b1076dfc-b9ad-4769-8c92-a6c4dae69d19",
    "_uuid": "8f2839f25d086af736a60e9eeb907d3b93b6e0e5",
    "execution": {
     "iopub.execute_input": "2023-12-09T08:51:27.674379Z",
     "iopub.status.busy": "2023-12-09T08:51:27.673354Z",
     "iopub.status.idle": "2023-12-09T08:51:28.130250Z",
     "shell.execute_reply": "2023-12-09T08:51:28.129397Z"
    },
    "papermill": {
     "duration": 0.482571,
     "end_time": "2023-12-09T08:51:28.132800",
     "exception": false,
     "start_time": "2023-12-09T08:51:27.650229",
     "status": "completed"
    },
    "tags": []
   },
   "outputs": [
    {
     "name": "stdout",
     "output_type": "stream",
     "text": [
      "/kaggle/input/argugpt/argugpt.csv\n",
      "/kaggle/input/argugpt/machine-dev.csv\n",
      "/kaggle/input/argugpt/machine-test.csv\n",
      "/kaggle/input/argugpt/machine-train.csv\n",
      "/kaggle/input/daigt-external-dataset/daigt_external_dataset.csv\n",
      "/kaggle/input/daigt-proper-train-dataset/train_drcat_03.csv\n",
      "/kaggle/input/daigt-proper-train-dataset/train_drcat_02.csv\n",
      "/kaggle/input/daigt-proper-train-dataset/train_drcat_04.csv\n",
      "/kaggle/input/daigt-proper-train-dataset/train_drcat_01.csv\n",
      "/kaggle/input/llm-detect-ai-generated-text/sample_submission.csv\n",
      "/kaggle/input/llm-detect-ai-generated-text/train_prompts.csv\n",
      "/kaggle/input/llm-detect-ai-generated-text/test_essays.csv\n",
      "/kaggle/input/llm-detect-ai-generated-text/train_essays.csv\n"
     ]
    }
   ],
   "source": [
    "# This Python 3 environment comes with many helpful analytics libraries installed\n",
    "# It is defined by the kaggle/python Docker image: https://github.com/kaggle/docker-python\n",
    "# For example, here's several helpful packages to load\n",
    "\n",
    "import numpy as np # linear algebra\n",
    "import pandas as pd # data processing, CSV file I/O (e.g. pd.read_csv)\n",
    "\n",
    "# Input data files are available in the read-only \"../input/\" directory\n",
    "# For example, running this (by clicking run or pressing Shift+Enter) will list all files under the input directory\n",
    "\n",
    "import os\n",
    "for dirname, _, filenames in os.walk('/kaggle/input'):\n",
    "    for filename in filenames:\n",
    "        print(os.path.join(dirname, filename))\n",
    "\n",
    "# You can write up to 20GB to the current directory (/kaggle/working/) that gets preserved as output when you create a version using \"Save & Run All\" \n",
    "# You can also write temporary files to /kaggle/temp/, but they won't be saved outside of the current session"
   ]
  },
  {
   "cell_type": "code",
   "execution_count": 2,
   "id": "c9d67c8e",
   "metadata": {
    "execution": {
     "iopub.execute_input": "2023-12-09T08:51:28.162770Z",
     "iopub.status.busy": "2023-12-09T08:51:28.161903Z",
     "iopub.status.idle": "2023-12-09T08:51:35.954307Z",
     "shell.execute_reply": "2023-12-09T08:51:35.952800Z"
    },
    "papermill": {
     "duration": 7.811381,
     "end_time": "2023-12-09T08:51:35.958209",
     "exception": false,
     "start_time": "2023-12-09T08:51:28.146828",
     "status": "completed"
    },
    "tags": []
   },
   "outputs": [],
   "source": [
    "import pandas as pd \n",
    "import numpy as np\n",
    "import matplotlib as plt \n",
    "import seaborn as sns\n",
    "from sklearn.feature_extraction.text import TfidfVectorizer\n",
    "import sklearn\n",
    "from sklearn.model_selection import train_test_split\n",
    "from xgboost import XGBClassifier\n",
    "from sklearn.metrics import roc_auc_score\n",
    "train_pr_L = pd.read_csv('/kaggle/input/llm-detect-ai-generated-text/train_prompts.csv')\n",
    "train_L = pd.read_csv('/kaggle/input/llm-detect-ai-generated-text/train_essays.csv')\n",
    "test_L =  pd.read_csv('/kaggle/input/llm-detect-ai-generated-text/test_essays.csv')\n",
    "train_AI_A = pd.read_csv('/kaggle/input/argugpt/machine-train.csv')\n",
    "test_AI_A = pd.read_csv('/kaggle/input/argugpt/machine-test.csv')\n",
    "dev_AI_A =  pd.read_csv('/kaggle/input/argugpt/machine-dev.csv')\n",
    "data_AI_DE = pd.read_csv('/kaggle/input/daigt-external-dataset/daigt_external_dataset.csv')\n",
    "data_AI_DP = pd.read_csv('/kaggle/input/daigt-proper-train-dataset/train_drcat_04.csv')\n"
   ]
  },
  {
   "cell_type": "code",
   "execution_count": 3,
   "id": "b323177c",
   "metadata": {
    "execution": {
     "iopub.execute_input": "2023-12-09T08:51:35.990372Z",
     "iopub.status.busy": "2023-12-09T08:51:35.989877Z",
     "iopub.status.idle": "2023-12-09T08:51:36.028792Z",
     "shell.execute_reply": "2023-12-09T08:51:36.027456Z"
    },
    "papermill": {
     "duration": 0.059187,
     "end_time": "2023-12-09T08:51:36.032734",
     "exception": false,
     "start_time": "2023-12-09T08:51:35.973547",
     "status": "completed"
    },
    "tags": []
   },
   "outputs": [
    {
     "data": {
      "text/html": [
       "<div>\n",
       "<style scoped>\n",
       "    .dataframe tbody tr th:only-of-type {\n",
       "        vertical-align: middle;\n",
       "    }\n",
       "\n",
       "    .dataframe tbody tr th {\n",
       "        vertical-align: top;\n",
       "    }\n",
       "\n",
       "    .dataframe thead th {\n",
       "        text-align: right;\n",
       "    }\n",
       "</style>\n",
       "<table border=\"1\" class=\"dataframe\">\n",
       "  <thead>\n",
       "    <tr style=\"text-align: right;\">\n",
       "      <th></th>\n",
       "      <th>id</th>\n",
       "      <th>prompt_id</th>\n",
       "      <th>text</th>\n",
       "      <th>generated</th>\n",
       "    </tr>\n",
       "  </thead>\n",
       "  <tbody>\n",
       "    <tr>\n",
       "      <th>0</th>\n",
       "      <td>0059830c</td>\n",
       "      <td>0</td>\n",
       "      <td>Cars. Cars have been around since they became ...</td>\n",
       "      <td>0</td>\n",
       "    </tr>\n",
       "    <tr>\n",
       "      <th>1</th>\n",
       "      <td>005db917</td>\n",
       "      <td>0</td>\n",
       "      <td>Transportation is a large necessity in most co...</td>\n",
       "      <td>0</td>\n",
       "    </tr>\n",
       "    <tr>\n",
       "      <th>2</th>\n",
       "      <td>008f63e3</td>\n",
       "      <td>0</td>\n",
       "      <td>\"America's love affair with it's vehicles seem...</td>\n",
       "      <td>0</td>\n",
       "    </tr>\n",
       "    <tr>\n",
       "      <th>3</th>\n",
       "      <td>00940276</td>\n",
       "      <td>0</td>\n",
       "      <td>How often do you ride in a car? Do you drive a...</td>\n",
       "      <td>0</td>\n",
       "    </tr>\n",
       "    <tr>\n",
       "      <th>4</th>\n",
       "      <td>00c39458</td>\n",
       "      <td>0</td>\n",
       "      <td>Cars are a wonderful thing. They are perhaps o...</td>\n",
       "      <td>0</td>\n",
       "    </tr>\n",
       "    <tr>\n",
       "      <th>...</th>\n",
       "      <td>...</td>\n",
       "      <td>...</td>\n",
       "      <td>...</td>\n",
       "      <td>...</td>\n",
       "    </tr>\n",
       "    <tr>\n",
       "      <th>1373</th>\n",
       "      <td>fe6ff9a5</td>\n",
       "      <td>1</td>\n",
       "      <td>There has been a fuss about the Elector Colleg...</td>\n",
       "      <td>0</td>\n",
       "    </tr>\n",
       "    <tr>\n",
       "      <th>1374</th>\n",
       "      <td>ff669174</td>\n",
       "      <td>0</td>\n",
       "      <td>Limiting car usage has many advantages. Such a...</td>\n",
       "      <td>0</td>\n",
       "    </tr>\n",
       "    <tr>\n",
       "      <th>1375</th>\n",
       "      <td>ffa247e0</td>\n",
       "      <td>0</td>\n",
       "      <td>There's a new trend that has been developing f...</td>\n",
       "      <td>0</td>\n",
       "    </tr>\n",
       "    <tr>\n",
       "      <th>1376</th>\n",
       "      <td>ffc237e9</td>\n",
       "      <td>0</td>\n",
       "      <td>As we all know cars are a big part of our soci...</td>\n",
       "      <td>0</td>\n",
       "    </tr>\n",
       "    <tr>\n",
       "      <th>1377</th>\n",
       "      <td>ffe1ca0d</td>\n",
       "      <td>0</td>\n",
       "      <td>Cars have been around since the 1800's and hav...</td>\n",
       "      <td>0</td>\n",
       "    </tr>\n",
       "  </tbody>\n",
       "</table>\n",
       "<p>1378 rows × 4 columns</p>\n",
       "</div>"
      ],
      "text/plain": [
       "            id  prompt_id                                               text  \\\n",
       "0     0059830c          0  Cars. Cars have been around since they became ...   \n",
       "1     005db917          0  Transportation is a large necessity in most co...   \n",
       "2     008f63e3          0  \"America's love affair with it's vehicles seem...   \n",
       "3     00940276          0  How often do you ride in a car? Do you drive a...   \n",
       "4     00c39458          0  Cars are a wonderful thing. They are perhaps o...   \n",
       "...        ...        ...                                                ...   \n",
       "1373  fe6ff9a5          1  There has been a fuss about the Elector Colleg...   \n",
       "1374  ff669174          0  Limiting car usage has many advantages. Such a...   \n",
       "1375  ffa247e0          0  There's a new trend that has been developing f...   \n",
       "1376  ffc237e9          0  As we all know cars are a big part of our soci...   \n",
       "1377  ffe1ca0d          0  Cars have been around since the 1800's and hav...   \n",
       "\n",
       "      generated  \n",
       "0             0  \n",
       "1             0  \n",
       "2             0  \n",
       "3             0  \n",
       "4             0  \n",
       "...         ...  \n",
       "1373          0  \n",
       "1374          0  \n",
       "1375          0  \n",
       "1376          0  \n",
       "1377          0  \n",
       "\n",
       "[1378 rows x 4 columns]"
      ]
     },
     "execution_count": 3,
     "metadata": {},
     "output_type": "execute_result"
    }
   ],
   "source": [
    "train_L"
   ]
  },
  {
   "cell_type": "code",
   "execution_count": 4,
   "id": "a0458c54",
   "metadata": {
    "execution": {
     "iopub.execute_input": "2023-12-09T08:51:36.065166Z",
     "iopub.status.busy": "2023-12-09T08:51:36.064750Z",
     "iopub.status.idle": "2023-12-09T08:51:36.074318Z",
     "shell.execute_reply": "2023-12-09T08:51:36.072819Z"
    },
    "papermill": {
     "duration": 0.030129,
     "end_time": "2023-12-09T08:51:36.077505",
     "exception": false,
     "start_time": "2023-12-09T08:51:36.047376",
     "status": "completed"
    },
    "tags": []
   },
   "outputs": [],
   "source": [
    "data_AI_A = pd.concat([train_AI_A, test_AI_A, dev_AI_A], axis=0)"
   ]
  },
  {
   "cell_type": "code",
   "execution_count": 5,
   "id": "32abed5c",
   "metadata": {
    "execution": {
     "iopub.execute_input": "2023-12-09T08:51:36.110771Z",
     "iopub.status.busy": "2023-12-09T08:51:36.110219Z",
     "iopub.status.idle": "2023-12-09T08:51:36.121803Z",
     "shell.execute_reply": "2023-12-09T08:51:36.120448Z"
    },
    "papermill": {
     "duration": 0.031221,
     "end_time": "2023-12-09T08:51:36.124309",
     "exception": false,
     "start_time": "2023-12-09T08:51:36.093088",
     "status": "completed"
    },
    "tags": []
   },
   "outputs": [],
   "source": [
    "data_AI_A.drop(columns=['score_level', 'score', 'exam_type', 'temperature', 'model', 'prompt'], inplace=True)"
   ]
  },
  {
   "cell_type": "code",
   "execution_count": 6,
   "id": "65f55373",
   "metadata": {
    "execution": {
     "iopub.execute_input": "2023-12-09T08:51:36.155137Z",
     "iopub.status.busy": "2023-12-09T08:51:36.154638Z",
     "iopub.status.idle": "2023-12-09T08:51:36.161611Z",
     "shell.execute_reply": "2023-12-09T08:51:36.159858Z"
    },
    "papermill": {
     "duration": 0.025656,
     "end_time": "2023-12-09T08:51:36.164145",
     "exception": false,
     "start_time": "2023-12-09T08:51:36.138489",
     "status": "completed"
    },
    "tags": []
   },
   "outputs": [],
   "source": [
    "data_AI_A['prompt_id'] = 0"
   ]
  },
  {
   "cell_type": "code",
   "execution_count": 7,
   "id": "57f7ad03",
   "metadata": {
    "execution": {
     "iopub.execute_input": "2023-12-09T08:51:36.194294Z",
     "iopub.status.busy": "2023-12-09T08:51:36.193886Z",
     "iopub.status.idle": "2023-12-09T08:51:36.202289Z",
     "shell.execute_reply": "2023-12-09T08:51:36.200831Z"
    },
    "papermill": {
     "duration": 0.026323,
     "end_time": "2023-12-09T08:51:36.204706",
     "exception": false,
     "start_time": "2023-12-09T08:51:36.178383",
     "status": "completed"
    },
    "tags": []
   },
   "outputs": [],
   "source": [
    "data_AI_A['generated'] = 1"
   ]
  },
  {
   "cell_type": "code",
   "execution_count": 8,
   "id": "95760b28",
   "metadata": {
    "execution": {
     "iopub.execute_input": "2023-12-09T08:51:36.235027Z",
     "iopub.status.busy": "2023-12-09T08:51:36.234286Z",
     "iopub.status.idle": "2023-12-09T08:51:36.243050Z",
     "shell.execute_reply": "2023-12-09T08:51:36.241853Z"
    },
    "papermill": {
     "duration": 0.026695,
     "end_time": "2023-12-09T08:51:36.245465",
     "exception": false,
     "start_time": "2023-12-09T08:51:36.218770",
     "status": "completed"
    },
    "tags": []
   },
   "outputs": [],
   "source": [
    "new_data = pd.concat([train_L, data_AI_A], axis=0)"
   ]
  },
  {
   "cell_type": "code",
   "execution_count": 9,
   "id": "4bc29ad4",
   "metadata": {
    "execution": {
     "iopub.execute_input": "2023-12-09T08:51:36.275939Z",
     "iopub.status.busy": "2023-12-09T08:51:36.275483Z",
     "iopub.status.idle": "2023-12-09T08:51:36.294010Z",
     "shell.execute_reply": "2023-12-09T08:51:36.292573Z"
    },
    "papermill": {
     "duration": 0.036946,
     "end_time": "2023-12-09T08:51:36.296621",
     "exception": false,
     "start_time": "2023-12-09T08:51:36.259675",
     "status": "completed"
    },
    "tags": []
   },
   "outputs": [
    {
     "data": {
      "text/html": [
       "<div>\n",
       "<style scoped>\n",
       "    .dataframe tbody tr th:only-of-type {\n",
       "        vertical-align: middle;\n",
       "    }\n",
       "\n",
       "    .dataframe tbody tr th {\n",
       "        vertical-align: top;\n",
       "    }\n",
       "\n",
       "    .dataframe thead th {\n",
       "        text-align: right;\n",
       "    }\n",
       "</style>\n",
       "<table border=\"1\" class=\"dataframe\">\n",
       "  <thead>\n",
       "    <tr style=\"text-align: right;\">\n",
       "      <th></th>\n",
       "      <th>id</th>\n",
       "      <th>prompt_id</th>\n",
       "      <th>text</th>\n",
       "      <th>generated</th>\n",
       "    </tr>\n",
       "  </thead>\n",
       "  <tbody>\n",
       "    <tr>\n",
       "      <th>0</th>\n",
       "      <td>0059830c</td>\n",
       "      <td>0</td>\n",
       "      <td>Cars. Cars have been around since they became ...</td>\n",
       "      <td>0</td>\n",
       "    </tr>\n",
       "    <tr>\n",
       "      <th>1</th>\n",
       "      <td>005db917</td>\n",
       "      <td>0</td>\n",
       "      <td>Transportation is a large necessity in most co...</td>\n",
       "      <td>0</td>\n",
       "    </tr>\n",
       "    <tr>\n",
       "      <th>2</th>\n",
       "      <td>008f63e3</td>\n",
       "      <td>0</td>\n",
       "      <td>\"America's love affair with it's vehicles seem...</td>\n",
       "      <td>0</td>\n",
       "    </tr>\n",
       "    <tr>\n",
       "      <th>3</th>\n",
       "      <td>00940276</td>\n",
       "      <td>0</td>\n",
       "      <td>How often do you ride in a car? Do you drive a...</td>\n",
       "      <td>0</td>\n",
       "    </tr>\n",
       "    <tr>\n",
       "      <th>4</th>\n",
       "      <td>00c39458</td>\n",
       "      <td>0</td>\n",
       "      <td>Cars are a wonderful thing. They are perhaps o...</td>\n",
       "      <td>0</td>\n",
       "    </tr>\n",
       "    <tr>\n",
       "      <th>...</th>\n",
       "      <td>...</td>\n",
       "      <td>...</td>\n",
       "      <td>...</td>\n",
       "      <td>...</td>\n",
       "    </tr>\n",
       "    <tr>\n",
       "      <th>345</th>\n",
       "      <td>gre_514</td>\n",
       "      <td>0</td>\n",
       "      <td>The notion that one must be forced to defend a...</td>\n",
       "      <td>1</td>\n",
       "    </tr>\n",
       "    <tr>\n",
       "      <th>346</th>\n",
       "      <td>gre_1107</td>\n",
       "      <td>0</td>\n",
       "      <td>I strongly agree with the statement that menta...</td>\n",
       "      <td>1</td>\n",
       "    </tr>\n",
       "    <tr>\n",
       "      <th>347</th>\n",
       "      <td>gre_1163</td>\n",
       "      <td>0</td>\n",
       "      <td>In today’s world, where competition is highly ...</td>\n",
       "      <td>1</td>\n",
       "    </tr>\n",
       "    <tr>\n",
       "      <th>348</th>\n",
       "      <td>gre_1174</td>\n",
       "      <td>0</td>\n",
       "      <td>Education is one of the most powerful tools th...</td>\n",
       "      <td>1</td>\n",
       "    </tr>\n",
       "    <tr>\n",
       "      <th>349</th>\n",
       "      <td>gre_1180</td>\n",
       "      <td>0</td>\n",
       "      <td>As the world is evolving rapidly, the need for...</td>\n",
       "      <td>1</td>\n",
       "    </tr>\n",
       "  </tbody>\n",
       "</table>\n",
       "<p>5416 rows × 4 columns</p>\n",
       "</div>"
      ],
      "text/plain": [
       "           id  prompt_id                                               text  \\\n",
       "0    0059830c          0  Cars. Cars have been around since they became ...   \n",
       "1    005db917          0  Transportation is a large necessity in most co...   \n",
       "2    008f63e3          0  \"America's love affair with it's vehicles seem...   \n",
       "3    00940276          0  How often do you ride in a car? Do you drive a...   \n",
       "4    00c39458          0  Cars are a wonderful thing. They are perhaps o...   \n",
       "..        ...        ...                                                ...   \n",
       "345   gre_514          0  The notion that one must be forced to defend a...   \n",
       "346  gre_1107          0  I strongly agree with the statement that menta...   \n",
       "347  gre_1163          0  In today’s world, where competition is highly ...   \n",
       "348  gre_1174          0  Education is one of the most powerful tools th...   \n",
       "349  gre_1180          0  As the world is evolving rapidly, the need for...   \n",
       "\n",
       "     generated  \n",
       "0            0  \n",
       "1            0  \n",
       "2            0  \n",
       "3            0  \n",
       "4            0  \n",
       "..         ...  \n",
       "345          1  \n",
       "346          1  \n",
       "347          1  \n",
       "348          1  \n",
       "349          1  \n",
       "\n",
       "[5416 rows x 4 columns]"
      ]
     },
     "execution_count": 9,
     "metadata": {},
     "output_type": "execute_result"
    }
   ],
   "source": [
    "new_data"
   ]
  },
  {
   "cell_type": "code",
   "execution_count": 10,
   "id": "eb8c1461",
   "metadata": {
    "execution": {
     "iopub.execute_input": "2023-12-09T08:51:36.327468Z",
     "iopub.status.busy": "2023-12-09T08:51:36.326962Z",
     "iopub.status.idle": "2023-12-09T08:51:36.336393Z",
     "shell.execute_reply": "2023-12-09T08:51:36.334852Z"
    },
    "papermill": {
     "duration": 0.028912,
     "end_time": "2023-12-09T08:51:36.339791",
     "exception": false,
     "start_time": "2023-12-09T08:51:36.310879",
     "status": "completed"
    },
    "tags": []
   },
   "outputs": [],
   "source": [
    "data_HUM_DE = data_AI_DE.drop(columns=['instructions','source_text'])\n",
    "data_NOT_HUM_DE = data_AI_DE.drop(columns=['instructions','text'])"
   ]
  },
  {
   "cell_type": "code",
   "execution_count": 11,
   "id": "76484085",
   "metadata": {
    "execution": {
     "iopub.execute_input": "2023-12-09T08:51:36.373222Z",
     "iopub.status.busy": "2023-12-09T08:51:36.372701Z",
     "iopub.status.idle": "2023-12-09T08:51:36.380261Z",
     "shell.execute_reply": "2023-12-09T08:51:36.378892Z"
    },
    "papermill": {
     "duration": 0.028022,
     "end_time": "2023-12-09T08:51:36.382791",
     "exception": false,
     "start_time": "2023-12-09T08:51:36.354769",
     "status": "completed"
    },
    "tags": []
   },
   "outputs": [],
   "source": [
    "data_HUM_DE['generated'] = 0"
   ]
  },
  {
   "cell_type": "code",
   "execution_count": 12,
   "id": "e521737c",
   "metadata": {
    "execution": {
     "iopub.execute_input": "2023-12-09T08:51:36.416249Z",
     "iopub.status.busy": "2023-12-09T08:51:36.415826Z",
     "iopub.status.idle": "2023-12-09T08:51:36.425395Z",
     "shell.execute_reply": "2023-12-09T08:51:36.420687Z"
    },
    "papermill": {
     "duration": 0.030244,
     "end_time": "2023-12-09T08:51:36.428202",
     "exception": false,
     "start_time": "2023-12-09T08:51:36.397958",
     "status": "completed"
    },
    "tags": []
   },
   "outputs": [],
   "source": [
    "data_HUM_DE['prompt_id'] = 0"
   ]
  },
  {
   "cell_type": "code",
   "execution_count": 13,
   "id": "0dc0e476",
   "metadata": {
    "execution": {
     "iopub.execute_input": "2023-12-09T08:51:36.458999Z",
     "iopub.status.busy": "2023-12-09T08:51:36.458514Z",
     "iopub.status.idle": "2023-12-09T08:51:36.475263Z",
     "shell.execute_reply": "2023-12-09T08:51:36.474139Z"
    },
    "papermill": {
     "duration": 0.03501,
     "end_time": "2023-12-09T08:51:36.477590",
     "exception": false,
     "start_time": "2023-12-09T08:51:36.442580",
     "status": "completed"
    },
    "tags": []
   },
   "outputs": [
    {
     "data": {
      "text/html": [
       "<div>\n",
       "<style scoped>\n",
       "    .dataframe tbody tr th:only-of-type {\n",
       "        vertical-align: middle;\n",
       "    }\n",
       "\n",
       "    .dataframe tbody tr th {\n",
       "        vertical-align: top;\n",
       "    }\n",
       "\n",
       "    .dataframe thead th {\n",
       "        text-align: right;\n",
       "    }\n",
       "</style>\n",
       "<table border=\"1\" class=\"dataframe\">\n",
       "  <thead>\n",
       "    <tr style=\"text-align: right;\">\n",
       "      <th></th>\n",
       "      <th>id</th>\n",
       "      <th>text</th>\n",
       "      <th>generated</th>\n",
       "      <th>prompt_id</th>\n",
       "    </tr>\n",
       "  </thead>\n",
       "  <tbody>\n",
       "    <tr>\n",
       "      <th>0</th>\n",
       "      <td>6060D28C05B6</td>\n",
       "      <td>Some schools in United States ofter classes fr...</td>\n",
       "      <td>0</td>\n",
       "      <td>0</td>\n",
       "    </tr>\n",
       "    <tr>\n",
       "      <th>1</th>\n",
       "      <td>60623DB5DE7A</td>\n",
       "      <td>Four-day work week, a remarkable idea to conse...</td>\n",
       "      <td>0</td>\n",
       "      <td>0</td>\n",
       "    </tr>\n",
       "    <tr>\n",
       "      <th>2</th>\n",
       "      <td>607A39D981DE</td>\n",
       "      <td>Students and their families should consider an...</td>\n",
       "      <td>0</td>\n",
       "      <td>0</td>\n",
       "    </tr>\n",
       "    <tr>\n",
       "      <th>3</th>\n",
       "      <td>60ACDFA1609E</td>\n",
       "      <td>Agree you will never grow if something beyond ...</td>\n",
       "      <td>0</td>\n",
       "      <td>0</td>\n",
       "    </tr>\n",
       "    <tr>\n",
       "      <th>4</th>\n",
       "      <td>60AE13D3F07B</td>\n",
       "      <td>I think our character traits are formed by inf...</td>\n",
       "      <td>0</td>\n",
       "      <td>0</td>\n",
       "    </tr>\n",
       "    <tr>\n",
       "      <th>...</th>\n",
       "      <td>...</td>\n",
       "      <td>...</td>\n",
       "      <td>...</td>\n",
       "      <td>...</td>\n",
       "    </tr>\n",
       "    <tr>\n",
       "      <th>2416</th>\n",
       "      <td>F5FF5E9E553C</td>\n",
       "      <td>On september 2, 2015 Generic_Name was entering...</td>\n",
       "      <td>0</td>\n",
       "      <td>0</td>\n",
       "    </tr>\n",
       "    <tr>\n",
       "      <th>2417</th>\n",
       "      <td>F60545D8271E</td>\n",
       "      <td>I think that schools must have a after school ...</td>\n",
       "      <td>0</td>\n",
       "      <td>0</td>\n",
       "    </tr>\n",
       "    <tr>\n",
       "      <th>2418</th>\n",
       "      <td>F610B3CBF3DF</td>\n",
       "      <td>Winston Churchill once said \"success consists ...</td>\n",
       "      <td>0</td>\n",
       "      <td>0</td>\n",
       "    </tr>\n",
       "    <tr>\n",
       "      <th>2419</th>\n",
       "      <td>F610C7BCD9EC</td>\n",
       "      <td>Technology seems to be becoming more and more ...</td>\n",
       "      <td>0</td>\n",
       "      <td>0</td>\n",
       "    </tr>\n",
       "    <tr>\n",
       "      <th>2420</th>\n",
       "      <td>F6194DEBEFA7</td>\n",
       "      <td>Teenage is a part of life where everyone wants...</td>\n",
       "      <td>0</td>\n",
       "      <td>0</td>\n",
       "    </tr>\n",
       "  </tbody>\n",
       "</table>\n",
       "<p>2421 rows × 4 columns</p>\n",
       "</div>"
      ],
      "text/plain": [
       "                id                                               text  \\\n",
       "0     6060D28C05B6  Some schools in United States ofter classes fr...   \n",
       "1     60623DB5DE7A  Four-day work week, a remarkable idea to conse...   \n",
       "2     607A39D981DE  Students and their families should consider an...   \n",
       "3     60ACDFA1609E  Agree you will never grow if something beyond ...   \n",
       "4     60AE13D3F07B  I think our character traits are formed by inf...   \n",
       "...            ...                                                ...   \n",
       "2416  F5FF5E9E553C  On september 2, 2015 Generic_Name was entering...   \n",
       "2417  F60545D8271E  I think that schools must have a after school ...   \n",
       "2418  F610B3CBF3DF  Winston Churchill once said \"success consists ...   \n",
       "2419  F610C7BCD9EC  Technology seems to be becoming more and more ...   \n",
       "2420  F6194DEBEFA7  Teenage is a part of life where everyone wants...   \n",
       "\n",
       "      generated  prompt_id  \n",
       "0             0          0  \n",
       "1             0          0  \n",
       "2             0          0  \n",
       "3             0          0  \n",
       "4             0          0  \n",
       "...         ...        ...  \n",
       "2416          0          0  \n",
       "2417          0          0  \n",
       "2418          0          0  \n",
       "2419          0          0  \n",
       "2420          0          0  \n",
       "\n",
       "[2421 rows x 4 columns]"
      ]
     },
     "execution_count": 13,
     "metadata": {},
     "output_type": "execute_result"
    }
   ],
   "source": [
    "data_HUM_DE"
   ]
  },
  {
   "cell_type": "code",
   "execution_count": 14,
   "id": "49cbde81",
   "metadata": {
    "execution": {
     "iopub.execute_input": "2023-12-09T08:51:36.510097Z",
     "iopub.status.busy": "2023-12-09T08:51:36.508848Z",
     "iopub.status.idle": "2023-12-09T08:51:36.519229Z",
     "shell.execute_reply": "2023-12-09T08:51:36.518298Z"
    },
    "papermill": {
     "duration": 0.029781,
     "end_time": "2023-12-09T08:51:36.522278",
     "exception": false,
     "start_time": "2023-12-09T08:51:36.492497",
     "status": "completed"
    },
    "tags": []
   },
   "outputs": [],
   "source": [
    "data_HUM_DE = data_HUM_DE[['id', 'prompt_id', 'text', 'generated']]"
   ]
  },
  {
   "cell_type": "code",
   "execution_count": 15,
   "id": "cae57aab",
   "metadata": {
    "execution": {
     "iopub.execute_input": "2023-12-09T08:51:36.555360Z",
     "iopub.status.busy": "2023-12-09T08:51:36.554937Z",
     "iopub.status.idle": "2023-12-09T08:51:36.568199Z",
     "shell.execute_reply": "2023-12-09T08:51:36.567129Z"
    },
    "papermill": {
     "duration": 0.032929,
     "end_time": "2023-12-09T08:51:36.571159",
     "exception": false,
     "start_time": "2023-12-09T08:51:36.538230",
     "status": "completed"
    },
    "tags": []
   },
   "outputs": [
    {
     "data": {
      "text/html": [
       "<div>\n",
       "<style scoped>\n",
       "    .dataframe tbody tr th:only-of-type {\n",
       "        vertical-align: middle;\n",
       "    }\n",
       "\n",
       "    .dataframe tbody tr th {\n",
       "        vertical-align: top;\n",
       "    }\n",
       "\n",
       "    .dataframe thead th {\n",
       "        text-align: right;\n",
       "    }\n",
       "</style>\n",
       "<table border=\"1\" class=\"dataframe\">\n",
       "  <thead>\n",
       "    <tr style=\"text-align: right;\">\n",
       "      <th></th>\n",
       "      <th>id</th>\n",
       "      <th>source_text</th>\n",
       "    </tr>\n",
       "  </thead>\n",
       "  <tbody>\n",
       "    <tr>\n",
       "      <th>0</th>\n",
       "      <td>6060D28C05B6</td>\n",
       "      <td>\\nWhen considering the pros and cons of attend...</td>\n",
       "    </tr>\n",
       "    <tr>\n",
       "      <th>1</th>\n",
       "      <td>60623DB5DE7A</td>\n",
       "      <td>\\nOne of the primary arguments for implementin...</td>\n",
       "    </tr>\n",
       "    <tr>\n",
       "      <th>2</th>\n",
       "      <td>607A39D981DE</td>\n",
       "      <td>\\nBefore making any decisions about getting in...</td>\n",
       "    </tr>\n",
       "    <tr>\n",
       "      <th>3</th>\n",
       "      <td>60ACDFA1609E</td>\n",
       "      <td>\\nRalph Waldo Emerson once said, \"Go confident...</td>\n",
       "    </tr>\n",
       "    <tr>\n",
       "      <th>4</th>\n",
       "      <td>60AE13D3F07B</td>\n",
       "      <td>\\nHuman character traits are shaped by a wide ...</td>\n",
       "    </tr>\n",
       "    <tr>\n",
       "      <th>...</th>\n",
       "      <td>...</td>\n",
       "      <td>...</td>\n",
       "    </tr>\n",
       "    <tr>\n",
       "      <th>2416</th>\n",
       "      <td>F5FF5E9E553C</td>\n",
       "      <td>\\nBecoming a surgeon requires a great deal of ...</td>\n",
       "    </tr>\n",
       "    <tr>\n",
       "      <th>2417</th>\n",
       "      <td>F60545D8271E</td>\n",
       "      <td>\\nSchools should offer an after school homewor...</td>\n",
       "    </tr>\n",
       "    <tr>\n",
       "      <th>2418</th>\n",
       "      <td>F610B3CBF3DF</td>\n",
       "      <td>\\nIt’s human nature to be afraid to make mista...</td>\n",
       "    </tr>\n",
       "    <tr>\n",
       "      <th>2419</th>\n",
       "      <td>F610C7BCD9EC</td>\n",
       "      <td>\\nOne of the main debates of 2020 for many stu...</td>\n",
       "    </tr>\n",
       "    <tr>\n",
       "      <th>2420</th>\n",
       "      <td>F6194DEBEFA7</td>\n",
       "      <td>\\nThe implementation of a curfew for teenagers...</td>\n",
       "    </tr>\n",
       "  </tbody>\n",
       "</table>\n",
       "<p>2421 rows × 2 columns</p>\n",
       "</div>"
      ],
      "text/plain": [
       "                id                                        source_text\n",
       "0     6060D28C05B6  \\nWhen considering the pros and cons of attend...\n",
       "1     60623DB5DE7A  \\nOne of the primary arguments for implementin...\n",
       "2     607A39D981DE  \\nBefore making any decisions about getting in...\n",
       "3     60ACDFA1609E  \\nRalph Waldo Emerson once said, \"Go confident...\n",
       "4     60AE13D3F07B  \\nHuman character traits are shaped by a wide ...\n",
       "...            ...                                                ...\n",
       "2416  F5FF5E9E553C  \\nBecoming a surgeon requires a great deal of ...\n",
       "2417  F60545D8271E  \\nSchools should offer an after school homewor...\n",
       "2418  F610B3CBF3DF  \\nIt’s human nature to be afraid to make mista...\n",
       "2419  F610C7BCD9EC  \\nOne of the main debates of 2020 for many stu...\n",
       "2420  F6194DEBEFA7  \\nThe implementation of a curfew for teenagers...\n",
       "\n",
       "[2421 rows x 2 columns]"
      ]
     },
     "execution_count": 15,
     "metadata": {},
     "output_type": "execute_result"
    }
   ],
   "source": [
    "data_NOT_HUM_DE"
   ]
  },
  {
   "cell_type": "code",
   "execution_count": 16,
   "id": "8f0bf0f3",
   "metadata": {
    "execution": {
     "iopub.execute_input": "2023-12-09T08:51:36.605091Z",
     "iopub.status.busy": "2023-12-09T08:51:36.604688Z",
     "iopub.status.idle": "2023-12-09T08:51:36.610713Z",
     "shell.execute_reply": "2023-12-09T08:51:36.609449Z"
    },
    "papermill": {
     "duration": 0.025609,
     "end_time": "2023-12-09T08:51:36.613354",
     "exception": false,
     "start_time": "2023-12-09T08:51:36.587745",
     "status": "completed"
    },
    "tags": []
   },
   "outputs": [],
   "source": [
    "data_NOT_HUM_DE['generated'] = 1"
   ]
  },
  {
   "cell_type": "code",
   "execution_count": 17,
   "id": "7ce3e99c",
   "metadata": {
    "execution": {
     "iopub.execute_input": "2023-12-09T08:51:36.741971Z",
     "iopub.status.busy": "2023-12-09T08:51:36.741587Z",
     "iopub.status.idle": "2023-12-09T08:51:36.747671Z",
     "shell.execute_reply": "2023-12-09T08:51:36.746329Z"
    },
    "papermill": {
     "duration": 0.026658,
     "end_time": "2023-12-09T08:51:36.750629",
     "exception": false,
     "start_time": "2023-12-09T08:51:36.723971",
     "status": "completed"
    },
    "tags": []
   },
   "outputs": [],
   "source": [
    "data_NOT_HUM_DE['prompt_id'] = 0"
   ]
  },
  {
   "cell_type": "code",
   "execution_count": 18,
   "id": "d6d45ee4",
   "metadata": {
    "execution": {
     "iopub.execute_input": "2023-12-09T08:51:36.786378Z",
     "iopub.status.busy": "2023-12-09T08:51:36.785983Z",
     "iopub.status.idle": "2023-12-09T08:51:36.793219Z",
     "shell.execute_reply": "2023-12-09T08:51:36.791866Z"
    },
    "papermill": {
     "duration": 0.029206,
     "end_time": "2023-12-09T08:51:36.796448",
     "exception": false,
     "start_time": "2023-12-09T08:51:36.767242",
     "status": "completed"
    },
    "tags": []
   },
   "outputs": [],
   "source": [
    "data_NOT_HUM_DE = data_NOT_HUM_DE[['id', 'prompt_id', 'source_text', 'generated']]"
   ]
  },
  {
   "cell_type": "code",
   "execution_count": 19,
   "id": "d01a4593",
   "metadata": {
    "execution": {
     "iopub.execute_input": "2023-12-09T08:51:36.832803Z",
     "iopub.status.busy": "2023-12-09T08:51:36.832367Z",
     "iopub.status.idle": "2023-12-09T08:51:36.839429Z",
     "shell.execute_reply": "2023-12-09T08:51:36.837973Z"
    },
    "papermill": {
     "duration": 0.027349,
     "end_time": "2023-12-09T08:51:36.842266",
     "exception": false,
     "start_time": "2023-12-09T08:51:36.814917",
     "status": "completed"
    },
    "tags": []
   },
   "outputs": [],
   "source": [
    "data_NOT_HUM_DE.rename(columns={'source_text' : 'text'}, inplace=True)"
   ]
  },
  {
   "cell_type": "code",
   "execution_count": 20,
   "id": "c051a582",
   "metadata": {
    "execution": {
     "iopub.execute_input": "2023-12-09T08:51:36.876948Z",
     "iopub.status.busy": "2023-12-09T08:51:36.876490Z",
     "iopub.status.idle": "2023-12-09T08:51:36.893915Z",
     "shell.execute_reply": "2023-12-09T08:51:36.892441Z"
    },
    "papermill": {
     "duration": 0.038308,
     "end_time": "2023-12-09T08:51:36.896827",
     "exception": false,
     "start_time": "2023-12-09T08:51:36.858519",
     "status": "completed"
    },
    "tags": []
   },
   "outputs": [
    {
     "data": {
      "text/html": [
       "<div>\n",
       "<style scoped>\n",
       "    .dataframe tbody tr th:only-of-type {\n",
       "        vertical-align: middle;\n",
       "    }\n",
       "\n",
       "    .dataframe tbody tr th {\n",
       "        vertical-align: top;\n",
       "    }\n",
       "\n",
       "    .dataframe thead th {\n",
       "        text-align: right;\n",
       "    }\n",
       "</style>\n",
       "<table border=\"1\" class=\"dataframe\">\n",
       "  <thead>\n",
       "    <tr style=\"text-align: right;\">\n",
       "      <th></th>\n",
       "      <th>id</th>\n",
       "      <th>prompt_id</th>\n",
       "      <th>text</th>\n",
       "      <th>generated</th>\n",
       "    </tr>\n",
       "  </thead>\n",
       "  <tbody>\n",
       "    <tr>\n",
       "      <th>0</th>\n",
       "      <td>6060D28C05B6</td>\n",
       "      <td>0</td>\n",
       "      <td>\\nWhen considering the pros and cons of attend...</td>\n",
       "      <td>1</td>\n",
       "    </tr>\n",
       "    <tr>\n",
       "      <th>1</th>\n",
       "      <td>60623DB5DE7A</td>\n",
       "      <td>0</td>\n",
       "      <td>\\nOne of the primary arguments for implementin...</td>\n",
       "      <td>1</td>\n",
       "    </tr>\n",
       "    <tr>\n",
       "      <th>2</th>\n",
       "      <td>607A39D981DE</td>\n",
       "      <td>0</td>\n",
       "      <td>\\nBefore making any decisions about getting in...</td>\n",
       "      <td>1</td>\n",
       "    </tr>\n",
       "    <tr>\n",
       "      <th>3</th>\n",
       "      <td>60ACDFA1609E</td>\n",
       "      <td>0</td>\n",
       "      <td>\\nRalph Waldo Emerson once said, \"Go confident...</td>\n",
       "      <td>1</td>\n",
       "    </tr>\n",
       "    <tr>\n",
       "      <th>4</th>\n",
       "      <td>60AE13D3F07B</td>\n",
       "      <td>0</td>\n",
       "      <td>\\nHuman character traits are shaped by a wide ...</td>\n",
       "      <td>1</td>\n",
       "    </tr>\n",
       "    <tr>\n",
       "      <th>...</th>\n",
       "      <td>...</td>\n",
       "      <td>...</td>\n",
       "      <td>...</td>\n",
       "      <td>...</td>\n",
       "    </tr>\n",
       "    <tr>\n",
       "      <th>2416</th>\n",
       "      <td>F5FF5E9E553C</td>\n",
       "      <td>0</td>\n",
       "      <td>\\nBecoming a surgeon requires a great deal of ...</td>\n",
       "      <td>1</td>\n",
       "    </tr>\n",
       "    <tr>\n",
       "      <th>2417</th>\n",
       "      <td>F60545D8271E</td>\n",
       "      <td>0</td>\n",
       "      <td>\\nSchools should offer an after school homewor...</td>\n",
       "      <td>1</td>\n",
       "    </tr>\n",
       "    <tr>\n",
       "      <th>2418</th>\n",
       "      <td>F610B3CBF3DF</td>\n",
       "      <td>0</td>\n",
       "      <td>\\nIt’s human nature to be afraid to make mista...</td>\n",
       "      <td>1</td>\n",
       "    </tr>\n",
       "    <tr>\n",
       "      <th>2419</th>\n",
       "      <td>F610C7BCD9EC</td>\n",
       "      <td>0</td>\n",
       "      <td>\\nOne of the main debates of 2020 for many stu...</td>\n",
       "      <td>1</td>\n",
       "    </tr>\n",
       "    <tr>\n",
       "      <th>2420</th>\n",
       "      <td>F6194DEBEFA7</td>\n",
       "      <td>0</td>\n",
       "      <td>\\nThe implementation of a curfew for teenagers...</td>\n",
       "      <td>1</td>\n",
       "    </tr>\n",
       "  </tbody>\n",
       "</table>\n",
       "<p>2421 rows × 4 columns</p>\n",
       "</div>"
      ],
      "text/plain": [
       "                id  prompt_id  \\\n",
       "0     6060D28C05B6          0   \n",
       "1     60623DB5DE7A          0   \n",
       "2     607A39D981DE          0   \n",
       "3     60ACDFA1609E          0   \n",
       "4     60AE13D3F07B          0   \n",
       "...            ...        ...   \n",
       "2416  F5FF5E9E553C          0   \n",
       "2417  F60545D8271E          0   \n",
       "2418  F610B3CBF3DF          0   \n",
       "2419  F610C7BCD9EC          0   \n",
       "2420  F6194DEBEFA7          0   \n",
       "\n",
       "                                                   text  generated  \n",
       "0     \\nWhen considering the pros and cons of attend...          1  \n",
       "1     \\nOne of the primary arguments for implementin...          1  \n",
       "2     \\nBefore making any decisions about getting in...          1  \n",
       "3     \\nRalph Waldo Emerson once said, \"Go confident...          1  \n",
       "4     \\nHuman character traits are shaped by a wide ...          1  \n",
       "...                                                 ...        ...  \n",
       "2416  \\nBecoming a surgeon requires a great deal of ...          1  \n",
       "2417  \\nSchools should offer an after school homewor...          1  \n",
       "2418  \\nIt’s human nature to be afraid to make mista...          1  \n",
       "2419  \\nOne of the main debates of 2020 for many stu...          1  \n",
       "2420  \\nThe implementation of a curfew for teenagers...          1  \n",
       "\n",
       "[2421 rows x 4 columns]"
      ]
     },
     "execution_count": 20,
     "metadata": {},
     "output_type": "execute_result"
    }
   ],
   "source": [
    "data_NOT_HUM_DE"
   ]
  },
  {
   "cell_type": "code",
   "execution_count": 21,
   "id": "851ae0a6",
   "metadata": {
    "execution": {
     "iopub.execute_input": "2023-12-09T08:51:36.932566Z",
     "iopub.status.busy": "2023-12-09T08:51:36.932150Z",
     "iopub.status.idle": "2023-12-09T08:51:36.940859Z",
     "shell.execute_reply": "2023-12-09T08:51:36.939481Z"
    },
    "papermill": {
     "duration": 0.0304,
     "end_time": "2023-12-09T08:51:36.943926",
     "exception": false,
     "start_time": "2023-12-09T08:51:36.913526",
     "status": "completed"
    },
    "tags": []
   },
   "outputs": [],
   "source": [
    "new_data_2 = pd.concat([new_data, data_NOT_HUM_DE, data_HUM_DE], axis=0)"
   ]
  },
  {
   "cell_type": "code",
   "execution_count": 22,
   "id": "1aaf5256",
   "metadata": {
    "execution": {
     "iopub.execute_input": "2023-12-09T08:51:36.981847Z",
     "iopub.status.busy": "2023-12-09T08:51:36.981440Z",
     "iopub.status.idle": "2023-12-09T08:51:36.997241Z",
     "shell.execute_reply": "2023-12-09T08:51:36.995693Z"
    },
    "papermill": {
     "duration": 0.038064,
     "end_time": "2023-12-09T08:51:37.000265",
     "exception": false,
     "start_time": "2023-12-09T08:51:36.962201",
     "status": "completed"
    },
    "tags": []
   },
   "outputs": [
    {
     "data": {
      "text/html": [
       "<div>\n",
       "<style scoped>\n",
       "    .dataframe tbody tr th:only-of-type {\n",
       "        vertical-align: middle;\n",
       "    }\n",
       "\n",
       "    .dataframe tbody tr th {\n",
       "        vertical-align: top;\n",
       "    }\n",
       "\n",
       "    .dataframe thead th {\n",
       "        text-align: right;\n",
       "    }\n",
       "</style>\n",
       "<table border=\"1\" class=\"dataframe\">\n",
       "  <thead>\n",
       "    <tr style=\"text-align: right;\">\n",
       "      <th></th>\n",
       "      <th>id</th>\n",
       "      <th>prompt_id</th>\n",
       "      <th>text</th>\n",
       "      <th>generated</th>\n",
       "    </tr>\n",
       "  </thead>\n",
       "  <tbody>\n",
       "    <tr>\n",
       "      <th>0</th>\n",
       "      <td>0059830c</td>\n",
       "      <td>0</td>\n",
       "      <td>Cars. Cars have been around since they became ...</td>\n",
       "      <td>0</td>\n",
       "    </tr>\n",
       "    <tr>\n",
       "      <th>1</th>\n",
       "      <td>005db917</td>\n",
       "      <td>0</td>\n",
       "      <td>Transportation is a large necessity in most co...</td>\n",
       "      <td>0</td>\n",
       "    </tr>\n",
       "    <tr>\n",
       "      <th>2</th>\n",
       "      <td>008f63e3</td>\n",
       "      <td>0</td>\n",
       "      <td>\"America's love affair with it's vehicles seem...</td>\n",
       "      <td>0</td>\n",
       "    </tr>\n",
       "    <tr>\n",
       "      <th>3</th>\n",
       "      <td>00940276</td>\n",
       "      <td>0</td>\n",
       "      <td>How often do you ride in a car? Do you drive a...</td>\n",
       "      <td>0</td>\n",
       "    </tr>\n",
       "    <tr>\n",
       "      <th>4</th>\n",
       "      <td>00c39458</td>\n",
       "      <td>0</td>\n",
       "      <td>Cars are a wonderful thing. They are perhaps o...</td>\n",
       "      <td>0</td>\n",
       "    </tr>\n",
       "    <tr>\n",
       "      <th>...</th>\n",
       "      <td>...</td>\n",
       "      <td>...</td>\n",
       "      <td>...</td>\n",
       "      <td>...</td>\n",
       "    </tr>\n",
       "    <tr>\n",
       "      <th>2416</th>\n",
       "      <td>F5FF5E9E553C</td>\n",
       "      <td>0</td>\n",
       "      <td>On september 2, 2015 Generic_Name was entering...</td>\n",
       "      <td>0</td>\n",
       "    </tr>\n",
       "    <tr>\n",
       "      <th>2417</th>\n",
       "      <td>F60545D8271E</td>\n",
       "      <td>0</td>\n",
       "      <td>I think that schools must have a after school ...</td>\n",
       "      <td>0</td>\n",
       "    </tr>\n",
       "    <tr>\n",
       "      <th>2418</th>\n",
       "      <td>F610B3CBF3DF</td>\n",
       "      <td>0</td>\n",
       "      <td>Winston Churchill once said \"success consists ...</td>\n",
       "      <td>0</td>\n",
       "    </tr>\n",
       "    <tr>\n",
       "      <th>2419</th>\n",
       "      <td>F610C7BCD9EC</td>\n",
       "      <td>0</td>\n",
       "      <td>Technology seems to be becoming more and more ...</td>\n",
       "      <td>0</td>\n",
       "    </tr>\n",
       "    <tr>\n",
       "      <th>2420</th>\n",
       "      <td>F6194DEBEFA7</td>\n",
       "      <td>0</td>\n",
       "      <td>Teenage is a part of life where everyone wants...</td>\n",
       "      <td>0</td>\n",
       "    </tr>\n",
       "  </tbody>\n",
       "</table>\n",
       "<p>10258 rows × 4 columns</p>\n",
       "</div>"
      ],
      "text/plain": [
       "                id  prompt_id  \\\n",
       "0         0059830c          0   \n",
       "1         005db917          0   \n",
       "2         008f63e3          0   \n",
       "3         00940276          0   \n",
       "4         00c39458          0   \n",
       "...            ...        ...   \n",
       "2416  F5FF5E9E553C          0   \n",
       "2417  F60545D8271E          0   \n",
       "2418  F610B3CBF3DF          0   \n",
       "2419  F610C7BCD9EC          0   \n",
       "2420  F6194DEBEFA7          0   \n",
       "\n",
       "                                                   text  generated  \n",
       "0     Cars. Cars have been around since they became ...          0  \n",
       "1     Transportation is a large necessity in most co...          0  \n",
       "2     \"America's love affair with it's vehicles seem...          0  \n",
       "3     How often do you ride in a car? Do you drive a...          0  \n",
       "4     Cars are a wonderful thing. They are perhaps o...          0  \n",
       "...                                                 ...        ...  \n",
       "2416  On september 2, 2015 Generic_Name was entering...          0  \n",
       "2417  I think that schools must have a after school ...          0  \n",
       "2418  Winston Churchill once said \"success consists ...          0  \n",
       "2419  Technology seems to be becoming more and more ...          0  \n",
       "2420  Teenage is a part of life where everyone wants...          0  \n",
       "\n",
       "[10258 rows x 4 columns]"
      ]
     },
     "execution_count": 22,
     "metadata": {},
     "output_type": "execute_result"
    }
   ],
   "source": [
    "new_data_2"
   ]
  },
  {
   "cell_type": "code",
   "execution_count": 23,
   "id": "4fab3ca4",
   "metadata": {
    "execution": {
     "iopub.execute_input": "2023-12-09T08:51:37.039923Z",
     "iopub.status.busy": "2023-12-09T08:51:37.039501Z",
     "iopub.status.idle": "2023-12-09T08:51:37.046218Z",
     "shell.execute_reply": "2023-12-09T08:51:37.044700Z"
    },
    "papermill": {
     "duration": 0.029147,
     "end_time": "2023-12-09T08:51:37.049004",
     "exception": false,
     "start_time": "2023-12-09T08:51:37.019857",
     "status": "completed"
    },
    "tags": []
   },
   "outputs": [],
   "source": [
    "data_AI_DP['prompt'] = 0"
   ]
  },
  {
   "cell_type": "code",
   "execution_count": 24,
   "id": "e5bb878b",
   "metadata": {
    "execution": {
     "iopub.execute_input": "2023-12-09T08:51:37.084645Z",
     "iopub.status.busy": "2023-12-09T08:51:37.084198Z",
     "iopub.status.idle": "2023-12-09T08:51:37.095911Z",
     "shell.execute_reply": "2023-12-09T08:51:37.094630Z"
    },
    "papermill": {
     "duration": 0.033027,
     "end_time": "2023-12-09T08:51:37.099208",
     "exception": false,
     "start_time": "2023-12-09T08:51:37.066181",
     "status": "completed"
    },
    "tags": []
   },
   "outputs": [],
   "source": [
    "data_AI_DP.drop(columns=['fold', 'source', 'label'], inplace=True)"
   ]
  },
  {
   "cell_type": "code",
   "execution_count": 25,
   "id": "b8d3f200",
   "metadata": {
    "execution": {
     "iopub.execute_input": "2023-12-09T08:51:37.135136Z",
     "iopub.status.busy": "2023-12-09T08:51:37.134516Z",
     "iopub.status.idle": "2023-12-09T08:51:37.141189Z",
     "shell.execute_reply": "2023-12-09T08:51:37.139685Z"
    },
    "papermill": {
     "duration": 0.027627,
     "end_time": "2023-12-09T08:51:37.144197",
     "exception": false,
     "start_time": "2023-12-09T08:51:37.116570",
     "status": "completed"
    },
    "tags": []
   },
   "outputs": [],
   "source": [
    "data_AI_DP['generated'] = 1"
   ]
  },
  {
   "cell_type": "code",
   "execution_count": 26,
   "id": "fdf25f39",
   "metadata": {
    "execution": {
     "iopub.execute_input": "2023-12-09T08:51:37.181436Z",
     "iopub.status.busy": "2023-12-09T08:51:37.180953Z",
     "iopub.status.idle": "2023-12-09T08:51:37.188002Z",
     "shell.execute_reply": "2023-12-09T08:51:37.186587Z"
    },
    "papermill": {
     "duration": 0.029155,
     "end_time": "2023-12-09T08:51:37.191084",
     "exception": false,
     "start_time": "2023-12-09T08:51:37.161929",
     "status": "completed"
    },
    "tags": []
   },
   "outputs": [],
   "source": [
    "data_AI_DP.rename(columns={'essay_id':'id', 'prompt':'prompt_id'}, inplace=True)"
   ]
  },
  {
   "cell_type": "code",
   "execution_count": 27,
   "id": "482a418a",
   "metadata": {
    "execution": {
     "iopub.execute_input": "2023-12-09T08:51:37.227586Z",
     "iopub.status.busy": "2023-12-09T08:51:37.227080Z",
     "iopub.status.idle": "2023-12-09T08:51:37.240930Z",
     "shell.execute_reply": "2023-12-09T08:51:37.239283Z"
    },
    "papermill": {
     "duration": 0.037139,
     "end_time": "2023-12-09T08:51:37.244976",
     "exception": false,
     "start_time": "2023-12-09T08:51:37.207837",
     "status": "completed"
    },
    "tags": []
   },
   "outputs": [],
   "source": [
    "data_AI_DP = data_AI_DP[['id', 'prompt_id', 'text', 'generated']]"
   ]
  },
  {
   "cell_type": "code",
   "execution_count": 28,
   "id": "a860f091",
   "metadata": {
    "execution": {
     "iopub.execute_input": "2023-12-09T08:51:37.281702Z",
     "iopub.status.busy": "2023-12-09T08:51:37.281165Z",
     "iopub.status.idle": "2023-12-09T08:51:37.299886Z",
     "shell.execute_reply": "2023-12-09T08:51:37.298314Z"
    },
    "papermill": {
     "duration": 0.040573,
     "end_time": "2023-12-09T08:51:37.302696",
     "exception": false,
     "start_time": "2023-12-09T08:51:37.262123",
     "status": "completed"
    },
    "tags": []
   },
   "outputs": [
    {
     "data": {
      "text/html": [
       "<div>\n",
       "<style scoped>\n",
       "    .dataframe tbody tr th:only-of-type {\n",
       "        vertical-align: middle;\n",
       "    }\n",
       "\n",
       "    .dataframe tbody tr th {\n",
       "        vertical-align: top;\n",
       "    }\n",
       "\n",
       "    .dataframe thead th {\n",
       "        text-align: right;\n",
       "    }\n",
       "</style>\n",
       "<table border=\"1\" class=\"dataframe\">\n",
       "  <thead>\n",
       "    <tr style=\"text-align: right;\">\n",
       "      <th></th>\n",
       "      <th>id</th>\n",
       "      <th>prompt_id</th>\n",
       "      <th>text</th>\n",
       "      <th>generated</th>\n",
       "    </tr>\n",
       "  </thead>\n",
       "  <tbody>\n",
       "    <tr>\n",
       "      <th>0</th>\n",
       "      <td>E897534557AF</td>\n",
       "      <td>0</td>\n",
       "      <td>In recent years, technology has had a profoun...</td>\n",
       "      <td>1</td>\n",
       "    </tr>\n",
       "    <tr>\n",
       "      <th>1</th>\n",
       "      <td>DFBA34FFE11D</td>\n",
       "      <td>0</td>\n",
       "      <td>Should students participate in an extracurricu...</td>\n",
       "      <td>1</td>\n",
       "    </tr>\n",
       "    <tr>\n",
       "      <th>2</th>\n",
       "      <td>af37ecf5</td>\n",
       "      <td>0</td>\n",
       "      <td>The electoral college is a symbol of mockery a...</td>\n",
       "      <td>1</td>\n",
       "    </tr>\n",
       "    <tr>\n",
       "      <th>3</th>\n",
       "      <td>5EC2696BAD78</td>\n",
       "      <td>0</td>\n",
       "      <td>This is why I think the principle should allow...</td>\n",
       "      <td>1</td>\n",
       "    </tr>\n",
       "    <tr>\n",
       "      <th>4</th>\n",
       "      <td>llama_70b_v1843</td>\n",
       "      <td>0</td>\n",
       "      <td>I strongly believe that meditation and mindful...</td>\n",
       "      <td>1</td>\n",
       "    </tr>\n",
       "    <tr>\n",
       "      <th>...</th>\n",
       "      <td>...</td>\n",
       "      <td>...</td>\n",
       "      <td>...</td>\n",
       "      <td>...</td>\n",
       "    </tr>\n",
       "    <tr>\n",
       "      <th>44201</th>\n",
       "      <td>F7341069C4A4</td>\n",
       "      <td>0</td>\n",
       "      <td>\"Oh man I didn't make the soccer team!\", yelle...</td>\n",
       "      <td>1</td>\n",
       "    </tr>\n",
       "    <tr>\n",
       "      <th>44202</th>\n",
       "      <td>AFE6E553DAC2</td>\n",
       "      <td>0</td>\n",
       "      <td>I believe that using this technology could be ...</td>\n",
       "      <td>1</td>\n",
       "    </tr>\n",
       "    <tr>\n",
       "      <th>44203</th>\n",
       "      <td>falcon_180b_v1_600</td>\n",
       "      <td>0</td>\n",
       "      <td>The Face on Mars is a fascinating phenomenon t...</td>\n",
       "      <td>1</td>\n",
       "    </tr>\n",
       "    <tr>\n",
       "      <th>44204</th>\n",
       "      <td>A5F84C104693</td>\n",
       "      <td>0</td>\n",
       "      <td>Texting &amp; Driving\\n\\nUsing your phone while dr...</td>\n",
       "      <td>1</td>\n",
       "    </tr>\n",
       "    <tr>\n",
       "      <th>44205</th>\n",
       "      <td>A148C659E98B</td>\n",
       "      <td>0</td>\n",
       "      <td>Dear Principal,\\n\\nI have been really good thi...</td>\n",
       "      <td>1</td>\n",
       "    </tr>\n",
       "  </tbody>\n",
       "</table>\n",
       "<p>44206 rows × 4 columns</p>\n",
       "</div>"
      ],
      "text/plain": [
       "                       id  prompt_id  \\\n",
       "0            E897534557AF          0   \n",
       "1            DFBA34FFE11D          0   \n",
       "2                af37ecf5          0   \n",
       "3            5EC2696BAD78          0   \n",
       "4         llama_70b_v1843          0   \n",
       "...                   ...        ...   \n",
       "44201        F7341069C4A4          0   \n",
       "44202        AFE6E553DAC2          0   \n",
       "44203  falcon_180b_v1_600          0   \n",
       "44204        A5F84C104693          0   \n",
       "44205        A148C659E98B          0   \n",
       "\n",
       "                                                    text  generated  \n",
       "0       In recent years, technology has had a profoun...          1  \n",
       "1      Should students participate in an extracurricu...          1  \n",
       "2      The electoral college is a symbol of mockery a...          1  \n",
       "3      This is why I think the principle should allow...          1  \n",
       "4      I strongly believe that meditation and mindful...          1  \n",
       "...                                                  ...        ...  \n",
       "44201  \"Oh man I didn't make the soccer team!\", yelle...          1  \n",
       "44202  I believe that using this technology could be ...          1  \n",
       "44203  The Face on Mars is a fascinating phenomenon t...          1  \n",
       "44204  Texting & Driving\\n\\nUsing your phone while dr...          1  \n",
       "44205  Dear Principal,\\n\\nI have been really good thi...          1  \n",
       "\n",
       "[44206 rows x 4 columns]"
      ]
     },
     "execution_count": 28,
     "metadata": {},
     "output_type": "execute_result"
    }
   ],
   "source": [
    "data_AI_DP"
   ]
  },
  {
   "cell_type": "code",
   "execution_count": 29,
   "id": "bbd897d0",
   "metadata": {
    "execution": {
     "iopub.execute_input": "2023-12-09T08:51:37.340942Z",
     "iopub.status.busy": "2023-12-09T08:51:37.340529Z",
     "iopub.status.idle": "2023-12-09T08:51:37.354766Z",
     "shell.execute_reply": "2023-12-09T08:51:37.353249Z"
    },
    "papermill": {
     "duration": 0.037426,
     "end_time": "2023-12-09T08:51:37.358145",
     "exception": false,
     "start_time": "2023-12-09T08:51:37.320719",
     "status": "completed"
    },
    "tags": []
   },
   "outputs": [],
   "source": [
    "new_data_3 = pd.concat([new_data_2, data_AI_DP], axis=0)"
   ]
  },
  {
   "cell_type": "code",
   "execution_count": 30,
   "id": "e1800979",
   "metadata": {
    "execution": {
     "iopub.execute_input": "2023-12-09T08:51:37.396303Z",
     "iopub.status.busy": "2023-12-09T08:51:37.395896Z",
     "iopub.status.idle": "2023-12-09T08:51:37.411641Z",
     "shell.execute_reply": "2023-12-09T08:51:37.410269Z"
    },
    "papermill": {
     "duration": 0.037328,
     "end_time": "2023-12-09T08:51:37.414483",
     "exception": false,
     "start_time": "2023-12-09T08:51:37.377155",
     "status": "completed"
    },
    "tags": []
   },
   "outputs": [
    {
     "data": {
      "text/html": [
       "<div>\n",
       "<style scoped>\n",
       "    .dataframe tbody tr th:only-of-type {\n",
       "        vertical-align: middle;\n",
       "    }\n",
       "\n",
       "    .dataframe tbody tr th {\n",
       "        vertical-align: top;\n",
       "    }\n",
       "\n",
       "    .dataframe thead th {\n",
       "        text-align: right;\n",
       "    }\n",
       "</style>\n",
       "<table border=\"1\" class=\"dataframe\">\n",
       "  <thead>\n",
       "    <tr style=\"text-align: right;\">\n",
       "      <th></th>\n",
       "      <th>id</th>\n",
       "      <th>prompt_id</th>\n",
       "      <th>text</th>\n",
       "      <th>generated</th>\n",
       "    </tr>\n",
       "  </thead>\n",
       "  <tbody>\n",
       "    <tr>\n",
       "      <th>0</th>\n",
       "      <td>0059830c</td>\n",
       "      <td>0</td>\n",
       "      <td>Cars. Cars have been around since they became ...</td>\n",
       "      <td>0</td>\n",
       "    </tr>\n",
       "    <tr>\n",
       "      <th>1</th>\n",
       "      <td>005db917</td>\n",
       "      <td>0</td>\n",
       "      <td>Transportation is a large necessity in most co...</td>\n",
       "      <td>0</td>\n",
       "    </tr>\n",
       "    <tr>\n",
       "      <th>2</th>\n",
       "      <td>008f63e3</td>\n",
       "      <td>0</td>\n",
       "      <td>\"America's love affair with it's vehicles seem...</td>\n",
       "      <td>0</td>\n",
       "    </tr>\n",
       "    <tr>\n",
       "      <th>3</th>\n",
       "      <td>00940276</td>\n",
       "      <td>0</td>\n",
       "      <td>How often do you ride in a car? Do you drive a...</td>\n",
       "      <td>0</td>\n",
       "    </tr>\n",
       "    <tr>\n",
       "      <th>4</th>\n",
       "      <td>00c39458</td>\n",
       "      <td>0</td>\n",
       "      <td>Cars are a wonderful thing. They are perhaps o...</td>\n",
       "      <td>0</td>\n",
       "    </tr>\n",
       "    <tr>\n",
       "      <th>...</th>\n",
       "      <td>...</td>\n",
       "      <td>...</td>\n",
       "      <td>...</td>\n",
       "      <td>...</td>\n",
       "    </tr>\n",
       "    <tr>\n",
       "      <th>44201</th>\n",
       "      <td>F7341069C4A4</td>\n",
       "      <td>0</td>\n",
       "      <td>\"Oh man I didn't make the soccer team!\", yelle...</td>\n",
       "      <td>1</td>\n",
       "    </tr>\n",
       "    <tr>\n",
       "      <th>44202</th>\n",
       "      <td>AFE6E553DAC2</td>\n",
       "      <td>0</td>\n",
       "      <td>I believe that using this technology could be ...</td>\n",
       "      <td>1</td>\n",
       "    </tr>\n",
       "    <tr>\n",
       "      <th>44203</th>\n",
       "      <td>falcon_180b_v1_600</td>\n",
       "      <td>0</td>\n",
       "      <td>The Face on Mars is a fascinating phenomenon t...</td>\n",
       "      <td>1</td>\n",
       "    </tr>\n",
       "    <tr>\n",
       "      <th>44204</th>\n",
       "      <td>A5F84C104693</td>\n",
       "      <td>0</td>\n",
       "      <td>Texting &amp; Driving\\n\\nUsing your phone while dr...</td>\n",
       "      <td>1</td>\n",
       "    </tr>\n",
       "    <tr>\n",
       "      <th>44205</th>\n",
       "      <td>A148C659E98B</td>\n",
       "      <td>0</td>\n",
       "      <td>Dear Principal,\\n\\nI have been really good thi...</td>\n",
       "      <td>1</td>\n",
       "    </tr>\n",
       "  </tbody>\n",
       "</table>\n",
       "<p>54464 rows × 4 columns</p>\n",
       "</div>"
      ],
      "text/plain": [
       "                       id  prompt_id  \\\n",
       "0                0059830c          0   \n",
       "1                005db917          0   \n",
       "2                008f63e3          0   \n",
       "3                00940276          0   \n",
       "4                00c39458          0   \n",
       "...                   ...        ...   \n",
       "44201        F7341069C4A4          0   \n",
       "44202        AFE6E553DAC2          0   \n",
       "44203  falcon_180b_v1_600          0   \n",
       "44204        A5F84C104693          0   \n",
       "44205        A148C659E98B          0   \n",
       "\n",
       "                                                    text  generated  \n",
       "0      Cars. Cars have been around since they became ...          0  \n",
       "1      Transportation is a large necessity in most co...          0  \n",
       "2      \"America's love affair with it's vehicles seem...          0  \n",
       "3      How often do you ride in a car? Do you drive a...          0  \n",
       "4      Cars are a wonderful thing. They are perhaps o...          0  \n",
       "...                                                  ...        ...  \n",
       "44201  \"Oh man I didn't make the soccer team!\", yelle...          1  \n",
       "44202  I believe that using this technology could be ...          1  \n",
       "44203  The Face on Mars is a fascinating phenomenon t...          1  \n",
       "44204  Texting & Driving\\n\\nUsing your phone while dr...          1  \n",
       "44205  Dear Principal,\\n\\nI have been really good thi...          1  \n",
       "\n",
       "[54464 rows x 4 columns]"
      ]
     },
     "execution_count": 30,
     "metadata": {},
     "output_type": "execute_result"
    }
   ],
   "source": [
    "new_data_3"
   ]
  },
  {
   "cell_type": "code",
   "execution_count": 31,
   "id": "9e90e416",
   "metadata": {
    "execution": {
     "iopub.execute_input": "2023-12-09T08:51:37.452628Z",
     "iopub.status.busy": "2023-12-09T08:51:37.452175Z",
     "iopub.status.idle": "2023-12-09T08:51:37.458957Z",
     "shell.execute_reply": "2023-12-09T08:51:37.457622Z"
    },
    "papermill": {
     "duration": 0.029097,
     "end_time": "2023-12-09T08:51:37.461464",
     "exception": false,
     "start_time": "2023-12-09T08:51:37.432367",
     "status": "completed"
    },
    "tags": []
   },
   "outputs": [],
   "source": [
    "new_data_3['id'] = new_data_3.index"
   ]
  },
  {
   "cell_type": "code",
   "execution_count": 32,
   "id": "564abb34",
   "metadata": {
    "execution": {
     "iopub.execute_input": "2023-12-09T08:51:37.500271Z",
     "iopub.status.busy": "2023-12-09T08:51:37.499870Z",
     "iopub.status.idle": "2023-12-09T08:51:37.518071Z",
     "shell.execute_reply": "2023-12-09T08:51:37.515329Z"
    },
    "papermill": {
     "duration": 0.041074,
     "end_time": "2023-12-09T08:51:37.521350",
     "exception": false,
     "start_time": "2023-12-09T08:51:37.480276",
     "status": "completed"
    },
    "tags": []
   },
   "outputs": [
    {
     "data": {
      "text/html": [
       "<div>\n",
       "<style scoped>\n",
       "    .dataframe tbody tr th:only-of-type {\n",
       "        vertical-align: middle;\n",
       "    }\n",
       "\n",
       "    .dataframe tbody tr th {\n",
       "        vertical-align: top;\n",
       "    }\n",
       "\n",
       "    .dataframe thead th {\n",
       "        text-align: right;\n",
       "    }\n",
       "</style>\n",
       "<table border=\"1\" class=\"dataframe\">\n",
       "  <thead>\n",
       "    <tr style=\"text-align: right;\">\n",
       "      <th></th>\n",
       "      <th>id</th>\n",
       "      <th>prompt_id</th>\n",
       "      <th>text</th>\n",
       "      <th>generated</th>\n",
       "    </tr>\n",
       "  </thead>\n",
       "  <tbody>\n",
       "    <tr>\n",
       "      <th>0</th>\n",
       "      <td>0</td>\n",
       "      <td>0</td>\n",
       "      <td>Cars. Cars have been around since they became ...</td>\n",
       "      <td>0</td>\n",
       "    </tr>\n",
       "    <tr>\n",
       "      <th>1</th>\n",
       "      <td>1</td>\n",
       "      <td>0</td>\n",
       "      <td>Transportation is a large necessity in most co...</td>\n",
       "      <td>0</td>\n",
       "    </tr>\n",
       "    <tr>\n",
       "      <th>2</th>\n",
       "      <td>2</td>\n",
       "      <td>0</td>\n",
       "      <td>\"America's love affair with it's vehicles seem...</td>\n",
       "      <td>0</td>\n",
       "    </tr>\n",
       "    <tr>\n",
       "      <th>3</th>\n",
       "      <td>3</td>\n",
       "      <td>0</td>\n",
       "      <td>How often do you ride in a car? Do you drive a...</td>\n",
       "      <td>0</td>\n",
       "    </tr>\n",
       "    <tr>\n",
       "      <th>4</th>\n",
       "      <td>4</td>\n",
       "      <td>0</td>\n",
       "      <td>Cars are a wonderful thing. They are perhaps o...</td>\n",
       "      <td>0</td>\n",
       "    </tr>\n",
       "    <tr>\n",
       "      <th>...</th>\n",
       "      <td>...</td>\n",
       "      <td>...</td>\n",
       "      <td>...</td>\n",
       "      <td>...</td>\n",
       "    </tr>\n",
       "    <tr>\n",
       "      <th>44201</th>\n",
       "      <td>44201</td>\n",
       "      <td>0</td>\n",
       "      <td>\"Oh man I didn't make the soccer team!\", yelle...</td>\n",
       "      <td>1</td>\n",
       "    </tr>\n",
       "    <tr>\n",
       "      <th>44202</th>\n",
       "      <td>44202</td>\n",
       "      <td>0</td>\n",
       "      <td>I believe that using this technology could be ...</td>\n",
       "      <td>1</td>\n",
       "    </tr>\n",
       "    <tr>\n",
       "      <th>44203</th>\n",
       "      <td>44203</td>\n",
       "      <td>0</td>\n",
       "      <td>The Face on Mars is a fascinating phenomenon t...</td>\n",
       "      <td>1</td>\n",
       "    </tr>\n",
       "    <tr>\n",
       "      <th>44204</th>\n",
       "      <td>44204</td>\n",
       "      <td>0</td>\n",
       "      <td>Texting &amp; Driving\\n\\nUsing your phone while dr...</td>\n",
       "      <td>1</td>\n",
       "    </tr>\n",
       "    <tr>\n",
       "      <th>44205</th>\n",
       "      <td>44205</td>\n",
       "      <td>0</td>\n",
       "      <td>Dear Principal,\\n\\nI have been really good thi...</td>\n",
       "      <td>1</td>\n",
       "    </tr>\n",
       "  </tbody>\n",
       "</table>\n",
       "<p>54464 rows × 4 columns</p>\n",
       "</div>"
      ],
      "text/plain": [
       "          id  prompt_id                                               text  \\\n",
       "0          0          0  Cars. Cars have been around since they became ...   \n",
       "1          1          0  Transportation is a large necessity in most co...   \n",
       "2          2          0  \"America's love affair with it's vehicles seem...   \n",
       "3          3          0  How often do you ride in a car? Do you drive a...   \n",
       "4          4          0  Cars are a wonderful thing. They are perhaps o...   \n",
       "...      ...        ...                                                ...   \n",
       "44201  44201          0  \"Oh man I didn't make the soccer team!\", yelle...   \n",
       "44202  44202          0  I believe that using this technology could be ...   \n",
       "44203  44203          0  The Face on Mars is a fascinating phenomenon t...   \n",
       "44204  44204          0  Texting & Driving\\n\\nUsing your phone while dr...   \n",
       "44205  44205          0  Dear Principal,\\n\\nI have been really good thi...   \n",
       "\n",
       "       generated  \n",
       "0              0  \n",
       "1              0  \n",
       "2              0  \n",
       "3              0  \n",
       "4              0  \n",
       "...          ...  \n",
       "44201          1  \n",
       "44202          1  \n",
       "44203          1  \n",
       "44204          1  \n",
       "44205          1  \n",
       "\n",
       "[54464 rows x 4 columns]"
      ]
     },
     "execution_count": 32,
     "metadata": {},
     "output_type": "execute_result"
    }
   ],
   "source": [
    "new_data_3"
   ]
  },
  {
   "cell_type": "code",
   "execution_count": 33,
   "id": "4aa66e70",
   "metadata": {
    "execution": {
     "iopub.execute_input": "2023-12-09T08:51:37.561625Z",
     "iopub.status.busy": "2023-12-09T08:51:37.561201Z",
     "iopub.status.idle": "2023-12-09T08:51:37.570668Z",
     "shell.execute_reply": "2023-12-09T08:51:37.569525Z"
    },
    "papermill": {
     "duration": 0.032478,
     "end_time": "2023-12-09T08:51:37.573312",
     "exception": false,
     "start_time": "2023-12-09T08:51:37.540834",
     "status": "completed"
    },
    "tags": []
   },
   "outputs": [],
   "source": [
    "new_data_3['id'] = new_data_3['id'].astype(dtype='object')"
   ]
  },
  {
   "cell_type": "code",
   "execution_count": 34,
   "id": "d91e68ab",
   "metadata": {
    "execution": {
     "iopub.execute_input": "2023-12-09T08:51:37.610688Z",
     "iopub.status.busy": "2023-12-09T08:51:37.610224Z",
     "iopub.status.idle": "2023-12-09T08:51:37.615850Z",
     "shell.execute_reply": "2023-12-09T08:51:37.614616Z"
    },
    "papermill": {
     "duration": 0.026964,
     "end_time": "2023-12-09T08:51:37.618115",
     "exception": false,
     "start_time": "2023-12-09T08:51:37.591151",
     "status": "completed"
    },
    "tags": []
   },
   "outputs": [],
   "source": [
    "new_data_3['prompt_id'] = 0"
   ]
  },
  {
   "cell_type": "code",
   "execution_count": 35,
   "id": "eaa112ba",
   "metadata": {
    "execution": {
     "iopub.execute_input": "2023-12-09T08:51:37.654387Z",
     "iopub.status.busy": "2023-12-09T08:51:37.653942Z",
     "iopub.status.idle": "2023-12-09T08:51:37.672321Z",
     "shell.execute_reply": "2023-12-09T08:51:37.670888Z"
    },
    "papermill": {
     "duration": 0.039975,
     "end_time": "2023-12-09T08:51:37.675181",
     "exception": false,
     "start_time": "2023-12-09T08:51:37.635206",
     "status": "completed"
    },
    "tags": []
   },
   "outputs": [
    {
     "data": {
      "text/html": [
       "<div>\n",
       "<style scoped>\n",
       "    .dataframe tbody tr th:only-of-type {\n",
       "        vertical-align: middle;\n",
       "    }\n",
       "\n",
       "    .dataframe tbody tr th {\n",
       "        vertical-align: top;\n",
       "    }\n",
       "\n",
       "    .dataframe thead th {\n",
       "        text-align: right;\n",
       "    }\n",
       "</style>\n",
       "<table border=\"1\" class=\"dataframe\">\n",
       "  <thead>\n",
       "    <tr style=\"text-align: right;\">\n",
       "      <th></th>\n",
       "      <th>id</th>\n",
       "      <th>prompt_id</th>\n",
       "      <th>text</th>\n",
       "      <th>generated</th>\n",
       "    </tr>\n",
       "  </thead>\n",
       "  <tbody>\n",
       "    <tr>\n",
       "      <th>0</th>\n",
       "      <td>0</td>\n",
       "      <td>0</td>\n",
       "      <td>Cars. Cars have been around since they became ...</td>\n",
       "      <td>0</td>\n",
       "    </tr>\n",
       "    <tr>\n",
       "      <th>1</th>\n",
       "      <td>1</td>\n",
       "      <td>0</td>\n",
       "      <td>Transportation is a large necessity in most co...</td>\n",
       "      <td>0</td>\n",
       "    </tr>\n",
       "    <tr>\n",
       "      <th>2</th>\n",
       "      <td>2</td>\n",
       "      <td>0</td>\n",
       "      <td>\"America's love affair with it's vehicles seem...</td>\n",
       "      <td>0</td>\n",
       "    </tr>\n",
       "    <tr>\n",
       "      <th>3</th>\n",
       "      <td>3</td>\n",
       "      <td>0</td>\n",
       "      <td>How often do you ride in a car? Do you drive a...</td>\n",
       "      <td>0</td>\n",
       "    </tr>\n",
       "    <tr>\n",
       "      <th>4</th>\n",
       "      <td>4</td>\n",
       "      <td>0</td>\n",
       "      <td>Cars are a wonderful thing. They are perhaps o...</td>\n",
       "      <td>0</td>\n",
       "    </tr>\n",
       "    <tr>\n",
       "      <th>...</th>\n",
       "      <td>...</td>\n",
       "      <td>...</td>\n",
       "      <td>...</td>\n",
       "      <td>...</td>\n",
       "    </tr>\n",
       "    <tr>\n",
       "      <th>44201</th>\n",
       "      <td>44201</td>\n",
       "      <td>0</td>\n",
       "      <td>\"Oh man I didn't make the soccer team!\", yelle...</td>\n",
       "      <td>1</td>\n",
       "    </tr>\n",
       "    <tr>\n",
       "      <th>44202</th>\n",
       "      <td>44202</td>\n",
       "      <td>0</td>\n",
       "      <td>I believe that using this technology could be ...</td>\n",
       "      <td>1</td>\n",
       "    </tr>\n",
       "    <tr>\n",
       "      <th>44203</th>\n",
       "      <td>44203</td>\n",
       "      <td>0</td>\n",
       "      <td>The Face on Mars is a fascinating phenomenon t...</td>\n",
       "      <td>1</td>\n",
       "    </tr>\n",
       "    <tr>\n",
       "      <th>44204</th>\n",
       "      <td>44204</td>\n",
       "      <td>0</td>\n",
       "      <td>Texting &amp; Driving\\n\\nUsing your phone while dr...</td>\n",
       "      <td>1</td>\n",
       "    </tr>\n",
       "    <tr>\n",
       "      <th>44205</th>\n",
       "      <td>44205</td>\n",
       "      <td>0</td>\n",
       "      <td>Dear Principal,\\n\\nI have been really good thi...</td>\n",
       "      <td>1</td>\n",
       "    </tr>\n",
       "  </tbody>\n",
       "</table>\n",
       "<p>54464 rows × 4 columns</p>\n",
       "</div>"
      ],
      "text/plain": [
       "          id  prompt_id                                               text  \\\n",
       "0          0          0  Cars. Cars have been around since they became ...   \n",
       "1          1          0  Transportation is a large necessity in most co...   \n",
       "2          2          0  \"America's love affair with it's vehicles seem...   \n",
       "3          3          0  How often do you ride in a car? Do you drive a...   \n",
       "4          4          0  Cars are a wonderful thing. They are perhaps o...   \n",
       "...      ...        ...                                                ...   \n",
       "44201  44201          0  \"Oh man I didn't make the soccer team!\", yelle...   \n",
       "44202  44202          0  I believe that using this technology could be ...   \n",
       "44203  44203          0  The Face on Mars is a fascinating phenomenon t...   \n",
       "44204  44204          0  Texting & Driving\\n\\nUsing your phone while dr...   \n",
       "44205  44205          0  Dear Principal,\\n\\nI have been really good thi...   \n",
       "\n",
       "       generated  \n",
       "0              0  \n",
       "1              0  \n",
       "2              0  \n",
       "3              0  \n",
       "4              0  \n",
       "...          ...  \n",
       "44201          1  \n",
       "44202          1  \n",
       "44203          1  \n",
       "44204          1  \n",
       "44205          1  \n",
       "\n",
       "[54464 rows x 4 columns]"
      ]
     },
     "execution_count": 35,
     "metadata": {},
     "output_type": "execute_result"
    }
   ],
   "source": [
    "new_data_3"
   ]
  },
  {
   "cell_type": "code",
   "execution_count": 36,
   "id": "7e531c99",
   "metadata": {
    "execution": {
     "iopub.execute_input": "2023-12-09T08:51:37.712377Z",
     "iopub.status.busy": "2023-12-09T08:51:37.711282Z",
     "iopub.status.idle": "2023-12-09T08:51:37.763184Z",
     "shell.execute_reply": "2023-12-09T08:51:37.761735Z"
    },
    "papermill": {
     "duration": 0.073338,
     "end_time": "2023-12-09T08:51:37.766156",
     "exception": false,
     "start_time": "2023-12-09T08:51:37.692818",
     "status": "completed"
    },
    "tags": []
   },
   "outputs": [],
   "source": [
    "train, valid = train_test_split(new_data_3, test_size = 0.20, random_state=5, stratify=new_data_3.generated)"
   ]
  },
  {
   "cell_type": "code",
   "execution_count": 37,
   "id": "c0d88b35",
   "metadata": {
    "execution": {
     "iopub.execute_input": "2023-12-09T08:51:37.802362Z",
     "iopub.status.busy": "2023-12-09T08:51:37.801866Z",
     "iopub.status.idle": "2023-12-09T08:51:37.808220Z",
     "shell.execute_reply": "2023-12-09T08:51:37.806914Z"
    },
    "papermill": {
     "duration": 0.027473,
     "end_time": "2023-12-09T08:51:37.810650",
     "exception": false,
     "start_time": "2023-12-09T08:51:37.783177",
     "status": "completed"
    },
    "tags": []
   },
   "outputs": [],
   "source": [
    "vectorizer = TfidfVectorizer(stop_words='english', ngram_range=(1, 3), sublinear_tf=True, max_features=10)"
   ]
  },
  {
   "cell_type": "code",
   "execution_count": 38,
   "id": "bbea8eff",
   "metadata": {
    "execution": {
     "iopub.execute_input": "2023-12-09T08:51:37.848200Z",
     "iopub.status.busy": "2023-12-09T08:51:37.847759Z",
     "iopub.status.idle": "2023-12-09T08:53:38.035539Z",
     "shell.execute_reply": "2023-12-09T08:53:38.033962Z"
    },
    "papermill": {
     "duration": 120.211311,
     "end_time": "2023-12-09T08:53:38.039281",
     "exception": false,
     "start_time": "2023-12-09T08:51:37.827970",
     "status": "completed"
    },
    "tags": []
   },
   "outputs": [],
   "source": [
    "X_train = vectorizer.fit_transform(train['text'])\n",
    "X_valid = vectorizer.transform(valid['text'])\n"
   ]
  },
  {
   "cell_type": "code",
   "execution_count": 39,
   "id": "0a418a76",
   "metadata": {
    "execution": {
     "iopub.execute_input": "2023-12-09T08:53:38.081876Z",
     "iopub.status.busy": "2023-12-09T08:53:38.081370Z",
     "iopub.status.idle": "2023-12-09T08:53:44.634304Z",
     "shell.execute_reply": "2023-12-09T08:53:44.633357Z"
    },
    "papermill": {
     "duration": 6.575463,
     "end_time": "2023-12-09T08:53:44.637136",
     "exception": false,
     "start_time": "2023-12-09T08:53:38.061673",
     "status": "completed"
    },
    "tags": []
   },
   "outputs": [],
   "source": [
    "classifier = XGBClassifier(objective='binary:logistic', learning_rate=0.01, n_estimators=1000, n_jobs=-1)\n",
    "classifier.fit(X_train, train['generated'])\n",
    "\n",
    "y_pred = classifier.predict_proba(X_valid)[:,1]"
   ]
  },
  {
   "cell_type": "code",
   "execution_count": 40,
   "id": "9536dee4",
   "metadata": {
    "execution": {
     "iopub.execute_input": "2023-12-09T08:53:44.675578Z",
     "iopub.status.busy": "2023-12-09T08:53:44.675106Z",
     "iopub.status.idle": "2023-12-09T08:53:44.690785Z",
     "shell.execute_reply": "2023-12-09T08:53:44.689752Z"
    },
    "papermill": {
     "duration": 0.037151,
     "end_time": "2023-12-09T08:53:44.693115",
     "exception": false,
     "start_time": "2023-12-09T08:53:44.655964",
     "status": "completed"
    },
    "tags": []
   },
   "outputs": [
    {
     "name": "stdout",
     "output_type": "stream",
     "text": [
      "Validation AUC score: 0.6923578462307322\n"
     ]
    }
   ],
   "source": [
    "print(\"Validation AUC score:\", roc_auc_score(valid[\"generated\"], y_pred))"
   ]
  },
  {
   "cell_type": "code",
   "execution_count": 41,
   "id": "8d1d52a3",
   "metadata": {
    "execution": {
     "iopub.execute_input": "2023-12-09T08:53:44.731068Z",
     "iopub.status.busy": "2023-12-09T08:53:44.729479Z",
     "iopub.status.idle": "2023-12-09T08:53:44.740507Z",
     "shell.execute_reply": "2023-12-09T08:53:44.739382Z"
    },
    "papermill": {
     "duration": 0.033206,
     "end_time": "2023-12-09T08:53:44.743685",
     "exception": false,
     "start_time": "2023-12-09T08:53:44.710479",
     "status": "completed"
    },
    "tags": []
   },
   "outputs": [],
   "source": [
    "X_test = vectorizer.transform(test_L['text'])\n",
    "y_test_pred = classifier.predict_proba(X_test)[:,1]"
   ]
  },
  {
   "cell_type": "code",
   "execution_count": 42,
   "id": "411e0b30",
   "metadata": {
    "execution": {
     "iopub.execute_input": "2023-12-09T08:53:44.784213Z",
     "iopub.status.busy": "2023-12-09T08:53:44.783780Z",
     "iopub.status.idle": "2023-12-09T08:53:44.795280Z",
     "shell.execute_reply": "2023-12-09T08:53:44.793906Z"
    },
    "papermill": {
     "duration": 0.03461,
     "end_time": "2023-12-09T08:53:44.798660",
     "exception": false,
     "start_time": "2023-12-09T08:53:44.764050",
     "status": "completed"
    },
    "tags": []
   },
   "outputs": [],
   "source": [
    "test_L['generated'] = y_test_pred\n",
    "test_L[['id', 'generated']].to_csv('submission.csv', index=False)"
   ]
  },
  {
   "cell_type": "code",
   "execution_count": null,
   "id": "b9ae5d23",
   "metadata": {
    "papermill": {
     "duration": 0.017889,
     "end_time": "2023-12-09T08:53:44.834800",
     "exception": false,
     "start_time": "2023-12-09T08:53:44.816911",
     "status": "completed"
    },
    "tags": []
   },
   "outputs": [],
   "source": []
  }
 ],
 "metadata": {
  "kaggle": {
   "accelerator": "none",
   "dataSources": [
    {
     "databundleVersionId": 6888007,
     "sourceId": 61542,
     "sourceType": "competition"
    },
    {
     "datasetId": 3936750,
     "sourceId": 6847931,
     "sourceType": "datasetVersion"
    },
    {
     "datasetId": 3946973,
     "sourceId": 6867914,
     "sourceType": "datasetVersion"
    },
    {
     "datasetId": 3942644,
     "sourceId": 6890527,
     "sourceType": "datasetVersion"
    }
   ],
   "dockerImageVersionId": 30615,
   "isGpuEnabled": false,
   "isInternetEnabled": false,
   "language": "python",
   "sourceType": "notebook"
  },
  "kernelspec": {
   "display_name": "Python 3",
   "language": "python",
   "name": "python3"
  },
  "language_info": {
   "codemirror_mode": {
    "name": "ipython",
    "version": 3
   },
   "file_extension": ".py",
   "mimetype": "text/x-python",
   "name": "python",
   "nbconvert_exporter": "python",
   "pygments_lexer": "ipython3",
   "version": "3.10.12"
  },
  "papermill": {
   "default_parameters": {},
   "duration": 143.989677,
   "end_time": "2023-12-09T08:53:47.475341",
   "environment_variables": {},
   "exception": null,
   "input_path": "__notebook__.ipynb",
   "output_path": "__notebook__.ipynb",
   "parameters": {},
   "start_time": "2023-12-09T08:51:23.485664",
   "version": "2.4.0"
  }
 },
 "nbformat": 4,
 "nbformat_minor": 5
}
