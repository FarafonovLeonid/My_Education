{
 "cells": [
  {
   "cell_type": "code",
   "execution_count": 1,
   "id": "3d66dade",
   "metadata": {
    "_cell_guid": "b1076dfc-b9ad-4769-8c92-a6c4dae69d19",
    "_uuid": "8f2839f25d086af736a60e9eeb907d3b93b6e0e5",
    "execution": {
     "iopub.execute_input": "2024-01-14T06:45:18.801555Z",
     "iopub.status.busy": "2024-01-14T06:45:18.801265Z",
     "iopub.status.idle": "2024-01-14T06:45:19.616241Z",
     "shell.execute_reply": "2024-01-14T06:45:19.615317Z"
    },
    "papermill": {
     "duration": 0.823156,
     "end_time": "2024-01-14T06:45:19.618430",
     "exception": false,
     "start_time": "2024-01-14T06:45:18.795274",
     "status": "completed"
    },
    "tags": []
   },
   "outputs": [
    {
     "name": "stdout",
     "output_type": "stream",
     "text": [
      "/kaggle/input/digit-recognizer/sample_submission.csv\n",
      "/kaggle/input/digit-recognizer/train.csv\n",
      "/kaggle/input/digit-recognizer/test.csv\n"
     ]
    }
   ],
   "source": [
    "# This Python 3 environment comes with many helpful analytics libraries installed\n",
    "# It is defined by the kaggle/python Docker image: https://github.com/kaggle/docker-python\n",
    "# For example, here's several helpful packages to load\n",
    "\n",
    "import numpy as np # linear algebra\n",
    "import pandas as pd # data processing, CSV file I/O (e.g. pd.read_csv)\n",
    "\n",
    "# Input data files are available in the read-only \"../input/\" directory\n",
    "# For example, running this (by clicking run or pressing Shift+Enter) will list all files under the input directory\n",
    "\n",
    "import os\n",
    "for dirname, _, filenames in os.walk('/kaggle/input'):\n",
    "    for filename in filenames:\n",
    "        print(os.path.join(dirname, filename))\n",
    "\n",
    "# You can write up to 20GB to the current directory (/kaggle/working/) that gets preserved as output when you create a version using \"Save & Run All\" \n",
    "# You can also write temporary files to /kaggle/temp/, but they won't be saved outside of the current session"
   ]
  },
  {
   "cell_type": "code",
   "execution_count": 2,
   "id": "c22eaf35",
   "metadata": {
    "execution": {
     "iopub.execute_input": "2024-01-14T06:45:19.629187Z",
     "iopub.status.busy": "2024-01-14T06:45:19.628807Z",
     "iopub.status.idle": "2024-01-14T06:45:32.993970Z",
     "shell.execute_reply": "2024-01-14T06:45:32.993161Z"
    },
    "papermill": {
     "duration": 13.372991,
     "end_time": "2024-01-14T06:45:32.996318",
     "exception": false,
     "start_time": "2024-01-14T06:45:19.623327",
     "status": "completed"
    },
    "tags": []
   },
   "outputs": [
    {
     "name": "stderr",
     "output_type": "stream",
     "text": [
      "/opt/conda/lib/python3.10/site-packages/scipy/__init__.py:146: UserWarning: A NumPy version >=1.16.5 and <1.23.0 is required for this version of SciPy (detected version 1.24.3\n",
      "  warnings.warn(f\"A NumPy version >={np_minversion} and <{np_maxversion}\"\n"
     ]
    }
   ],
   "source": [
    "import pandas as pd\n",
    "import numpy as np\n",
    "import tensorflow as tf\n",
    "from tensorflow import keras\n",
    "import matplotlib as plt\n",
    "import seaborn as sns"
   ]
  },
  {
   "cell_type": "code",
   "execution_count": 3,
   "id": "f0857af8",
   "metadata": {
    "execution": {
     "iopub.execute_input": "2024-01-14T06:45:33.007415Z",
     "iopub.status.busy": "2024-01-14T06:45:33.006968Z",
     "iopub.status.idle": "2024-01-14T06:45:33.502854Z",
     "shell.execute_reply": "2024-01-14T06:45:33.502038Z"
    },
    "papermill": {
     "duration": 0.503683,
     "end_time": "2024-01-14T06:45:33.505048",
     "exception": false,
     "start_time": "2024-01-14T06:45:33.001365",
     "status": "completed"
    },
    "tags": []
   },
   "outputs": [
    {
     "name": "stdout",
     "output_type": "stream",
     "text": [
      "Downloading data from https://storage.googleapis.com/tensorflow/tf-keras-datasets/mnist.npz\n",
      "11490434/11490434 [==============================] - 0s 0us/step\n"
     ]
    }
   ],
   "source": [
    "(X_train, y_train), (X_test, y_test) = keras.datasets.mnist.load_data()"
   ]
  },
  {
   "cell_type": "code",
   "execution_count": 4,
   "id": "04e68432",
   "metadata": {
    "execution": {
     "iopub.execute_input": "2024-01-14T06:45:33.516885Z",
     "iopub.status.busy": "2024-01-14T06:45:33.516232Z",
     "iopub.status.idle": "2024-01-14T06:45:33.595520Z",
     "shell.execute_reply": "2024-01-14T06:45:33.594698Z"
    },
    "papermill": {
     "duration": 0.087575,
     "end_time": "2024-01-14T06:45:33.597849",
     "exception": false,
     "start_time": "2024-01-14T06:45:33.510274",
     "status": "completed"
    },
    "tags": []
   },
   "outputs": [],
   "source": [
    "X_train = X_train.astype('float32') / 255\n",
    "X_test = X_test.astype('float32') / 255\n",
    "\n",
    "X_train = np.expand_dims(X_train, -1)\n",
    "X_test = np.expand_dims(X_test, -1)"
   ]
  },
  {
   "cell_type": "code",
   "execution_count": 5,
   "id": "6638910c",
   "metadata": {
    "execution": {
     "iopub.execute_input": "2024-01-14T06:45:33.609407Z",
     "iopub.status.busy": "2024-01-14T06:45:33.609118Z",
     "iopub.status.idle": "2024-01-14T06:45:33.614511Z",
     "shell.execute_reply": "2024-01-14T06:45:33.613624Z"
    },
    "papermill": {
     "duration": 0.013408,
     "end_time": "2024-01-14T06:45:33.616472",
     "exception": false,
     "start_time": "2024-01-14T06:45:33.603064",
     "status": "completed"
    },
    "tags": []
   },
   "outputs": [
    {
     "name": "stdout",
     "output_type": "stream",
     "text": [
      "X_train shape: (60000, 28, 28, 1)\n",
      "y_train shape: (60000,)\n",
      "train samples: 60000\n",
      "test samples: 10000\n"
     ]
    }
   ],
   "source": [
    "print('X_train shape:', X_train.shape)\n",
    "print('y_train shape:', y_train.shape)\n",
    "print('train samples:', X_train.shape[0])\n",
    "print('test samples:', X_test.shape[0])"
   ]
  },
  {
   "cell_type": "code",
   "execution_count": 6,
   "id": "a2ffe85b",
   "metadata": {
    "execution": {
     "iopub.execute_input": "2024-01-14T06:45:33.627476Z",
     "iopub.status.busy": "2024-01-14T06:45:33.627218Z",
     "iopub.status.idle": "2024-01-14T06:45:34.920203Z",
     "shell.execute_reply": "2024-01-14T06:45:34.919368Z"
    },
    "papermill": {
     "duration": 1.301102,
     "end_time": "2024-01-14T06:45:34.922565",
     "exception": false,
     "start_time": "2024-01-14T06:45:33.621463",
     "status": "completed"
    },
    "tags": []
   },
   "outputs": [],
   "source": [
    "num_classes = 10\n",
    "input_shape = (28, 28, 1)\n",
    "\n",
    "model = keras.Sequential([\n",
    "    keras.layers.Input(shape=input_shape),\n",
    "    keras.layers.Conv2D(64, kernel_size=(3, 3), activation='relu'),\n",
    "    keras.layers.Conv2D(64, kernel_size=(3, 3), activation='relu'),\n",
    "    keras.layers.MaxPooling2D(pool_size=(2, 2)),\n",
    "    keras.layers.Conv2D(128, kernel_size=(3, 3), activation='relu'),\n",
    "    keras.layers.Conv2D(128, kernel_size=(3, 3), activation='relu'),\n",
    "    keras.layers.GlobalAveragePooling2D(),\n",
    "    keras.layers.Dropout(0.5),\n",
    "    keras.layers.Dense(num_classes, activation='softmax')\n",
    "])"
   ]
  },
  {
   "cell_type": "code",
   "execution_count": 7,
   "id": "2a07c313",
   "metadata": {
    "execution": {
     "iopub.execute_input": "2024-01-14T06:45:34.935095Z",
     "iopub.status.busy": "2024-01-14T06:45:34.934760Z",
     "iopub.status.idle": "2024-01-14T06:45:34.961225Z",
     "shell.execute_reply": "2024-01-14T06:45:34.960341Z"
    },
    "papermill": {
     "duration": 0.044426,
     "end_time": "2024-01-14T06:45:34.972913",
     "exception": false,
     "start_time": "2024-01-14T06:45:34.928487",
     "status": "completed"
    },
    "tags": []
   },
   "outputs": [
    {
     "name": "stdout",
     "output_type": "stream",
     "text": [
      "Model: \"sequential\"\n",
      "_________________________________________________________________\n",
      " Layer (type)                Output Shape              Param #   \n",
      "=================================================================\n",
      " conv2d (Conv2D)             (None, 26, 26, 64)        640       \n",
      "                                                                 \n",
      " conv2d_1 (Conv2D)           (None, 24, 24, 64)        36928     \n",
      "                                                                 \n",
      " max_pooling2d (MaxPooling2  (None, 12, 12, 64)        0         \n",
      " D)                                                              \n",
      "                                                                 \n",
      " conv2d_2 (Conv2D)           (None, 10, 10, 128)       73856     \n",
      "                                                                 \n",
      " conv2d_3 (Conv2D)           (None, 8, 8, 128)         147584    \n",
      "                                                                 \n",
      " global_average_pooling2d (  (None, 128)               0         \n",
      " GlobalAveragePooling2D)                                         \n",
      "                                                                 \n",
      " dropout (Dropout)           (None, 128)               0         \n",
      "                                                                 \n",
      " dense (Dense)               (None, 10)                1290      \n",
      "                                                                 \n",
      "=================================================================\n",
      "Total params: 260298 (1016.79 KB)\n",
      "Trainable params: 260298 (1016.79 KB)\n",
      "Non-trainable params: 0 (0.00 Byte)\n",
      "_________________________________________________________________\n"
     ]
    }
   ],
   "source": [
    "model.summary()"
   ]
  },
  {
   "cell_type": "code",
   "execution_count": 8,
   "id": "99f7dc21",
   "metadata": {
    "execution": {
     "iopub.execute_input": "2024-01-14T06:45:34.988547Z",
     "iopub.status.busy": "2024-01-14T06:45:34.988241Z",
     "iopub.status.idle": "2024-01-14T06:45:35.007924Z",
     "shell.execute_reply": "2024-01-14T06:45:35.007223Z"
    },
    "papermill": {
     "duration": 0.029735,
     "end_time": "2024-01-14T06:45:35.009936",
     "exception": false,
     "start_time": "2024-01-14T06:45:34.980201",
     "status": "completed"
    },
    "tags": []
   },
   "outputs": [],
   "source": [
    "model.compile(\n",
    "    loss=keras.losses.SparseCategoricalCrossentropy(),\n",
    "    optimizer=keras.optimizers.Adam(learning_rate=1e-3),\n",
    "    metrics=[\n",
    "        keras.metrics.SparseCategoricalAccuracy(name=\"acc\"),\n",
    "    ],\n",
    ")"
   ]
  },
  {
   "cell_type": "code",
   "execution_count": 9,
   "id": "6d115a67",
   "metadata": {
    "execution": {
     "iopub.execute_input": "2024-01-14T06:45:35.025079Z",
     "iopub.status.busy": "2024-01-14T06:45:35.024813Z",
     "iopub.status.idle": "2024-01-14T06:46:35.659308Z",
     "shell.execute_reply": "2024-01-14T06:46:35.658190Z"
    },
    "papermill": {
     "duration": 60.64425,
     "end_time": "2024-01-14T06:46:35.661243",
     "exception": false,
     "start_time": "2024-01-14T06:45:35.016993",
     "status": "completed"
    },
    "tags": []
   },
   "outputs": [
    {
     "name": "stdout",
     "output_type": "stream",
     "text": [
      "Epoch 1/20\n",
      "399/399 [==============================] - 10s 13ms/step - loss: 0.7418 - acc: 0.7482 - val_loss: 0.1413 - val_acc: 0.9593\n",
      "Epoch 2/20\n",
      "399/399 [==============================] - 5s 11ms/step - loss: 0.2094 - acc: 0.9375 - val_loss: 0.0719 - val_acc: 0.9791\n",
      "Epoch 3/20\n",
      "399/399 [==============================] - 5s 11ms/step - loss: 0.1430 - acc: 0.9583 - val_loss: 0.0585 - val_acc: 0.9824\n",
      "Epoch 4/20\n",
      "399/399 [==============================] - 5s 11ms/step - loss: 0.1176 - acc: 0.9656 - val_loss: 0.0524 - val_acc: 0.9840\n",
      "Epoch 5/20\n",
      "399/399 [==============================] - 5s 11ms/step - loss: 0.0985 - acc: 0.9715 - val_loss: 0.0471 - val_acc: 0.9859\n",
      "Epoch 6/20\n",
      "399/399 [==============================] - 5s 11ms/step - loss: 0.0839 - acc: 0.9751 - val_loss: 0.0364 - val_acc: 0.9906\n",
      "Epoch 7/20\n",
      "399/399 [==============================] - 5s 12ms/step - loss: 0.0767 - acc: 0.9780 - val_loss: 0.0342 - val_acc: 0.9896\n",
      "Epoch 8/20\n",
      "399/399 [==============================] - 5s 11ms/step - loss: 0.0686 - acc: 0.9797 - val_loss: 0.0314 - val_acc: 0.9907\n",
      "Epoch 9/20\n",
      "399/399 [==============================] - 5s 11ms/step - loss: 0.0606 - acc: 0.9814 - val_loss: 0.0296 - val_acc: 0.9906\n",
      "Epoch 10/20\n",
      "399/399 [==============================] - 5s 11ms/step - loss: 0.0556 - acc: 0.9836 - val_loss: 0.0271 - val_acc: 0.9921\n",
      "Epoch 11/20\n",
      "399/399 [==============================] - 5s 12ms/step - loss: 0.0535 - acc: 0.9845 - val_loss: 0.0344 - val_acc: 0.9907\n",
      "Epoch 12/20\n",
      "399/399 [==============================] - 5s 11ms/step - loss: 0.0509 - acc: 0.9851 - val_loss: 0.0299 - val_acc: 0.9917\n"
     ]
    },
    {
     "data": {
      "text/plain": [
       "<keras.src.callbacks.History at 0x7f3ad091fee0>"
      ]
     },
     "execution_count": 9,
     "metadata": {},
     "output_type": "execute_result"
    }
   ],
   "source": [
    "batch_size=128\n",
    "epochs = 20\n",
    "\n",
    "callbacks = [\n",
    "    keras.callbacks.ModelCheckpoint(filepath=\"model_at_epoch_{epoch}.keras\"),\n",
    "    keras.callbacks.EarlyStopping(monitor=\"val_loss\", patience=2)\n",
    "]\n",
    "\n",
    "model.fit(\n",
    "    X_train,\n",
    "    y_train,\n",
    "    batch_size=batch_size,\n",
    "epochs=epochs,\n",
    "validation_split=0.15,\n",
    "callbacks=callbacks)"
   ]
  },
  {
   "cell_type": "code",
   "execution_count": 10,
   "id": "b6aa63f5",
   "metadata": {
    "execution": {
     "iopub.execute_input": "2024-01-14T06:46:35.895823Z",
     "iopub.status.busy": "2024-01-14T06:46:35.895367Z",
     "iopub.status.idle": "2024-01-14T06:46:36.889004Z",
     "shell.execute_reply": "2024-01-14T06:46:36.888164Z"
    },
    "papermill": {
     "duration": 1.09466,
     "end_time": "2024-01-14T06:46:36.891357",
     "exception": false,
     "start_time": "2024-01-14T06:46:35.796697",
     "status": "completed"
    },
    "tags": []
   },
   "outputs": [],
   "source": [
    "score = model.evaluate(X_test, y_test, verbose=0)"
   ]
  },
  {
   "cell_type": "code",
   "execution_count": 11,
   "id": "742ac50c",
   "metadata": {
    "execution": {
     "iopub.execute_input": "2024-01-14T06:46:37.059371Z",
     "iopub.status.busy": "2024-01-14T06:46:37.058497Z",
     "iopub.status.idle": "2024-01-14T06:46:37.953335Z",
     "shell.execute_reply": "2024-01-14T06:46:37.952488Z"
    },
    "papermill": {
     "duration": 0.980165,
     "end_time": "2024-01-14T06:46:37.955508",
     "exception": false,
     "start_time": "2024-01-14T06:46:36.975343",
     "status": "completed"
    },
    "tags": []
   },
   "outputs": [
    {
     "name": "stdout",
     "output_type": "stream",
     "text": [
      "313/313 [==============================] - 1s 2ms/step\n"
     ]
    }
   ],
   "source": [
    "prediction = model.predict(X_test)"
   ]
  },
  {
   "cell_type": "code",
   "execution_count": 12,
   "id": "87d69554",
   "metadata": {
    "execution": {
     "iopub.execute_input": "2024-01-14T06:46:38.125808Z",
     "iopub.status.busy": "2024-01-14T06:46:38.125469Z",
     "iopub.status.idle": "2024-01-14T06:46:38.131862Z",
     "shell.execute_reply": "2024-01-14T06:46:38.130915Z"
    },
    "papermill": {
     "duration": 0.092827,
     "end_time": "2024-01-14T06:46:38.133661",
     "exception": false,
     "start_time": "2024-01-14T06:46:38.040834",
     "status": "completed"
    },
    "tags": []
   },
   "outputs": [
    {
     "data": {
      "text/plain": [
       "array([1.2513242e-09, 2.4204944e-08, 4.9889150e-06, 2.4020288e-08,\n",
       "       3.6691716e-09, 5.9943978e-10, 7.8984042e-17, 9.9999225e-01,\n",
       "       9.6838378e-11, 2.6823393e-06], dtype=float32)"
      ]
     },
     "execution_count": 12,
     "metadata": {},
     "output_type": "execute_result"
    }
   ],
   "source": [
    "prediction[0]"
   ]
  },
  {
   "cell_type": "code",
   "execution_count": 13,
   "id": "2ceb7121",
   "metadata": {
    "execution": {
     "iopub.execute_input": "2024-01-14T06:46:38.305289Z",
     "iopub.status.busy": "2024-01-14T06:46:38.304689Z",
     "iopub.status.idle": "2024-01-14T06:46:38.310861Z",
     "shell.execute_reply": "2024-01-14T06:46:38.309809Z"
    },
    "papermill": {
     "duration": 0.095928,
     "end_time": "2024-01-14T06:46:38.312817",
     "exception": false,
     "start_time": "2024-01-14T06:46:38.216889",
     "status": "completed"
    },
    "tags": []
   },
   "outputs": [
    {
     "data": {
      "text/plain": [
       "array([7, 2, 1, ..., 4, 5, 6], dtype=uint8)"
      ]
     },
     "execution_count": 13,
     "metadata": {},
     "output_type": "execute_result"
    }
   ],
   "source": [
    "y_test"
   ]
  },
  {
   "cell_type": "code",
   "execution_count": 14,
   "id": "0e006f7f",
   "metadata": {
    "execution": {
     "iopub.execute_input": "2024-01-14T06:46:38.481345Z",
     "iopub.status.busy": "2024-01-14T06:46:38.480750Z",
     "iopub.status.idle": "2024-01-14T06:46:39.574443Z",
     "shell.execute_reply": "2024-01-14T06:46:39.573653Z"
    },
    "papermill": {
     "duration": 1.180371,
     "end_time": "2024-01-14T06:46:39.576943",
     "exception": false,
     "start_time": "2024-01-14T06:46:38.396572",
     "status": "completed"
    },
    "tags": []
   },
   "outputs": [],
   "source": [
    "tf.saved_model.save(model, \"/tmp/cnn/1/\")"
   ]
  },
  {
   "cell_type": "code",
   "execution_count": null,
   "id": "26e6e97c",
   "metadata": {
    "papermill": {
     "duration": 0.092571,
     "end_time": "2024-01-14T06:46:39.755474",
     "exception": false,
     "start_time": "2024-01-14T06:46:39.662903",
     "status": "completed"
    },
    "tags": []
   },
   "outputs": [],
   "source": []
  }
 ],
 "metadata": {
  "kaggle": {
   "accelerator": "nvidiaTeslaT4",
   "dataSources": [
    {
     "databundleVersionId": 861823,
     "sourceId": 3004,
     "sourceType": "competition"
    }
   ],
   "dockerImageVersionId": 30636,
   "isGpuEnabled": true,
   "isInternetEnabled": true,
   "language": "python",
   "sourceType": "notebook"
  },
  "kernelspec": {
   "display_name": "Python 3",
   "language": "python",
   "name": "python3"
  },
  "language_info": {
   "codemirror_mode": {
    "name": "ipython",
    "version": 3
   },
   "file_extension": ".py",
   "mimetype": "text/x-python",
   "name": "python",
   "nbconvert_exporter": "python",
   "pygments_lexer": "ipython3",
   "version": "3.10.12"
  },
  "papermill": {
   "default_parameters": {},
   "duration": 87.749877,
   "end_time": "2024-01-14T06:46:42.918636",
   "environment_variables": {},
   "exception": null,
   "input_path": "__notebook__.ipynb",
   "output_path": "__notebook__.ipynb",
   "parameters": {},
   "start_time": "2024-01-14T06:45:15.168759",
   "version": "2.4.0"
  }
 },
 "nbformat": 4,
 "nbformat_minor": 5
}
